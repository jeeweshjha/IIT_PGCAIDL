{
 "cells": [
  {
   "cell_type": "markdown",
   "metadata": {},
   "source": [
    "## Assignment 1 – Predict Sales for Retail Stores\n",
    "\n",
    "**Agenda**\n",
    "\n",
    "  - Join these datasets using Store column\n",
    "  - Fill missing values using appropriate techniques\n",
    "  - Extract new columns from date column and ignore the Data column\n",
    "  - Ignore the customer column for this analysis, since we might not know the customer count for future dates. Hence this      column should not be an input to the model\n",
    "  - Convert non-numerical columns to numerical columns using appropriate methods\n",
    "  - Split data in to training (80%) and testing (20%) (use random_state=1)\n",
    "  - Standardize all input columns using StandardScaler function in sklearn\n",
    "  - Using statsmodels package, identify if the coefficients of the input variables is significant or not. Make sure that you re-build the model until only significant columns are present in the model\n",
    "  - Using relevant influencing columns, build a linear regression model\n",
    "  - Report RMSE, R square value\n",
    "  - Plot the coefficients of the input variables using the bar chart\n",
    "\n",
    "  \n",
    " \n",
    "### Problem Statement : Predict sales value for multiple stores\n",
    "\n",
    "### Dataset :\n",
    "\n",
    " - Dataset: store_sales zip file: sales.csv and store.csv\n",
    "\n",
    " - Dataset Description:\n",
    "\n",
    " - sales.csv: For multiple stores, we have daily sales values for multiple years.\n",
    "\n",
    " - store.csv: Each row provides metadata about a particular store\n",
    " \n",
    "\n",
    "<a href=\"https://intune.timestsw.com/lms/pluginfile.php/1916/mod_assign/introattachment/0/store_sales_dataset.zip?forcedownload=1\">Download Dataset</a>"
   ]
  },
  {
   "cell_type": "code",
   "execution_count": 5,
   "metadata": {},
   "outputs": [],
   "source": [
    "# Import all required libraries\n",
    "import pandas as pd\n",
    "import numpy as np\n",
    "import matplotlib.pyplot as plt\n",
    "%matplotlib inline\n",
    "import seaborn as sns\n",
    "\n",
    "import statsmodels.api as sm\n",
    "from statsmodels.stats.outliers_influence import variance_inflation_factor\n",
    "\n",
    "from sklearn.linear_model import LinearRegression\n",
    "from sklearn.model_selection import train_test_split\n",
    "from sklearn.preprocessing import StandardScaler\n",
    "from sklearn.metrics import r2_score, mean_squared_error"
   ]
  },
  {
   "cell_type": "code",
   "execution_count": 2,
   "metadata": {},
   "outputs": [
    {
     "name": "stdout",
     "output_type": "stream",
     "text": [
      "<class 'pandas.core.frame.DataFrame'>\n",
      "RangeIndex: 1115 entries, 0 to 1114\n",
      "Data columns (total 10 columns):\n",
      " #   Column                     Non-Null Count  Dtype  \n",
      "---  ------                     --------------  -----  \n",
      " 0   Store                      1115 non-null   int64  \n",
      " 1   StoreType                  1115 non-null   object \n",
      " 2   Assortment                 1115 non-null   object \n",
      " 3   CompetitionDistance        1112 non-null   float64\n",
      " 4   CompetitionOpenSinceMonth  761 non-null    float64\n",
      " 5   CompetitionOpenSinceYear   761 non-null    float64\n",
      " 6   Promo2                     1115 non-null   int64  \n",
      " 7   Promo2SinceWeek            571 non-null    float64\n",
      " 8   Promo2SinceYear            571 non-null    float64\n",
      " 9   PromoInterval              571 non-null    object \n",
      "dtypes: float64(5), int64(2), object(3)\n",
      "memory usage: 87.2+ KB\n"
     ]
    }
   ],
   "source": [
    "# load and preview the Store dataset\n",
    "store = pd.read_csv('C:/Users/ejhajee/Downloads/store.csv')\n",
    "store.head()\n",
    "store.info()"
   ]
  },
  {
   "cell_type": "code",
   "execution_count": 7,
   "metadata": {},
   "outputs": [
    {
     "name": "stdout",
     "output_type": "stream",
     "text": [
      "Store                          0\n",
      "StoreType                      0\n",
      "Assortment                     0\n",
      "CompetitionDistance            3\n",
      "CompetitionOpenSinceMonth    354\n",
      "CompetitionOpenSinceYear     354\n",
      "Promo2                         0\n",
      "Promo2SinceWeek              544\n",
      "Promo2SinceYear              544\n",
      "PromoInterval                544\n",
      "dtype: int64\n"
     ]
    }
   ],
   "source": [
    "print(store.isna().sum())"
   ]
  },
  {
   "cell_type": "code",
   "execution_count": 8,
   "metadata": {
    "scrolled": true
   },
   "outputs": [
    {
     "name": "stdout",
     "output_type": "stream",
     "text": [
      "<class 'pandas.core.frame.DataFrame'>\n",
      "RangeIndex: 1017209 entries, 0 to 1017208\n",
      "Data columns (total 9 columns):\n",
      " #   Column         Non-Null Count    Dtype \n",
      "---  ------         --------------    ----- \n",
      " 0   Store          1017209 non-null  int64 \n",
      " 1   DayOfWeek      1017209 non-null  int64 \n",
      " 2   Date           1017209 non-null  object\n",
      " 3   Sales          1017209 non-null  int64 \n",
      " 4   Customers      1017209 non-null  int64 \n",
      " 5   Open           1017209 non-null  int64 \n",
      " 6   Promo          1017209 non-null  int64 \n",
      " 7   StateHoliday   1017209 non-null  object\n",
      " 8   SchoolHoliday  1017209 non-null  int64 \n",
      "dtypes: int64(7), object(2)\n",
      "memory usage: 69.8+ MB\n"
     ]
    },
    {
     "name": "stderr",
     "output_type": "stream",
     "text": [
      "C:\\ProgramData\\Anaconda3\\lib\\site-packages\\IPython\\core\\interactiveshell.py:3071: DtypeWarning: Columns (7) have mixed types.Specify dtype option on import or set low_memory=False.\n",
      "  has_raised = await self.run_ast_nodes(code_ast.body, cell_name,\n"
     ]
    }
   ],
   "source": [
    "# load and preview the Sales dataset\n",
    "sales = pd.read_csv('C:/Users/ejhajee/Downloads/sales.csv')\n",
    "sales.head()\n",
    "sales.info()"
   ]
  },
  {
   "cell_type": "code",
   "execution_count": 9,
   "metadata": {},
   "outputs": [
    {
     "name": "stdout",
     "output_type": "stream",
     "text": [
      "Store            0\n",
      "DayOfWeek        0\n",
      "Date             0\n",
      "Sales            0\n",
      "Customers        0\n",
      "Open             0\n",
      "Promo            0\n",
      "StateHoliday     0\n",
      "SchoolHoliday    0\n",
      "dtype: int64\n"
     ]
    }
   ],
   "source": [
    "print(sales.isna().sum())"
   ]
  },
  {
   "cell_type": "code",
   "execution_count": 10,
   "metadata": {},
   "outputs": [
    {
     "name": "stdout",
     "output_type": "stream",
     "text": [
      "Sales data size: (1017209, 9)\n",
      "<class 'pandas.core.frame.DataFrame'>\n",
      "RangeIndex: 1017209 entries, 0 to 1017208\n",
      "Data columns (total 9 columns):\n",
      " #   Column         Non-Null Count    Dtype \n",
      "---  ------         --------------    ----- \n",
      " 0   Store          1017209 non-null  int64 \n",
      " 1   DayOfWeek      1017209 non-null  int64 \n",
      " 2   Date           1017209 non-null  object\n",
      " 3   Sales          1017209 non-null  int64 \n",
      " 4   Customers      1017209 non-null  int64 \n",
      " 5   Open           1017209 non-null  int64 \n",
      " 6   Promo          1017209 non-null  int64 \n",
      " 7   StateHoliday   1017209 non-null  object\n",
      " 8   SchoolHoliday  1017209 non-null  int64 \n",
      "dtypes: int64(7), object(2)\n",
      "memory usage: 69.8+ MB\n"
     ]
    }
   ],
   "source": [
    "# Figure out the shape of data and missing dataset\n",
    "print('Sales data size:', sales.shape)\n",
    "sales.info()\n",
    "# As per the result below no missing values found"
   ]
  },
  {
   "cell_type": "markdown",
   "metadata": {},
   "source": [
    "## Data Dictionary\n",
    "\n",
    "### Sales\n",
    " - Variables - 9\n",
    " - Observations - 1017209\n",
    " \n",
    "## Integer Variables:\n",
    " - Store\n",
    " - DayOfWeek\n",
    " - Sales\n",
    " - Customers\n",
    " - Promo\n",
    " - SchoolHoliday\n",
    " \n",
    "## Categorical Variables:\n",
    " - Date\n",
    " - StateHoliday\n",
    " \n",
    " ## NA Values\n",
    " - None\n",
    " \n",
    " ### Store\n",
    " - Variables - 10\n",
    " - Observations - 1115\n",
    " \n",
    "## Integer Variables:\n",
    " - Store\n",
    " - CompetitionDistance\n",
    " - CompetitionOpenSinceMonth\n",
    " - CompetitionOpenSinceYear\n",
    " - Promo2\n",
    " - Promo2SinceWeek\n",
    " - Promo2SinceYear\n",
    " \n",
    "## Categorical Variables:\n",
    " - StoreType\n",
    " - Assortment\n",
    " - PromoInterval\n",
    " \n",
    " ## NA Values\n",
    " - CompetitionDistance          3\n",
    " - CompetitionOpenSinceMonth    354\n",
    " - CompetitionOpenSinceYear     354\n",
    " - Promo2SinceWeek              544\n",
    " - Promo2SinceYear              544\n",
    " - PromoInterval                544"
   ]
  },
  {
   "cell_type": "code",
   "execution_count": 11,
   "metadata": {},
   "outputs": [],
   "source": [
    "#1. Join these Sales & Store datasets using Store column\n",
    "store_sales =pd.merge(sales, store, on=\"Store\")"
   ]
  },
  {
   "cell_type": "code",
   "execution_count": 12,
   "metadata": {},
   "outputs": [],
   "source": [
    "# 4. Ignore the customer column for this analysis, since we might not know the customer count for future dates. \n",
    "# Hence this column should not be an input to the model\n",
    "store_sales.drop('Customers', axis=1, inplace=True)"
   ]
  },
  {
   "cell_type": "code",
   "execution_count": 13,
   "metadata": {},
   "outputs": [],
   "source": [
    "# 2. Fill missing values using appropriate techniques\n",
    "# Fill the NULL values with mean(), mode() and max() values for numerical columns and with No Event for categorical Columns\n",
    "store_sales['CompetitionDistance'].fillna(value=store_sales['CompetitionDistance'].mean(), inplace=True)\n",
    "store_sales['CompetitionOpenSinceMonth'].fillna(value=store_sales['CompetitionOpenSinceMonth'].mode()[0], inplace=True)\n",
    "store_sales['CompetitionOpenSinceYear'].fillna(value=store_sales['CompetitionOpenSinceYear'].max(), inplace=True)\n",
    "store_sales['Promo2'].fillna(value=0, inplace=True)\n",
    "store_sales['CompetitionOpenSinceYear'].fillna(value=store_sales['CompetitionOpenSinceYear'].max(), inplace=True)\n",
    "store_sales['Promo2SinceWeek'].fillna(value=store_sales['Promo2SinceWeek'].mode()[0], inplace=True)\n",
    "store_sales['Promo2SinceYear'].fillna(value=store_sales['Promo2SinceYear'].max(), inplace=True)\n",
    "store_sales['PromoInterval'].fillna(value='No Event', inplace=True)\n",
    "#store_sales.info()"
   ]
  },
  {
   "cell_type": "code",
   "execution_count": 14,
   "metadata": {},
   "outputs": [
    {
     "name": "stdout",
     "output_type": "stream",
     "text": [
      "Shape Of Merged Data: (1017209, 17)\n",
      "<class 'pandas.core.frame.DataFrame'>\n",
      "Int64Index: 1017209 entries, 0 to 1017208\n",
      "Data columns (total 17 columns):\n",
      " #   Column                     Non-Null Count    Dtype  \n",
      "---  ------                     --------------    -----  \n",
      " 0   Store                      1017209 non-null  int64  \n",
      " 1   DayOfWeek                  1017209 non-null  int64  \n",
      " 2   Date                       1017209 non-null  object \n",
      " 3   Sales                      1017209 non-null  int64  \n",
      " 4   Open                       1017209 non-null  int64  \n",
      " 5   Promo                      1017209 non-null  int64  \n",
      " 6   StateHoliday               1017209 non-null  object \n",
      " 7   SchoolHoliday              1017209 non-null  int64  \n",
      " 8   StoreType                  1017209 non-null  object \n",
      " 9   Assortment                 1017209 non-null  object \n",
      " 10  CompetitionDistance        1017209 non-null  float64\n",
      " 11  CompetitionOpenSinceMonth  1017209 non-null  float64\n",
      " 12  CompetitionOpenSinceYear   1017209 non-null  float64\n",
      " 13  Promo2                     1017209 non-null  int64  \n",
      " 14  Promo2SinceWeek            1017209 non-null  float64\n",
      " 15  Promo2SinceYear            1017209 non-null  float64\n",
      " 16  PromoInterval              1017209 non-null  object \n",
      "dtypes: float64(5), int64(7), object(5)\n",
      "memory usage: 139.7+ MB\n",
      "Info of Merged Data: None\n"
     ]
    }
   ],
   "source": [
    "# Shape and info for merged data\n",
    "print(\"Shape Of Merged Data:\", store_sales.shape)\n",
    "print(\"Info of Merged Data:\", store_sales.info())"
   ]
  },
  {
   "cell_type": "code",
   "execution_count": 15,
   "metadata": {},
   "outputs": [
    {
     "data": {
      "text/html": [
       "<div>\n",
       "<style scoped>\n",
       "    .dataframe tbody tr th:only-of-type {\n",
       "        vertical-align: middle;\n",
       "    }\n",
       "\n",
       "    .dataframe tbody tr th {\n",
       "        vertical-align: top;\n",
       "    }\n",
       "\n",
       "    .dataframe thead th {\n",
       "        text-align: right;\n",
       "    }\n",
       "</style>\n",
       "<table border=\"1\" class=\"dataframe\">\n",
       "  <thead>\n",
       "    <tr style=\"text-align: right;\">\n",
       "      <th></th>\n",
       "      <th>Store</th>\n",
       "      <th>DayOfWeek</th>\n",
       "      <th>Date</th>\n",
       "      <th>Sales</th>\n",
       "      <th>Open</th>\n",
       "      <th>Promo</th>\n",
       "      <th>StateHoliday</th>\n",
       "      <th>SchoolHoliday</th>\n",
       "      <th>StoreType</th>\n",
       "      <th>Assortment</th>\n",
       "      <th>CompetitionDistance</th>\n",
       "      <th>CompetitionOpenSinceMonth</th>\n",
       "      <th>CompetitionOpenSinceYear</th>\n",
       "      <th>Promo2</th>\n",
       "      <th>Promo2SinceWeek</th>\n",
       "      <th>Promo2SinceYear</th>\n",
       "      <th>PromoInterval</th>\n",
       "    </tr>\n",
       "  </thead>\n",
       "  <tbody>\n",
       "    <tr>\n",
       "      <th>0</th>\n",
       "      <td>1</td>\n",
       "      <td>5</td>\n",
       "      <td>2015-07-31</td>\n",
       "      <td>5263</td>\n",
       "      <td>1</td>\n",
       "      <td>1</td>\n",
       "      <td>0</td>\n",
       "      <td>1</td>\n",
       "      <td>c</td>\n",
       "      <td>a</td>\n",
       "      <td>1270.0</td>\n",
       "      <td>9.0</td>\n",
       "      <td>2008.0</td>\n",
       "      <td>0</td>\n",
       "      <td>14.0</td>\n",
       "      <td>2015.0</td>\n",
       "      <td>No Event</td>\n",
       "    </tr>\n",
       "    <tr>\n",
       "      <th>1</th>\n",
       "      <td>1</td>\n",
       "      <td>4</td>\n",
       "      <td>2015-07-30</td>\n",
       "      <td>5020</td>\n",
       "      <td>1</td>\n",
       "      <td>1</td>\n",
       "      <td>0</td>\n",
       "      <td>1</td>\n",
       "      <td>c</td>\n",
       "      <td>a</td>\n",
       "      <td>1270.0</td>\n",
       "      <td>9.0</td>\n",
       "      <td>2008.0</td>\n",
       "      <td>0</td>\n",
       "      <td>14.0</td>\n",
       "      <td>2015.0</td>\n",
       "      <td>No Event</td>\n",
       "    </tr>\n",
       "    <tr>\n",
       "      <th>2</th>\n",
       "      <td>1</td>\n",
       "      <td>3</td>\n",
       "      <td>2015-07-29</td>\n",
       "      <td>4782</td>\n",
       "      <td>1</td>\n",
       "      <td>1</td>\n",
       "      <td>0</td>\n",
       "      <td>1</td>\n",
       "      <td>c</td>\n",
       "      <td>a</td>\n",
       "      <td>1270.0</td>\n",
       "      <td>9.0</td>\n",
       "      <td>2008.0</td>\n",
       "      <td>0</td>\n",
       "      <td>14.0</td>\n",
       "      <td>2015.0</td>\n",
       "      <td>No Event</td>\n",
       "    </tr>\n",
       "    <tr>\n",
       "      <th>3</th>\n",
       "      <td>1</td>\n",
       "      <td>2</td>\n",
       "      <td>2015-07-28</td>\n",
       "      <td>5011</td>\n",
       "      <td>1</td>\n",
       "      <td>1</td>\n",
       "      <td>0</td>\n",
       "      <td>1</td>\n",
       "      <td>c</td>\n",
       "      <td>a</td>\n",
       "      <td>1270.0</td>\n",
       "      <td>9.0</td>\n",
       "      <td>2008.0</td>\n",
       "      <td>0</td>\n",
       "      <td>14.0</td>\n",
       "      <td>2015.0</td>\n",
       "      <td>No Event</td>\n",
       "    </tr>\n",
       "    <tr>\n",
       "      <th>4</th>\n",
       "      <td>1</td>\n",
       "      <td>1</td>\n",
       "      <td>2015-07-27</td>\n",
       "      <td>6102</td>\n",
       "      <td>1</td>\n",
       "      <td>1</td>\n",
       "      <td>0</td>\n",
       "      <td>1</td>\n",
       "      <td>c</td>\n",
       "      <td>a</td>\n",
       "      <td>1270.0</td>\n",
       "      <td>9.0</td>\n",
       "      <td>2008.0</td>\n",
       "      <td>0</td>\n",
       "      <td>14.0</td>\n",
       "      <td>2015.0</td>\n",
       "      <td>No Event</td>\n",
       "    </tr>\n",
       "  </tbody>\n",
       "</table>\n",
       "</div>"
      ],
      "text/plain": [
       "   Store  DayOfWeek        Date  Sales  Open  Promo StateHoliday  \\\n",
       "0      1          5  2015-07-31   5263     1      1            0   \n",
       "1      1          4  2015-07-30   5020     1      1            0   \n",
       "2      1          3  2015-07-29   4782     1      1            0   \n",
       "3      1          2  2015-07-28   5011     1      1            0   \n",
       "4      1          1  2015-07-27   6102     1      1            0   \n",
       "\n",
       "   SchoolHoliday StoreType Assortment  CompetitionDistance  \\\n",
       "0              1         c          a               1270.0   \n",
       "1              1         c          a               1270.0   \n",
       "2              1         c          a               1270.0   \n",
       "3              1         c          a               1270.0   \n",
       "4              1         c          a               1270.0   \n",
       "\n",
       "   CompetitionOpenSinceMonth  CompetitionOpenSinceYear  Promo2  \\\n",
       "0                        9.0                    2008.0       0   \n",
       "1                        9.0                    2008.0       0   \n",
       "2                        9.0                    2008.0       0   \n",
       "3                        9.0                    2008.0       0   \n",
       "4                        9.0                    2008.0       0   \n",
       "\n",
       "   Promo2SinceWeek  Promo2SinceYear PromoInterval  \n",
       "0             14.0           2015.0      No Event  \n",
       "1             14.0           2015.0      No Event  \n",
       "2             14.0           2015.0      No Event  \n",
       "3             14.0           2015.0      No Event  \n",
       "4             14.0           2015.0      No Event  "
      ]
     },
     "execution_count": 15,
     "metadata": {},
     "output_type": "execute_result"
    }
   ],
   "source": [
    "# Observe the values for merged data\n",
    "store_sales.head()"
   ]
  },
  {
   "cell_type": "code",
   "execution_count": 16,
   "metadata": {},
   "outputs": [],
   "source": [
    "# Add Date field for predictions\n",
    "store_sales['Date']= pd.to_datetime(store_sales['Date'])"
   ]
  },
  {
   "cell_type": "code",
   "execution_count": 17,
   "metadata": {},
   "outputs": [],
   "source": [
    "# 3. Extract new columns Year. Moth and Day from date column and ignore the Date column\n",
    "store_sales['Year']=store_sales['Date'].dt.year\n",
    "store_sales['Month']=store_sales['Date'].dt.month\n",
    "store_sales['Day']=store_sales['Date'].dt.day"
   ]
  },
  {
   "cell_type": "code",
   "execution_count": 18,
   "metadata": {},
   "outputs": [],
   "source": [
    "# After extracting the new date columns, ignoring the Date column\n",
    "store_sales.drop(\"Date\", axis=1, inplace=True)"
   ]
  },
  {
   "cell_type": "code",
   "execution_count": 19,
   "metadata": {},
   "outputs": [
    {
     "data": {
      "text/html": [
       "<div>\n",
       "<style scoped>\n",
       "    .dataframe tbody tr th:only-of-type {\n",
       "        vertical-align: middle;\n",
       "    }\n",
       "\n",
       "    .dataframe tbody tr th {\n",
       "        vertical-align: top;\n",
       "    }\n",
       "\n",
       "    .dataframe thead th {\n",
       "        text-align: right;\n",
       "    }\n",
       "</style>\n",
       "<table border=\"1\" class=\"dataframe\">\n",
       "  <thead>\n",
       "    <tr style=\"text-align: right;\">\n",
       "      <th></th>\n",
       "      <th>Store</th>\n",
       "      <th>DayOfWeek</th>\n",
       "      <th>Sales</th>\n",
       "      <th>Open</th>\n",
       "      <th>Promo</th>\n",
       "      <th>StateHoliday</th>\n",
       "      <th>SchoolHoliday</th>\n",
       "      <th>StoreType</th>\n",
       "      <th>Assortment</th>\n",
       "      <th>CompetitionDistance</th>\n",
       "      <th>CompetitionOpenSinceMonth</th>\n",
       "      <th>CompetitionOpenSinceYear</th>\n",
       "      <th>Promo2</th>\n",
       "      <th>Promo2SinceWeek</th>\n",
       "      <th>Promo2SinceYear</th>\n",
       "      <th>PromoInterval</th>\n",
       "      <th>Year</th>\n",
       "      <th>Month</th>\n",
       "      <th>Day</th>\n",
       "    </tr>\n",
       "  </thead>\n",
       "  <tbody>\n",
       "    <tr>\n",
       "      <th>0</th>\n",
       "      <td>1</td>\n",
       "      <td>5</td>\n",
       "      <td>5263</td>\n",
       "      <td>1</td>\n",
       "      <td>1</td>\n",
       "      <td>0</td>\n",
       "      <td>1</td>\n",
       "      <td>c</td>\n",
       "      <td>a</td>\n",
       "      <td>1270.0</td>\n",
       "      <td>9.0</td>\n",
       "      <td>2008.0</td>\n",
       "      <td>0</td>\n",
       "      <td>14.0</td>\n",
       "      <td>2015.0</td>\n",
       "      <td>No Event</td>\n",
       "      <td>2015</td>\n",
       "      <td>7</td>\n",
       "      <td>31</td>\n",
       "    </tr>\n",
       "    <tr>\n",
       "      <th>1</th>\n",
       "      <td>1</td>\n",
       "      <td>4</td>\n",
       "      <td>5020</td>\n",
       "      <td>1</td>\n",
       "      <td>1</td>\n",
       "      <td>0</td>\n",
       "      <td>1</td>\n",
       "      <td>c</td>\n",
       "      <td>a</td>\n",
       "      <td>1270.0</td>\n",
       "      <td>9.0</td>\n",
       "      <td>2008.0</td>\n",
       "      <td>0</td>\n",
       "      <td>14.0</td>\n",
       "      <td>2015.0</td>\n",
       "      <td>No Event</td>\n",
       "      <td>2015</td>\n",
       "      <td>7</td>\n",
       "      <td>30</td>\n",
       "    </tr>\n",
       "    <tr>\n",
       "      <th>2</th>\n",
       "      <td>1</td>\n",
       "      <td>3</td>\n",
       "      <td>4782</td>\n",
       "      <td>1</td>\n",
       "      <td>1</td>\n",
       "      <td>0</td>\n",
       "      <td>1</td>\n",
       "      <td>c</td>\n",
       "      <td>a</td>\n",
       "      <td>1270.0</td>\n",
       "      <td>9.0</td>\n",
       "      <td>2008.0</td>\n",
       "      <td>0</td>\n",
       "      <td>14.0</td>\n",
       "      <td>2015.0</td>\n",
       "      <td>No Event</td>\n",
       "      <td>2015</td>\n",
       "      <td>7</td>\n",
       "      <td>29</td>\n",
       "    </tr>\n",
       "    <tr>\n",
       "      <th>3</th>\n",
       "      <td>1</td>\n",
       "      <td>2</td>\n",
       "      <td>5011</td>\n",
       "      <td>1</td>\n",
       "      <td>1</td>\n",
       "      <td>0</td>\n",
       "      <td>1</td>\n",
       "      <td>c</td>\n",
       "      <td>a</td>\n",
       "      <td>1270.0</td>\n",
       "      <td>9.0</td>\n",
       "      <td>2008.0</td>\n",
       "      <td>0</td>\n",
       "      <td>14.0</td>\n",
       "      <td>2015.0</td>\n",
       "      <td>No Event</td>\n",
       "      <td>2015</td>\n",
       "      <td>7</td>\n",
       "      <td>28</td>\n",
       "    </tr>\n",
       "    <tr>\n",
       "      <th>4</th>\n",
       "      <td>1</td>\n",
       "      <td>1</td>\n",
       "      <td>6102</td>\n",
       "      <td>1</td>\n",
       "      <td>1</td>\n",
       "      <td>0</td>\n",
       "      <td>1</td>\n",
       "      <td>c</td>\n",
       "      <td>a</td>\n",
       "      <td>1270.0</td>\n",
       "      <td>9.0</td>\n",
       "      <td>2008.0</td>\n",
       "      <td>0</td>\n",
       "      <td>14.0</td>\n",
       "      <td>2015.0</td>\n",
       "      <td>No Event</td>\n",
       "      <td>2015</td>\n",
       "      <td>7</td>\n",
       "      <td>27</td>\n",
       "    </tr>\n",
       "  </tbody>\n",
       "</table>\n",
       "</div>"
      ],
      "text/plain": [
       "   Store  DayOfWeek  Sales  Open  Promo StateHoliday  SchoolHoliday StoreType  \\\n",
       "0      1          5   5263     1      1            0              1         c   \n",
       "1      1          4   5020     1      1            0              1         c   \n",
       "2      1          3   4782     1      1            0              1         c   \n",
       "3      1          2   5011     1      1            0              1         c   \n",
       "4      1          1   6102     1      1            0              1         c   \n",
       "\n",
       "  Assortment  CompetitionDistance  CompetitionOpenSinceMonth  \\\n",
       "0          a               1270.0                        9.0   \n",
       "1          a               1270.0                        9.0   \n",
       "2          a               1270.0                        9.0   \n",
       "3          a               1270.0                        9.0   \n",
       "4          a               1270.0                        9.0   \n",
       "\n",
       "   CompetitionOpenSinceYear  Promo2  Promo2SinceWeek  Promo2SinceYear  \\\n",
       "0                    2008.0       0             14.0           2015.0   \n",
       "1                    2008.0       0             14.0           2015.0   \n",
       "2                    2008.0       0             14.0           2015.0   \n",
       "3                    2008.0       0             14.0           2015.0   \n",
       "4                    2008.0       0             14.0           2015.0   \n",
       "\n",
       "  PromoInterval  Year  Month  Day  \n",
       "0      No Event  2015      7   31  \n",
       "1      No Event  2015      7   30  \n",
       "2      No Event  2015      7   29  \n",
       "3      No Event  2015      7   28  \n",
       "4      No Event  2015      7   27  "
      ]
     },
     "execution_count": 19,
     "metadata": {},
     "output_type": "execute_result"
    }
   ],
   "source": [
    "store_sales.head()"
   ]
  },
  {
   "cell_type": "markdown",
   "metadata": {},
   "source": [
    "### Explore the data"
   ]
  },
  {
   "cell_type": "code",
   "execution_count": 20,
   "metadata": {},
   "outputs": [
    {
     "data": {
      "image/png": "[encoded data removed]",
      "text/plain": [
       "<Figure size 432x288 with 1 Axes>"
      ]
     },
     "metadata": {
      "needs_background": "light"
     },
     "output_type": "display_data"
    }
   ],
   "source": [
    "# Distribution of Sales\n",
    "plt.hist(store_sales['Sales'])\n",
    "plt.show()"
   ]
  },
  {
   "cell_type": "code",
   "execution_count": 21,
   "metadata": {},
   "outputs": [
    {
     "data": {
      "image/png": "[encoded data removed]",
      "text/plain": [
       "<Figure size 432x288 with 1 Axes>"
      ]
     },
     "metadata": {
      "needs_background": "light"
     },
     "output_type": "display_data"
    }
   ],
   "source": [
    " #distribution of sales\n",
    "plt.hist(store_sales['Sales'])\n",
    "plt.xlabel('Sales')\n",
    "plt.ylabel('Store')\n",
    "plt.title('Sales Store-wise')\n",
    "plt.show()"
   ]
  },
  {
   "cell_type": "code",
   "execution_count": 22,
   "metadata": {},
   "outputs": [
    {
     "data": {
      "text/plain": [
       "array([[<matplotlib.axes._subplots.AxesSubplot object at 0x0000021892587D30>,\n",
       "        <matplotlib.axes._subplots.AxesSubplot object at 0x0000021892B26220>],\n",
       "       [<matplotlib.axes._subplots.AxesSubplot object at 0x0000021892B516A0>,\n",
       "        <matplotlib.axes._subplots.AxesSubplot object at 0x0000021892B7EB20>]],\n",
       "      dtype=object)"
      ]
     },
     "execution_count": 22,
     "metadata": {},
     "output_type": "execute_result"
    },
    {
     "data": {
      "image/png": "[encoded data removed]",
      "text/plain": [
       "<Figure size 432x288 with 4 Axes>"
      ]
     },
     "metadata": {
      "needs_background": "light"
     },
     "output_type": "display_data"
    }
   ],
   "source": [
    " #distribution of sales\n",
    "store_sales.Sales.hist(by=store_sales.StoreType)"
   ]
  },
  {
   "cell_type": "code",
   "execution_count": 23,
   "metadata": {},
   "outputs": [
    {
     "name": "stdout",
     "output_type": "stream",
     "text": [
      "Independent Columns: ['Store', 'DayOfWeek', 'Open', 'Promo', 'StateHoliday', 'SchoolHoliday', 'StoreType', 'Assortment', 'CompetitionDistance', 'CompetitionOpenSinceMonth', 'CompetitionOpenSinceYear', 'Promo2', 'Promo2SinceWeek', 'Promo2SinceYear', 'PromoInterval', 'Year', 'Month', 'Day']\n",
      "Dependent Columns: Sales\n"
     ]
    }
   ],
   "source": [
    "#Identifying Independent X and dependent Y variables\n",
    "y_cols = \"Sales\"\n",
    "X_cols=list(store_sales.columns)\n",
    "# Removing the target column from Independent Variables\n",
    "X_cols.remove('Sales')\n",
    "# Displaying the Independent and Dependent variables\n",
    "print(\"Independent Columns:\", X_cols)\n",
    "print(\"Dependent Columns:\", y_cols)"
   ]
  },
  {
   "cell_type": "code",
   "execution_count": 24,
   "metadata": {},
   "outputs": [],
   "source": [
    "# Convert non-numerical columns to numerical columns using appropriate methods\n",
    "# Use one hot encoding to encode char dataset into numeric\n",
    "X_encoded_data = pd.get_dummies(store_sales[X_cols], drop_first=True)"
   ]
  },
  {
   "cell_type": "code",
   "execution_count": 25,
   "metadata": {},
   "outputs": [],
   "source": [
    "# Making a copy of encoded X and Y columns\n",
    "X= X_encoded_data.copy()\n",
    "Y=store_sales[\"Sales\"].copy()"
   ]
  },
  {
   "cell_type": "code",
   "execution_count": 26,
   "metadata": {},
   "outputs": [
    {
     "name": "stdout",
     "output_type": "stream",
     "text": [
      "<class 'pandas.core.frame.DataFrame'>\n",
      "Int64Index: 1017209 entries, 0 to 1017208\n",
      "Data columns (total 26 columns):\n",
      " #   Column                          Non-Null Count    Dtype  \n",
      "---  ------                          --------------    -----  \n",
      " 0   Store                           1017209 non-null  int64  \n",
      " 1   DayOfWeek                       1017209 non-null  int64  \n",
      " 2   Open                            1017209 non-null  int64  \n",
      " 3   Promo                           1017209 non-null  int64  \n",
      " 4   SchoolHoliday                   1017209 non-null  int64  \n",
      " 5   CompetitionDistance             1017209 non-null  float64\n",
      " 6   CompetitionOpenSinceMonth       1017209 non-null  float64\n",
      " 7   CompetitionOpenSinceYear        1017209 non-null  float64\n",
      " 8   Promo2                          1017209 non-null  int64  \n",
      " 9   Promo2SinceWeek                 1017209 non-null  float64\n",
      " 10  Promo2SinceYear                 1017209 non-null  float64\n",
      " 11  Year                            1017209 non-null  int64  \n",
      " 12  Month                           1017209 non-null  int64  \n",
      " 13  Day                             1017209 non-null  int64  \n",
      " 14  StateHoliday_0                  1017209 non-null  uint8  \n",
      " 15  StateHoliday_a                  1017209 non-null  uint8  \n",
      " 16  StateHoliday_b                  1017209 non-null  uint8  \n",
      " 17  StateHoliday_c                  1017209 non-null  uint8  \n",
      " 18  StoreType_b                     1017209 non-null  uint8  \n",
      " 19  StoreType_c                     1017209 non-null  uint8  \n",
      " 20  StoreType_d                     1017209 non-null  uint8  \n",
      " 21  Assortment_b                    1017209 non-null  uint8  \n",
      " 22  Assortment_c                    1017209 non-null  uint8  \n",
      " 23  PromoInterval_Jan,Apr,Jul,Oct   1017209 non-null  uint8  \n",
      " 24  PromoInterval_Mar,Jun,Sept,Dec  1017209 non-null  uint8  \n",
      " 25  PromoInterval_No Event          1017209 non-null  uint8  \n",
      "dtypes: float64(5), int64(9), uint8(12)\n",
      "memory usage: 128.1 MB\n"
     ]
    }
   ],
   "source": [
    "X.info()"
   ]
  },
  {
   "cell_type": "code",
   "execution_count": 27,
   "metadata": {},
   "outputs": [],
   "source": [
    "# 6. Split data in to training (80%) and testing (20%) (use random_state=1)\n",
    "X_train, X_test, Y_train, Y_test = train_test_split(X,Y, test_size=0.2, random_state=1)"
   ]
  },
  {
   "cell_type": "code",
   "execution_count": 28,
   "metadata": {},
   "outputs": [
    {
     "name": "stdout",
     "output_type": "stream",
     "text": [
      "X train data shape: (813767, 26)\n",
      "X test data shape: (203442, 26)\n"
     ]
    }
   ],
   "source": [
    "# Check the shape of train and test data sizes\n",
    "print(\"X train data shape:\", X_train.shape)\n",
    "print(\"X test data shape:\", X_test.shape)"
   ]
  },
  {
   "cell_type": "code",
   "execution_count": 29,
   "metadata": {},
   "outputs": [
    {
     "data": {
      "text/html": [
       "<div>\n",
       "<style scoped>\n",
       "    .dataframe tbody tr th:only-of-type {\n",
       "        vertical-align: middle;\n",
       "    }\n",
       "\n",
       "    .dataframe tbody tr th {\n",
       "        vertical-align: top;\n",
       "    }\n",
       "\n",
       "    .dataframe thead th {\n",
       "        text-align: right;\n",
       "    }\n",
       "</style>\n",
       "<table border=\"1\" class=\"dataframe\">\n",
       "  <thead>\n",
       "    <tr style=\"text-align: right;\">\n",
       "      <th></th>\n",
       "      <th>Store</th>\n",
       "      <th>DayOfWeek</th>\n",
       "      <th>Open</th>\n",
       "      <th>Promo</th>\n",
       "      <th>SchoolHoliday</th>\n",
       "      <th>CompetitionDistance</th>\n",
       "      <th>CompetitionOpenSinceMonth</th>\n",
       "      <th>CompetitionOpenSinceYear</th>\n",
       "      <th>Promo2</th>\n",
       "      <th>Promo2SinceWeek</th>\n",
       "      <th>...</th>\n",
       "      <th>StateHoliday_b</th>\n",
       "      <th>StateHoliday_c</th>\n",
       "      <th>StoreType_b</th>\n",
       "      <th>StoreType_c</th>\n",
       "      <th>StoreType_d</th>\n",
       "      <th>Assortment_b</th>\n",
       "      <th>Assortment_c</th>\n",
       "      <th>PromoInterval_Jan,Apr,Jul,Oct</th>\n",
       "      <th>PromoInterval_Mar,Jun,Sept,Dec</th>\n",
       "      <th>PromoInterval_No Event</th>\n",
       "    </tr>\n",
       "  </thead>\n",
       "  <tbody>\n",
       "    <tr>\n",
       "      <th>903560</th>\n",
       "      <td>991</td>\n",
       "      <td>2</td>\n",
       "      <td>1</td>\n",
       "      <td>1</td>\n",
       "      <td>0</td>\n",
       "      <td>1010.0</td>\n",
       "      <td>9.0</td>\n",
       "      <td>2015.0</td>\n",
       "      <td>0</td>\n",
       "      <td>14.0</td>\n",
       "      <td>...</td>\n",
       "      <td>0</td>\n",
       "      <td>0</td>\n",
       "      <td>0</td>\n",
       "      <td>0</td>\n",
       "      <td>0</td>\n",
       "      <td>0</td>\n",
       "      <td>0</td>\n",
       "      <td>0</td>\n",
       "      <td>0</td>\n",
       "      <td>1</td>\n",
       "    </tr>\n",
       "    <tr>\n",
       "      <th>509452</th>\n",
       "      <td>559</td>\n",
       "      <td>5</td>\n",
       "      <td>1</td>\n",
       "      <td>0</td>\n",
       "      <td>0</td>\n",
       "      <td>3910.0</td>\n",
       "      <td>11.0</td>\n",
       "      <td>2006.0</td>\n",
       "      <td>1</td>\n",
       "      <td>5.0</td>\n",
       "      <td>...</td>\n",
       "      <td>0</td>\n",
       "      <td>0</td>\n",
       "      <td>0</td>\n",
       "      <td>0</td>\n",
       "      <td>1</td>\n",
       "      <td>0</td>\n",
       "      <td>0</td>\n",
       "      <td>0</td>\n",
       "      <td>0</td>\n",
       "      <td>0</td>\n",
       "    </tr>\n",
       "    <tr>\n",
       "      <th>570376</th>\n",
       "      <td>626</td>\n",
       "      <td>5</td>\n",
       "      <td>1</td>\n",
       "      <td>0</td>\n",
       "      <td>1</td>\n",
       "      <td>10740.0</td>\n",
       "      <td>11.0</td>\n",
       "      <td>2013.0</td>\n",
       "      <td>0</td>\n",
       "      <td>14.0</td>\n",
       "      <td>...</td>\n",
       "      <td>0</td>\n",
       "      <td>0</td>\n",
       "      <td>0</td>\n",
       "      <td>1</td>\n",
       "      <td>0</td>\n",
       "      <td>0</td>\n",
       "      <td>1</td>\n",
       "      <td>0</td>\n",
       "      <td>0</td>\n",
       "      <td>1</td>\n",
       "    </tr>\n",
       "    <tr>\n",
       "      <th>264963</th>\n",
       "      <td>292</td>\n",
       "      <td>5</td>\n",
       "      <td>1</td>\n",
       "      <td>0</td>\n",
       "      <td>0</td>\n",
       "      <td>1100.0</td>\n",
       "      <td>6.0</td>\n",
       "      <td>2009.0</td>\n",
       "      <td>0</td>\n",
       "      <td>14.0</td>\n",
       "      <td>...</td>\n",
       "      <td>0</td>\n",
       "      <td>0</td>\n",
       "      <td>0</td>\n",
       "      <td>0</td>\n",
       "      <td>0</td>\n",
       "      <td>0</td>\n",
       "      <td>0</td>\n",
       "      <td>0</td>\n",
       "      <td>0</td>\n",
       "      <td>1</td>\n",
       "    </tr>\n",
       "    <tr>\n",
       "      <th>961639</th>\n",
       "      <td>1055</td>\n",
       "      <td>2</td>\n",
       "      <td>1</td>\n",
       "      <td>0</td>\n",
       "      <td>0</td>\n",
       "      <td>1980.0</td>\n",
       "      <td>4.0</td>\n",
       "      <td>2009.0</td>\n",
       "      <td>0</td>\n",
       "      <td>14.0</td>\n",
       "      <td>...</td>\n",
       "      <td>0</td>\n",
       "      <td>0</td>\n",
       "      <td>0</td>\n",
       "      <td>1</td>\n",
       "      <td>0</td>\n",
       "      <td>0</td>\n",
       "      <td>0</td>\n",
       "      <td>0</td>\n",
       "      <td>0</td>\n",
       "      <td>1</td>\n",
       "    </tr>\n",
       "  </tbody>\n",
       "</table>\n",
       "<p>5 rows × 26 columns</p>\n",
       "</div>"
      ],
      "text/plain": [
       "        Store  DayOfWeek  Open  Promo  SchoolHoliday  CompetitionDistance  \\\n",
       "903560    991          2     1      1              0               1010.0   \n",
       "509452    559          5     1      0              0               3910.0   \n",
       "570376    626          5     1      0              1              10740.0   \n",
       "264963    292          5     1      0              0               1100.0   \n",
       "961639   1055          2     1      0              0               1980.0   \n",
       "\n",
       "        CompetitionOpenSinceMonth  CompetitionOpenSinceYear  Promo2  \\\n",
       "903560                        9.0                    2015.0       0   \n",
       "509452                       11.0                    2006.0       1   \n",
       "570376                       11.0                    2013.0       0   \n",
       "264963                        6.0                    2009.0       0   \n",
       "961639                        4.0                    2009.0       0   \n",
       "\n",
       "        Promo2SinceWeek  ...  StateHoliday_b  StateHoliday_c  StoreType_b  \\\n",
       "903560             14.0  ...               0               0            0   \n",
       "509452              5.0  ...               0               0            0   \n",
       "570376             14.0  ...               0               0            0   \n",
       "264963             14.0  ...               0               0            0   \n",
       "961639             14.0  ...               0               0            0   \n",
       "\n",
       "        StoreType_c  StoreType_d  Assortment_b  Assortment_c  \\\n",
       "903560            0            0             0             0   \n",
       "509452            0            1             0             0   \n",
       "570376            1            0             0             1   \n",
       "264963            0            0             0             0   \n",
       "961639            1            0             0             0   \n",
       "\n",
       "        PromoInterval_Jan,Apr,Jul,Oct  PromoInterval_Mar,Jun,Sept,Dec  \\\n",
       "903560                              0                               0   \n",
       "509452                              0                               0   \n",
       "570376                              0                               0   \n",
       "264963                              0                               0   \n",
       "961639                              0                               0   \n",
       "\n",
       "        PromoInterval_No Event  \n",
       "903560                       1  \n",
       "509452                       0  \n",
       "570376                       1  \n",
       "264963                       1  \n",
       "961639                       1  \n",
       "\n",
       "[5 rows x 26 columns]"
      ]
     },
     "execution_count": 29,
     "metadata": {},
     "output_type": "execute_result"
    }
   ],
   "source": [
    "# X_train data information\n",
    "X_train.head()"
   ]
  },
  {
   "cell_type": "code",
   "execution_count": 30,
   "metadata": {},
   "outputs": [],
   "source": [
    "# Standardize all input columns using StandardScaler function in sklearn\n",
    "\n",
    "X_train_scaled= X_train.copy()\n",
    "X_test_scaled=X_test.copy()\n",
    "# List of all numerical columns for scaling\n",
    "\n",
    "for col in X_train_scaled:\n",
    "    scaler= StandardScaler()\n",
    "    scaler.fit(X_train_scaled[col].values.reshape(-1,1))\n",
    "    \n",
    "# Transform it using train fit model\n",
    "    X_train_scaled[col]= scaler.transform(X_train_scaled[col].values.reshape(-1,1))\n",
    "    X_test_scaled[col]= scaler.transform(X_test_scaled[col].values.reshape(-1,1))\n"
   ]
  },
  {
   "cell_type": "code",
   "execution_count": 31,
   "metadata": {},
   "outputs": [
    {
     "data": {
      "text/html": [
       "<div>\n",
       "<style scoped>\n",
       "    .dataframe tbody tr th:only-of-type {\n",
       "        vertical-align: middle;\n",
       "    }\n",
       "\n",
       "    .dataframe tbody tr th {\n",
       "        vertical-align: top;\n",
       "    }\n",
       "\n",
       "    .dataframe thead th {\n",
       "        text-align: right;\n",
       "    }\n",
       "</style>\n",
       "<table border=\"1\" class=\"dataframe\">\n",
       "  <thead>\n",
       "    <tr style=\"text-align: right;\">\n",
       "      <th></th>\n",
       "      <th>Store</th>\n",
       "      <th>DayOfWeek</th>\n",
       "      <th>Open</th>\n",
       "      <th>Promo</th>\n",
       "      <th>SchoolHoliday</th>\n",
       "      <th>CompetitionDistance</th>\n",
       "      <th>CompetitionOpenSinceMonth</th>\n",
       "      <th>CompetitionOpenSinceYear</th>\n",
       "      <th>Promo2</th>\n",
       "      <th>Promo2SinceWeek</th>\n",
       "      <th>...</th>\n",
       "      <th>StateHoliday_b</th>\n",
       "      <th>StateHoliday_c</th>\n",
       "      <th>StoreType_b</th>\n",
       "      <th>StoreType_c</th>\n",
       "      <th>StoreType_d</th>\n",
       "      <th>Assortment_b</th>\n",
       "      <th>Assortment_c</th>\n",
       "      <th>PromoInterval_Jan,Apr,Jul,Oct</th>\n",
       "      <th>PromoInterval_Mar,Jun,Sept,Dec</th>\n",
       "      <th>PromoInterval_No Event</th>\n",
       "    </tr>\n",
       "  </thead>\n",
       "  <tbody>\n",
       "    <tr>\n",
       "      <th>903560</th>\n",
       "      <td>1.343606</td>\n",
       "      <td>-1.000177</td>\n",
       "      <td>0.452636</td>\n",
       "      <td>1.273094</td>\n",
       "      <td>-0.465941</td>\n",
       "      <td>-0.573636</td>\n",
       "      <td>0.436328</td>\n",
       "      <td>0.741432</td>\n",
       "      <td>-1.001317</td>\n",
       "      <td>-0.421989</td>\n",
       "      <td>...</td>\n",
       "      <td>-0.081473</td>\n",
       "      <td>-0.063645</td>\n",
       "      <td>-0.125771</td>\n",
       "      <td>-0.393884</td>\n",
       "      <td>-0.666209</td>\n",
       "      <td>-0.090694</td>\n",
       "      <td>-0.929517</td>\n",
       "      <td>-0.636824</td>\n",
       "      <td>-0.324948</td>\n",
       "      <td>1.001317</td>\n",
       "    </tr>\n",
       "    <tr>\n",
       "      <th>509452</th>\n",
       "      <td>0.001288</td>\n",
       "      <td>0.501566</td>\n",
       "      <td>0.452636</td>\n",
       "      <td>-0.785488</td>\n",
       "      <td>-0.465941</td>\n",
       "      <td>-0.197571</td>\n",
       "      <td>1.156245</td>\n",
       "      <td>-0.806774</td>\n",
       "      <td>0.998685</td>\n",
       "      <td>-1.239939</td>\n",
       "      <td>...</td>\n",
       "      <td>-0.081473</td>\n",
       "      <td>-0.063645</td>\n",
       "      <td>-0.125771</td>\n",
       "      <td>-0.393884</td>\n",
       "      <td>1.501030</td>\n",
       "      <td>-0.090694</td>\n",
       "      <td>-0.929517</td>\n",
       "      <td>-0.636824</td>\n",
       "      <td>-0.324948</td>\n",
       "      <td>-0.998685</td>\n",
       "    </tr>\n",
       "    <tr>\n",
       "      <th>570376</th>\n",
       "      <td>0.209471</td>\n",
       "      <td>0.501566</td>\n",
       "      <td>0.452636</td>\n",
       "      <td>-0.785488</td>\n",
       "      <td>2.146195</td>\n",
       "      <td>0.688128</td>\n",
       "      <td>1.156245</td>\n",
       "      <td>0.397386</td>\n",
       "      <td>-1.001317</td>\n",
       "      <td>-0.421989</td>\n",
       "      <td>...</td>\n",
       "      <td>-0.081473</td>\n",
       "      <td>-0.063645</td>\n",
       "      <td>-0.125771</td>\n",
       "      <td>2.538819</td>\n",
       "      <td>-0.666209</td>\n",
       "      <td>-0.090694</td>\n",
       "      <td>1.075828</td>\n",
       "      <td>-0.636824</td>\n",
       "      <td>-0.324948</td>\n",
       "      <td>1.001317</td>\n",
       "    </tr>\n",
       "    <tr>\n",
       "      <th>264963</th>\n",
       "      <td>-0.828340</td>\n",
       "      <td>0.501566</td>\n",
       "      <td>0.452636</td>\n",
       "      <td>-0.785488</td>\n",
       "      <td>-0.465941</td>\n",
       "      <td>-0.561965</td>\n",
       "      <td>-0.643548</td>\n",
       "      <td>-0.290705</td>\n",
       "      <td>-1.001317</td>\n",
       "      <td>-0.421989</td>\n",
       "      <td>...</td>\n",
       "      <td>-0.081473</td>\n",
       "      <td>-0.063645</td>\n",
       "      <td>-0.125771</td>\n",
       "      <td>-0.393884</td>\n",
       "      <td>-0.666209</td>\n",
       "      <td>-0.090694</td>\n",
       "      <td>-0.929517</td>\n",
       "      <td>-0.636824</td>\n",
       "      <td>-0.324948</td>\n",
       "      <td>1.001317</td>\n",
       "    </tr>\n",
       "    <tr>\n",
       "      <th>961639</th>\n",
       "      <td>1.542468</td>\n",
       "      <td>-1.000177</td>\n",
       "      <td>0.452636</td>\n",
       "      <td>-0.785488</td>\n",
       "      <td>-0.465941</td>\n",
       "      <td>-0.447849</td>\n",
       "      <td>-1.363465</td>\n",
       "      <td>-0.290705</td>\n",
       "      <td>-1.001317</td>\n",
       "      <td>-0.421989</td>\n",
       "      <td>...</td>\n",
       "      <td>-0.081473</td>\n",
       "      <td>-0.063645</td>\n",
       "      <td>-0.125771</td>\n",
       "      <td>2.538819</td>\n",
       "      <td>-0.666209</td>\n",
       "      <td>-0.090694</td>\n",
       "      <td>-0.929517</td>\n",
       "      <td>-0.636824</td>\n",
       "      <td>-0.324948</td>\n",
       "      <td>1.001317</td>\n",
       "    </tr>\n",
       "  </tbody>\n",
       "</table>\n",
       "<p>5 rows × 26 columns</p>\n",
       "</div>"
      ],
      "text/plain": [
       "           Store  DayOfWeek      Open     Promo  SchoolHoliday  \\\n",
       "903560  1.343606  -1.000177  0.452636  1.273094      -0.465941   \n",
       "509452  0.001288   0.501566  0.452636 -0.785488      -0.465941   \n",
       "570376  0.209471   0.501566  0.452636 -0.785488       2.146195   \n",
       "264963 -0.828340   0.501566  0.452636 -0.785488      -0.465941   \n",
       "961639  1.542468  -1.000177  0.452636 -0.785488      -0.465941   \n",
       "\n",
       "        CompetitionDistance  CompetitionOpenSinceMonth  \\\n",
       "903560            -0.573636                   0.436328   \n",
       "509452            -0.197571                   1.156245   \n",
       "570376             0.688128                   1.156245   \n",
       "264963            -0.561965                  -0.643548   \n",
       "961639            -0.447849                  -1.363465   \n",
       "\n",
       "        CompetitionOpenSinceYear    Promo2  Promo2SinceWeek  ...  \\\n",
       "903560                  0.741432 -1.001317        -0.421989  ...   \n",
       "509452                 -0.806774  0.998685        -1.239939  ...   \n",
       "570376                  0.397386 -1.001317        -0.421989  ...   \n",
       "264963                 -0.290705 -1.001317        -0.421989  ...   \n",
       "961639                 -0.290705 -1.001317        -0.421989  ...   \n",
       "\n",
       "        StateHoliday_b  StateHoliday_c  StoreType_b  StoreType_c  StoreType_d  \\\n",
       "903560       -0.081473       -0.063645    -0.125771    -0.393884    -0.666209   \n",
       "509452       -0.081473       -0.063645    -0.125771    -0.393884     1.501030   \n",
       "570376       -0.081473       -0.063645    -0.125771     2.538819    -0.666209   \n",
       "264963       -0.081473       -0.063645    -0.125771    -0.393884    -0.666209   \n",
       "961639       -0.081473       -0.063645    -0.125771     2.538819    -0.666209   \n",
       "\n",
       "        Assortment_b  Assortment_c  PromoInterval_Jan,Apr,Jul,Oct  \\\n",
       "903560     -0.090694     -0.929517                      -0.636824   \n",
       "509452     -0.090694     -0.929517                      -0.636824   \n",
       "570376     -0.090694      1.075828                      -0.636824   \n",
       "264963     -0.090694     -0.929517                      -0.636824   \n",
       "961639     -0.090694     -0.929517                      -0.636824   \n",
       "\n",
       "        PromoInterval_Mar,Jun,Sept,Dec  PromoInterval_No Event  \n",
       "903560                       -0.324948                1.001317  \n",
       "509452                       -0.324948               -0.998685  \n",
       "570376                       -0.324948                1.001317  \n",
       "264963                       -0.324948                1.001317  \n",
       "961639                       -0.324948                1.001317  \n",
       "\n",
       "[5 rows x 26 columns]"
      ]
     },
     "execution_count": 31,
     "metadata": {},
     "output_type": "execute_result"
    }
   ],
   "source": [
    "# X_train_scaled data information\n",
    "X_train_scaled.head()"
   ]
  },
  {
   "cell_type": "code",
   "execution_count": 32,
   "metadata": {},
   "outputs": [],
   "source": [
    "# Using statsmodels package, identify if the coefficients of the input variables is significant or not. \n",
    "# Make sure that you re-build the model until only significant columns are present in the model\n",
    "\n",
    "X_train_scaled_constant= sm.add_constant(X_train_scaled)\n",
    "X_test_scaled_constant= sm.add_constant(X_test_scaled)"
   ]
  },
  {
   "cell_type": "code",
   "execution_count": 34,
   "metadata": {},
   "outputs": [
    {
     "name": "stdout",
     "output_type": "stream",
     "text": [
      "                            OLS Regression Results                            \n",
      "==============================================================================\n",
      "Dep. Variable:                  Sales   R-squared:                       0.571\n",
      "Model:                            OLS   Adj. R-squared:                  0.571\n",
      "Method:                 Least Squares   F-statistic:                 4.341e+04\n",
      "Date:                Sat, 28 Nov 2020   Prob (F-statistic):               0.00\n",
      "Time:                        17:27:21   Log-Likelihood:            -7.5281e+06\n",
      "No. Observations:              813767   AIC:                         1.506e+07\n",
      "Df Residuals:                  813741   BIC:                         1.506e+07\n",
      "Df Model:                          25                                         \n",
      "Covariance Type:            nonrobust                                         \n",
      "==================================================================================================\n",
      "                                     coef    std err          t      P>|t|      [0.025      0.975]\n",
      "--------------------------------------------------------------------------------------------------\n",
      "const                           5772.6592      2.794   2066.378      0.000    5767.184    5778.135\n",
      "Store                             13.2900      2.807      4.735      0.000       7.789      18.791\n",
      "DayOfWeek                       -300.2658      3.651    -82.238      0.000    -307.422    -293.110\n",
      "Open                            2051.7149      3.791    541.229      0.000    2044.285    2059.145\n",
      "Promo                           1008.6158      3.084    327.098      0.000    1002.572    1014.659\n",
      "SchoolHoliday                     39.5384      2.947     13.415      0.000      33.762      45.315\n",
      "CompetitionDistance             -152.8748      2.902    -52.680      0.000    -158.562    -147.187\n",
      "CompetitionOpenSinceMonth        -82.5405      2.837    -29.094      0.000     -88.101     -76.980\n",
      "CompetitionOpenSinceYear          -1.6656      2.833     -0.588      0.557      -7.218       3.887\n",
      "Promo2                          -237.0377      3.107    -76.296      0.000    -243.127    -230.948\n",
      "Promo2SinceWeek                  177.9329      3.190     55.787      0.000     171.682     184.184\n",
      "Promo2SinceYear                  -61.2923      4.996    -12.267      0.000     -71.085     -51.499\n",
      "Year                             136.8954      2.908     47.071      0.000     131.195     142.596\n",
      "Month                            212.7576      2.947     72.183      0.000     206.981     218.535\n",
      "Day                              -19.8929      2.836     -7.014      0.000     -25.452     -14.334\n",
      "StateHoliday_0                    90.0676      3.088     29.168      0.000      84.016      96.120\n",
      "StateHoliday_a                  -136.1868      3.234    -42.113      0.000    -142.525    -129.849\n",
      "StateHoliday_b                  -108.1134      2.995    -36.097      0.000    -113.984    -102.243\n",
      "StateHoliday_c                   -38.2314      2.934    -13.031      0.000     -43.982     -32.481\n",
      "StoreType_b                      616.9912      4.068    151.658      0.000     609.017     624.965\n",
      "StoreType_c                      -20.8383      2.941     -7.086      0.000     -26.602     -15.075\n",
      "StoreType_d                      -76.0418      3.029    -25.102      0.000     -81.979     -70.104\n",
      "Assortment_b                    -251.8981      4.041    -62.341      0.000    -259.818    -243.979\n",
      "Assortment_c                     370.4186      2.945    125.764      0.000     364.646     376.191\n",
      "PromoInterval_Jan,Apr,Jul,Oct     98.9878      4.422     22.388      0.000      90.322     107.654\n",
      "PromoInterval_Mar,Jun,Sept,Dec   -78.6995      3.633    -21.664      0.000     -85.820     -71.580\n",
      "PromoInterval_No Event           237.0377      3.107     76.296      0.000     230.948     243.127\n",
      "==============================================================================\n",
      "Omnibus:                   310336.601   Durbin-Watson:                   1.999\n",
      "Prob(Omnibus):                  0.000   Jarque-Bera (JB):          2005739.723\n",
      "Skew:                           1.701   Prob(JB):                         0.00\n",
      "Kurtosis:                       9.898   Cond. No.                     1.86e+15\n",
      "==============================================================================\n",
      "\n",
      "Warnings:\n",
      "[1] Standard Errors assume that the covariance matrix of the errors is correctly specified.\n",
      "[2] The smallest eigenvalue is 8.45e-25. This might indicate that there are\n",
      "strong multicollinearity problems or that the design matrix is singular.\n"
     ]
    }
   ],
   "source": [
    "# Use the logit model from statsmodels.api to figure out significance if p value > 0.05 its significant\n",
    "model=sm.OLS(Y_train, X_train_scaled_constant).fit()\n",
    "print(model.summary())"
   ]
  },
  {
   "cell_type": "markdown",
   "metadata": {},
   "source": [
    "## Assumptions of Linear Regression\n",
    "\n",
    "## 1. Multicollinearlity in independent variables\n",
    "- Refers to extent to which the independent variables are correlated with each other\n",
    "- Multicollinearity amongst the independent variables will affect the estimation of the parameter and the explanability from the independent variables\n",
    "- Can be treated by removing one of the two highly correlated independent variables\n",
    " \n",
    "Read: https://blog.clairvoyantsoft.com/correlation-and-collinearity-how-they-can-make-or-break-a-model-9135fbe6936a"
   ]
  },
  {
   "cell_type": "code",
   "execution_count": 36,
   "metadata": {},
   "outputs": [
    {
     "data": {
      "text/plain": [
       "<matplotlib.axes._subplots.AxesSubplot at 0x218927e5580>"
      ]
     },
     "execution_count": 36,
     "metadata": {},
     "output_type": "execute_result"
    },
    {
     "data": {
      "image/png": "[encoded data removed]",
      "text/plain": [
       "<Figure size 432x288 with 2 Axes>"
      ]
     },
     "metadata": {
      "needs_background": "light"
     },
     "output_type": "display_data"
    }
   ],
   "source": [
    "# Check correlation between the independent variables using heatmap\n",
    "\n",
    "import seaborn as sns\n",
    "sns.heatmap(X_train_scaled_constant.corr(),cmap='Oranges')"
   ]
  },
  {
   "cell_type": "code",
   "execution_count": 37,
   "metadata": {},
   "outputs": [],
   "source": [
    "# Since p value is 0.657, so column CompetitionOpenSinceYear is insignificant and we need to remove from model\n",
    "\n",
    "insignificant_cols=['CompetitionOpenSinceYear' ]"
   ]
  },
  {
   "cell_type": "code",
   "execution_count": 38,
   "metadata": {},
   "outputs": [],
   "source": [
    "# Remove the insignificant columns identified above from p value\n",
    "X_train_scaled_constant.drop(insignificant_cols, axis=1, inplace=True)"
   ]
  },
  {
   "cell_type": "code",
   "execution_count": 39,
   "metadata": {},
   "outputs": [
    {
     "name": "stdout",
     "output_type": "stream",
     "text": [
      "                            OLS Regression Results                            \n",
      "==============================================================================\n",
      "Dep. Variable:                  Sales   R-squared:                       0.571\n",
      "Model:                            OLS   Adj. R-squared:                  0.571\n",
      "Method:                 Least Squares   F-statistic:                 4.522e+04\n",
      "Date:                Sat, 28 Nov 2020   Prob (F-statistic):               0.00\n",
      "Time:                        17:27:48   Log-Likelihood:            -7.5281e+06\n",
      "No. Observations:              813767   AIC:                         1.506e+07\n",
      "Df Residuals:                  813742   BIC:                         1.506e+07\n",
      "Df Model:                          24                                         \n",
      "Covariance Type:            nonrobust                                         \n",
      "==================================================================================================\n",
      "                                     coef    std err          t      P>|t|      [0.025      0.975]\n",
      "--------------------------------------------------------------------------------------------------\n",
      "const                           5772.6592      2.794   2066.379      0.000    5767.184    5778.135\n",
      "Store                             13.2761      2.807      4.730      0.000       7.775      18.777\n",
      "DayOfWeek                       -300.2673      3.651    -82.238      0.000    -307.424    -293.111\n",
      "Open                            2051.7147      3.791    541.229      0.000    2044.285    2059.145\n",
      "Promo                           1008.6150      3.084    327.097      0.000    1002.571    1014.659\n",
      "SchoolHoliday                     39.5345      2.947     13.413      0.000      33.758      45.311\n",
      "CompetitionDistance             -152.8799      2.902    -52.682      0.000    -158.568    -147.192\n",
      "CompetitionOpenSinceMonth        -82.6971      2.824    -29.279      0.000     -88.233     -77.161\n",
      "Promo2                          -237.0341      3.107    -76.295      0.000    -243.123    -230.945\n",
      "Promo2SinceWeek                  177.9502      3.189     55.795      0.000     171.699     184.201\n",
      "Promo2SinceYear                  -61.1890      4.993    -12.254      0.000     -70.976     -51.402\n",
      "Year                             136.8939      2.908     47.070      0.000     131.194     142.594\n",
      "Month                            212.7543      2.947     72.182      0.000     206.977     218.531\n",
      "Day                              -19.8936      2.836     -7.014      0.000     -25.452     -14.335\n",
      "StateHoliday_0                    90.0686      3.088     29.169      0.000      84.017      96.121\n",
      "StateHoliday_a                  -136.1833      3.234    -42.112      0.000    -142.521    -129.845\n",
      "StateHoliday_b                  -108.1131      2.995    -36.097      0.000    -113.983    -102.243\n",
      "StateHoliday_c                   -38.2303      2.934    -13.030      0.000     -43.981     -32.480\n",
      "StoreType_b                      616.9438      4.068    151.676      0.000     608.972     624.916\n",
      "StoreType_c                      -20.8059      2.940     -7.076      0.000     -26.569     -15.043\n",
      "StoreType_d                      -76.0948      3.028    -25.131      0.000     -82.029     -70.160\n",
      "Assortment_b                    -251.8834      4.041    -62.339      0.000    -259.803    -243.964\n",
      "Assortment_c                     370.2587      2.933    126.249      0.000     364.511     376.007\n",
      "PromoInterval_Jan,Apr,Jul,Oct     99.1168      4.416     22.445      0.000      90.461     107.772\n",
      "PromoInterval_Mar,Jun,Sept,Dec   -78.6848      3.633    -21.661      0.000     -85.805     -71.565\n",
      "PromoInterval_No Event           237.0341      3.107     76.295      0.000     230.945     243.123\n",
      "==============================================================================\n",
      "Omnibus:                   310337.348   Durbin-Watson:                   1.999\n",
      "Prob(Omnibus):                  0.000   Jarque-Bera (JB):          2005668.952\n",
      "Skew:                           1.701   Prob(JB):                         0.00\n",
      "Kurtosis:                       9.898   Cond. No.                     1.92e+15\n",
      "==============================================================================\n",
      "\n",
      "Warnings:\n",
      "[1] Standard Errors assume that the covariance matrix of the errors is correctly specified.\n",
      "[2] The smallest eigenvalue is 7.91e-25. This might indicate that there are\n",
      "strong multicollinearity problems or that the design matrix is singular.\n"
     ]
    }
   ],
   "source": [
    "lin_model=sm.OLS(Y_train, X_train_scaled_constant).fit()\n",
    "print(lin_model.summary())"
   ]
  },
  {
   "cell_type": "code",
   "execution_count": 40,
   "metadata": {},
   "outputs": [
    {
     "data": {
      "text/plain": [
       "LinearRegression()"
      ]
     },
     "execution_count": 40,
     "metadata": {},
     "output_type": "execute_result"
    }
   ],
   "source": [
    "# 9. Using relevant influencing columns, build a linear regression model \n",
    "# Fit a model using sklearn\n",
    "\n",
    "lr= LinearRegression()\n",
    "lr.fit(X_train_scaled_constant, Y_train)"
   ]
  },
  {
   "cell_type": "code",
   "execution_count": 41,
   "metadata": {},
   "outputs": [],
   "source": [
    "# Print coefficient and intercept\n",
    "lr.coef_\n",
    "lr.intercept_\n",
    "insignificant_cols=['CompetitionOpenSinceYear' ]"
   ]
  },
  {
   "cell_type": "code",
   "execution_count": 42,
   "metadata": {},
   "outputs": [],
   "source": [
    "y_pred= lr.predict(X_test_scaled_constant.drop(columns=insignificant_cols))"
   ]
  },
  {
   "cell_type": "code",
   "execution_count": 43,
   "metadata": {},
   "outputs": [
    {
     "data": {
      "text/plain": [
       "0.57264675645501"
      ]
     },
     "execution_count": 43,
     "metadata": {},
     "output_type": "execute_result"
    }
   ],
   "source": [
    "from sklearn.metrics import r2_score\n",
    "r2_score(Y_test, y_pred)"
   ]
  },
  {
   "cell_type": "code",
   "execution_count": 44,
   "metadata": {},
   "outputs": [],
   "source": [
    "# Get the mean of residuals\n",
    "y_train_pred= lr.predict(X_train_scaled_constant)\n"
   ]
  },
  {
   "cell_type": "code",
   "execution_count": 45,
   "metadata": {},
   "outputs": [
    {
     "name": "stdout",
     "output_type": "stream",
     "text": [
      "-2.5882340125378693\n"
     ]
    }
   ],
   "source": [
    "residuals= y_pred-Y_test\n",
    "print(np.mean(residuals))"
   ]
  },
  {
   "cell_type": "code",
   "execution_count": 46,
   "metadata": {},
   "outputs": [
    {
     "name": "stdout",
     "output_type": "stream",
     "text": [
      "-1237239253.5064235\n"
     ]
    }
   ],
   "source": [
    "# Mean of residuals should be zero (train set)\n",
    "\n",
    "y_train_pred = lr.predict(X_train_scaled)\n",
    "\n",
    "residuals1 = y_train_pred - Y_train\n",
    "\n",
    "print(np.mean(residuals1))"
   ]
  },
  {
   "cell_type": "code",
   "execution_count": 47,
   "metadata": {},
   "outputs": [
    {
     "name": "stdout",
     "output_type": "stream",
     "text": [
      "R square value: 0.57264675645501\n",
      "Root Mean Squared Error: 2517.271260082238\n"
     ]
    }
   ],
   "source": [
    "# 10. Report RMSE, R square value\n",
    "\n",
    "print('R square value:', r2_score(Y_test, y_pred))\n",
    "rmse = np.sqrt(mean_squared_error( Y_test, y_pred))\n",
    "print(\"Root Mean Squared Error:\", rmse)"
   ]
  },
  {
   "cell_type": "code",
   "execution_count": 48,
   "metadata": {},
   "outputs": [
    {
     "data": {
      "text/plain": [
       "<matplotlib.collections.PathCollection at 0x2189260f2b0>"
      ]
     },
     "execution_count": 48,
     "metadata": {},
     "output_type": "execute_result"
    },
    {
     "data": {
      "image/png": "[encoded data removed]",
      "text/plain": [
       "<Figure size 432x288 with 1 Axes>"
      ]
     },
     "metadata": {
      "needs_background": "light"
     },
     "output_type": "display_data"
    }
   ],
   "source": [
    "# 11. Plot the coefficients of the input variables using the bar chart\n",
    "plt.scatter(Y_test, residuals)"
   ]
  },
  {
   "cell_type": "code",
   "execution_count": null,
   "metadata": {},
   "outputs": [],
   "source": []
  }
 ],
 "metadata": {
  "kernelspec": {
   "display_name": "Python 3",
   "language": "python",
   "name": "python3"
  },
  "language_info": {
   "codemirror_mode": {
    "name": "ipython",
    "version": 3
   },
   "file_extension": ".py",
   "mimetype": "text/x-python",
   "name": "python",
   "nbconvert_exporter": "python",
   "pygments_lexer": "ipython3",
   "version": "3.8.3"
  }
 },
 "nbformat": 4,
 "nbformat_minor": 4
}
