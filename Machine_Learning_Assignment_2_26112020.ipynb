{
 "cells": [
  {
   "cell_type": "markdown",
   "metadata": {},
   "source": [
    "## Assignment 2 - Customer Segmentation using Clustering\n",
    "\n",
    "**Agenda**\n",
    "\n",
    "- Perform exploratory data analysis to understand the customers on various attributes\n",
    "- Identify if there are any missing value; Perform missing value treatment if required\n",
    "- Convert all categorical columns to numerical columns using appropriate techniques\n",
    "- Standardize the columns using Standard Scaler\n",
    "- Using K-Means algorithm cluster customers in to 4 different groups\n",
    "- Tag each customer with the cluster number\n",
    "- Plot number of customers for each cluster\n",
    "- For each cluster, identify the average values of the input variables and populate them in a table. Using background gradient styling technique to visualize this table\n",
    "\n",
    " \n",
    " \n",
    "### Problem Statement : In this assignment, you are going segment/cluster different customers of a book lending store\n",
    "\n",
    "### Dataset :\n",
    "\n",
    "- Dataset: book_readers.csv\n",
    "\n",
    "- Dataset Description: \n",
    "\n",
    "- Each row is a customer. For each customer, we have their personal details like age, gender, face, marital status, etc. We have details about their book-reading habits\n",
    " \n",
    "\n",
    "<a href=\"https://intune.timestsw.com/lms/pluginfile.php/1917/mod_assign/introattachment/0/book_readers_data.csv?forcedownload=1\">Download Dataset</a>"
   ]
  },
  {
   "cell_type": "code",
   "execution_count": 28,
   "metadata": {},
   "outputs": [],
   "source": [
    "# Import all required libraries\n",
    "import numpy as np # linear algebra\n",
    "import pandas as pd # data processing, CSV file I/O (e.g. pd.read_csv)\n",
    "\n",
    "import matplotlib.pyplot as plt\n",
    "import seaborn as sns\n",
    "\n",
    "import matplotlib.pyplot as plt\n",
    "%matplotlib inline\n",
    "\n",
    "import warnings\n",
    "warnings.filterwarnings('ignore')"
   ]
  },
  {
   "cell_type": "code",
   "execution_count": 29,
   "metadata": {},
   "outputs": [
    {
     "name": "stdout",
     "output_type": "stream",
     "text": [
      "Shape of data (2832, 14)\n",
      "<class 'pandas.core.frame.DataFrame'>\n",
      "RangeIndex: 2832 entries, 0 to 2831\n",
      "Data columns (total 14 columns):\n",
      " #   Column                                               Non-Null Count  Dtype \n",
      "---  ------                                               --------------  ----- \n",
      " 0   Age                                                  2832 non-null   int64 \n",
      " 1   Sex                                                  2832 non-null   object\n",
      " 2   Race                                                 2832 non-null   object\n",
      " 3   Marital status?                                      2832 non-null   object\n",
      " 4   Education                                            2832 non-null   object\n",
      " 5   Employement                                          2832 non-null   object\n",
      " 6   Incomes                                              2832 non-null   object\n",
      " 7   How many books did you read during last 12months?    2832 non-null   int64 \n",
      " 8   Read any printed books during last 12months?         2442 non-null   object\n",
      " 9   Read any audiobooks during last 12months?            2442 non-null   object\n",
      " 10  Read any e-books during last 12months?               2442 non-null   object\n",
      " 11  Last book you read, you…                             2442 non-null   object\n",
      " 12  Do you happen to read any daily news or newspapers?  2832 non-null   object\n",
      " 13  Do you happen to read any magazines or journals?     2832 non-null   object\n",
      "dtypes: int64(2), object(12)\n",
      "memory usage: 309.9+ KB\n",
      "Data Info None\n"
     ]
    },
    {
     "data": {
      "text/html": [
       "<div>\n",
       "<style scoped>\n",
       "    .dataframe tbody tr th:only-of-type {\n",
       "        vertical-align: middle;\n",
       "    }\n",
       "\n",
       "    .dataframe tbody tr th {\n",
       "        vertical-align: top;\n",
       "    }\n",
       "\n",
       "    .dataframe thead th {\n",
       "        text-align: right;\n",
       "    }\n",
       "</style>\n",
       "<table border=\"1\" class=\"dataframe\">\n",
       "  <thead>\n",
       "    <tr style=\"text-align: right;\">\n",
       "      <th></th>\n",
       "      <th>Age</th>\n",
       "      <th>Sex</th>\n",
       "      <th>Race</th>\n",
       "      <th>Marital status?</th>\n",
       "      <th>Education</th>\n",
       "      <th>Employement</th>\n",
       "      <th>Incomes</th>\n",
       "      <th>How many books did you read during last 12months?</th>\n",
       "      <th>Read any printed books during last 12months?</th>\n",
       "      <th>Read any audiobooks during last 12months?</th>\n",
       "      <th>Read any e-books during last 12months?</th>\n",
       "      <th>Last book you read, you…</th>\n",
       "      <th>Do you happen to read any daily news or newspapers?</th>\n",
       "      <th>Do you happen to read any magazines or journals?</th>\n",
       "    </tr>\n",
       "  </thead>\n",
       "  <tbody>\n",
       "    <tr>\n",
       "      <th>0</th>\n",
       "      <td>66</td>\n",
       "      <td>Male</td>\n",
       "      <td>Refused</td>\n",
       "      <td>Divorced</td>\n",
       "      <td>College graduate</td>\n",
       "      <td>Retired</td>\n",
       "      <td>$20,000 to under $30,000</td>\n",
       "      <td>97</td>\n",
       "      <td>Yes</td>\n",
       "      <td>No</td>\n",
       "      <td>Yes</td>\n",
       "      <td>Purchased the book</td>\n",
       "      <td>No</td>\n",
       "      <td>Yes</td>\n",
       "    </tr>\n",
       "    <tr>\n",
       "      <th>1</th>\n",
       "      <td>46</td>\n",
       "      <td>Male</td>\n",
       "      <td>Native American/American Indian</td>\n",
       "      <td>Married</td>\n",
       "      <td>High school graduate</td>\n",
       "      <td>Employed full-time</td>\n",
       "      <td>Less than $10,000</td>\n",
       "      <td>97</td>\n",
       "      <td>Yes</td>\n",
       "      <td>Yes</td>\n",
       "      <td>Yes</td>\n",
       "      <td>Purchased the book</td>\n",
       "      <td>Yes</td>\n",
       "      <td>Yes</td>\n",
       "    </tr>\n",
       "    <tr>\n",
       "      <th>2</th>\n",
       "      <td>32</td>\n",
       "      <td>Male</td>\n",
       "      <td>Mixed race</td>\n",
       "      <td>Never been married</td>\n",
       "      <td>High school graduate</td>\n",
       "      <td>Employed full-time</td>\n",
       "      <td>Less than $10,000</td>\n",
       "      <td>97</td>\n",
       "      <td>No</td>\n",
       "      <td>Yes</td>\n",
       "      <td>Yes</td>\n",
       "      <td>Borrowed the book from a friend or family member</td>\n",
       "      <td>Yes</td>\n",
       "      <td>Yes</td>\n",
       "    </tr>\n",
       "    <tr>\n",
       "      <th>3</th>\n",
       "      <td>27</td>\n",
       "      <td>Male</td>\n",
       "      <td>Mixed race</td>\n",
       "      <td>Married</td>\n",
       "      <td>High school graduate</td>\n",
       "      <td>Employed full-time</td>\n",
       "      <td>$40,000 to under $50,000</td>\n",
       "      <td>97</td>\n",
       "      <td>Yes</td>\n",
       "      <td>No</td>\n",
       "      <td>Yes</td>\n",
       "      <td>Borrowed the book from a library</td>\n",
       "      <td>Yes</td>\n",
       "      <td>No</td>\n",
       "    </tr>\n",
       "    <tr>\n",
       "      <th>4</th>\n",
       "      <td>16</td>\n",
       "      <td>Female</td>\n",
       "      <td>Mixed race</td>\n",
       "      <td>Never been married</td>\n",
       "      <td>High school incomplete</td>\n",
       "      <td>Employed part-time</td>\n",
       "      <td>$10,000 to under $20,000</td>\n",
       "      <td>97</td>\n",
       "      <td>Yes</td>\n",
       "      <td>Yes</td>\n",
       "      <td>No</td>\n",
       "      <td>Purchased the book</td>\n",
       "      <td>Yes</td>\n",
       "      <td>No</td>\n",
       "    </tr>\n",
       "  </tbody>\n",
       "</table>\n",
       "</div>"
      ],
      "text/plain": [
       "   Age     Sex                             Race     Marital status?  \\\n",
       "0   66    Male                          Refused            Divorced   \n",
       "1   46    Male  Native American/American Indian             Married   \n",
       "2   32    Male                       Mixed race  Never been married   \n",
       "3   27    Male                       Mixed race             Married   \n",
       "4   16  Female                       Mixed race  Never been married   \n",
       "\n",
       "                Education         Employement                   Incomes  \\\n",
       "0        College graduate             Retired  $20,000 to under $30,000   \n",
       "1    High school graduate  Employed full-time         Less than $10,000   \n",
       "2    High school graduate  Employed full-time         Less than $10,000   \n",
       "3    High school graduate  Employed full-time  $40,000 to under $50,000   \n",
       "4  High school incomplete  Employed part-time  $10,000 to under $20,000   \n",
       "\n",
       "   How many books did you read during last 12months?  \\\n",
       "0                                                 97   \n",
       "1                                                 97   \n",
       "2                                                 97   \n",
       "3                                                 97   \n",
       "4                                                 97   \n",
       "\n",
       "  Read any printed books during last 12months?  \\\n",
       "0                                          Yes   \n",
       "1                                          Yes   \n",
       "2                                           No   \n",
       "3                                          Yes   \n",
       "4                                          Yes   \n",
       "\n",
       "  Read any audiobooks during last 12months?  \\\n",
       "0                                        No   \n",
       "1                                       Yes   \n",
       "2                                       Yes   \n",
       "3                                        No   \n",
       "4                                       Yes   \n",
       "\n",
       "  Read any e-books during last 12months?  \\\n",
       "0                                    Yes   \n",
       "1                                    Yes   \n",
       "2                                    Yes   \n",
       "3                                    Yes   \n",
       "4                                     No   \n",
       "\n",
       "                           Last book you read, you…  \\\n",
       "0                                Purchased the book   \n",
       "1                                Purchased the book   \n",
       "2  Borrowed the book from a friend or family member   \n",
       "3                  Borrowed the book from a library   \n",
       "4                                Purchased the book   \n",
       "\n",
       "  Do you happen to read any daily news or newspapers?  \\\n",
       "0                                                 No    \n",
       "1                                                Yes    \n",
       "2                                                Yes    \n",
       "3                                                Yes    \n",
       "4                                                Yes    \n",
       "\n",
       "  Do you happen to read any magazines or journals?  \n",
       "0                                              Yes  \n",
       "1                                              Yes  \n",
       "2                                              Yes  \n",
       "3                                               No  \n",
       "4                                               No  "
      ]
     },
     "execution_count": 29,
     "metadata": {},
     "output_type": "execute_result"
    }
   ],
   "source": [
    "# Import data and read dataset\n",
    "book_readers = pd.read_csv('C:/Users/ejhajee/Downloads/book_readers_data.csv')\n",
    "print(\"Shape of data\", book_readers.shape)\n",
    "print(\"Data Info\", book_readers.info())\n",
    "book_readers.head()"
   ]
  },
  {
   "cell_type": "markdown",
   "metadata": {},
   "source": [
    "## Data Dictionary\n",
    " - Variables - 14\n",
    " - Observations - 2832\n",
    " \n",
    "## Integer Variables:\n",
    " - Age\n",
    " - How many books did you read during last 12months?\n",
    " \n",
    "## Categorical Variables:\n",
    " - Sex\n",
    " - Race\n",
    " - Marital status?\n",
    " - Education\n",
    " - Employement\n",
    " - Incomes\n",
    " - Read any printed books during last 12months?\n",
    " - Read any audiobooks during last 12months?\n",
    " - Read any e-books during last 12months?\n",
    " - Last book you read, you…\n",
    " - Do you happen to read any daily news or newspapers?\n",
    " - Do you happen to read any magazines or journals?\n",
    " \n",
    " ## NA Values\n",
    " - Read any printed books during last 12months?           390\n",
    " - Read any audiobooks during last 12months?              390\n",
    " - Read any e-books during last 12months?                 390\n",
    " - Last book you read, you…                               390"
   ]
  },
  {
   "cell_type": "code",
   "execution_count": 30,
   "metadata": {},
   "outputs": [
    {
     "name": "stdout",
     "output_type": "stream",
     "text": [
      "Age                                                      0\n",
      "Sex                                                      0\n",
      "Race                                                     0\n",
      "Marital status?                                          0\n",
      "Education                                                0\n",
      "Employement                                              0\n",
      "Incomes                                                  0\n",
      "How many books did you read during last 12months?        0\n",
      "Read any printed books during last 12months?           390\n",
      "Read any audiobooks during last 12months?              390\n",
      "Read any e-books during last 12months?                 390\n",
      "Last book you read, you…                               390\n",
      "Do you happen to read any daily news or newspapers?      0\n",
      "Do you happen to read any magazines or journals?         0\n",
      "dtype: int64\n"
     ]
    }
   ],
   "source": [
    "print(book_readers.isna().sum())"
   ]
  },
  {
   "cell_type": "markdown",
   "metadata": {},
   "source": [
    "## Feature Engineering"
   ]
  },
  {
   "cell_type": "code",
   "execution_count": 31,
   "metadata": {},
   "outputs": [
    {
     "name": "stdout",
     "output_type": "stream",
     "text": [
      "Age range of book_readers 16 to 93\n",
      "Mean age of book_readers 47.27648305084746\n",
      "Data by marital status Married                  1532\n",
      "Never been married        592\n",
      "Divorced                  245\n",
      "Widowed                   191\n",
      "Living with a partner     141\n",
      "Single                     60\n",
      "Separated                  54\n",
      "Don’t know                 17\n",
      "Name: Marital status?, dtype: int64\n"
     ]
    }
   ],
   "source": [
    "# 1. Perform exploratory data analysis to understand the book_readers on various attributes\n",
    "print(\"Age range of book_readers\", book_readers['Age'].min(), \"to\", book_readers['Age'].max())\n",
    "print(\"Mean age of book_readers\", book_readers['Age'].mean())\n",
    "print(\"Data by marital status\", book_readers['Marital status?'].value_counts())"
   ]
  },
  {
   "cell_type": "code",
   "execution_count": 32,
   "metadata": {},
   "outputs": [
    {
     "data": {
      "text/plain": [
       "<matplotlib.axes._subplots.AxesSubplot at 0x1f6d4860f40>"
      ]
     },
     "execution_count": 32,
     "metadata": {},
     "output_type": "execute_result"
    },
    {
     "data": {
      "image/png": "[encoded data removed]",
      "text/plain": [
       "<Figure size 432x288 with 1 Axes>"
      ]
     },
     "metadata": {
      "needs_background": "light"
     },
     "output_type": "display_data"
    }
   ],
   "source": [
    "book_readers['Marital status?'].value_counts().plot(kind=\"bar\")"
   ]
  },
  {
   "cell_type": "code",
   "execution_count": 33,
   "metadata": {},
   "outputs": [
    {
     "data": {
      "text/plain": [
       "<matplotlib.axes._subplots.AxesSubplot at 0x1f6d4c27820>"
      ]
     },
     "execution_count": 33,
     "metadata": {},
     "output_type": "execute_result"
    },
    {
     "data": {
      "image/png": "[encoded data removed]",
      "text/plain": [
       "<Figure size 432x288 with 1 Axes>"
      ]
     },
     "metadata": {
      "needs_background": "light"
     },
     "output_type": "display_data"
    }
   ],
   "source": [
    "book_readers['Incomes'].value_counts().plot(kind=\"bar\")"
   ]
  },
  {
   "cell_type": "code",
   "execution_count": 34,
   "metadata": {},
   "outputs": [
    {
     "name": "stdout",
     "output_type": "stream",
     "text": [
      "<class 'pandas.core.frame.DataFrame'>\n",
      "RangeIndex: 2832 entries, 0 to 2831\n",
      "Data columns (total 14 columns):\n",
      " #   Column                                               Non-Null Count  Dtype \n",
      "---  ------                                               --------------  ----- \n",
      " 0   Age                                                  2832 non-null   int64 \n",
      " 1   Sex                                                  2832 non-null   object\n",
      " 2   Race                                                 2832 non-null   object\n",
      " 3   Marital status?                                      2832 non-null   object\n",
      " 4   Education                                            2832 non-null   object\n",
      " 5   Employement                                          2832 non-null   object\n",
      " 6   Incomes                                              2832 non-null   object\n",
      " 7   How many books did you read during last 12months?    2832 non-null   int64 \n",
      " 8   Read any printed books during last 12months?         2442 non-null   object\n",
      " 9   Read any audiobooks during last 12months?            2442 non-null   object\n",
      " 10  Read any e-books during last 12months?               2442 non-null   object\n",
      " 11  Last book you read, you…                             2442 non-null   object\n",
      " 12  Do you happen to read any daily news or newspapers?  2832 non-null   object\n",
      " 13  Do you happen to read any magazines or journals?     2832 non-null   object\n",
      "dtypes: int64(2), object(12)\n",
      "memory usage: 309.9+ KB\n",
      "Data info None\n"
     ]
    }
   ],
   "source": [
    "# 2. Identify if there are any missing value; Perform missing value treatment if required\n",
    "print(\"Data info\", book_readers.info())"
   ]
  },
  {
   "cell_type": "code",
   "execution_count": 35,
   "metadata": {},
   "outputs": [
    {
     "name": "stdout",
     "output_type": "stream",
     "text": [
      "<class 'pandas.core.frame.DataFrame'>\n",
      "RangeIndex: 2832 entries, 0 to 2831\n",
      "Data columns (total 14 columns):\n",
      " #   Column                                               Non-Null Count  Dtype \n",
      "---  ------                                               --------------  ----- \n",
      " 0   Age                                                  2832 non-null   int64 \n",
      " 1   Sex                                                  2832 non-null   object\n",
      " 2   Race                                                 2832 non-null   object\n",
      " 3   Marital status?                                      2832 non-null   object\n",
      " 4   Education                                            2832 non-null   object\n",
      " 5   Employement                                          2832 non-null   object\n",
      " 6   Incomes                                              2832 non-null   object\n",
      " 7   How many books did you read during last 12months?    2832 non-null   int64 \n",
      " 8   Read any printed books during last 12months?         2442 non-null   object\n",
      " 9   Read any audiobooks during last 12months?            2442 non-null   object\n",
      " 10  Read any e-books during last 12months?               2442 non-null   object\n",
      " 11  Last book you read, you…                             2442 non-null   object\n",
      " 12  Do you happen to read any daily news or newspapers?  2832 non-null   object\n",
      " 13  Do you happen to read any magazines or journals?     2832 non-null   object\n",
      "dtypes: int64(2), object(12)\n",
      "memory usage: 309.9+ KB\n"
     ]
    }
   ],
   "source": [
    "# Above data shows there are missing values under: \n",
    "# Read any printed books during last 12months?\n",
    "# Read any audiobooks during last 12months?\n",
    "# Read any e-books during last 12months?\n",
    "# Last book you read, you…\n",
    "\n",
    "# Fill data with text = \"Not Available\"\n",
    "#book_readers.fillna(\"Not Available\", inplace=True)\n",
    "book_readers.fillna(book_readers.mode(), inplace=True)\n",
    "book_readers.info()"
   ]
  },
  {
   "cell_type": "code",
   "execution_count": 36,
   "metadata": {},
   "outputs": [
    {
     "data": {
      "text/plain": [
       "['Age', 'How many books did you read during last 12months?']"
      ]
     },
     "execution_count": 36,
     "metadata": {},
     "output_type": "execute_result"
    }
   ],
   "source": [
    "# 3. Convert all categorical columns to numerical columns using appropriate techniques\n",
    "# Finding all categorical and numerical comumns\n",
    "\n",
    "\n",
    "# list of all categorical columns\n",
    "\n",
    "cat_columns = [x for x in book_readers.columns if x not in ['Age', 'How many books did you read during last 12months?']]\n",
    "cat_columns\n",
    "\n",
    "# list of all numerical columns\n",
    "\n",
    "int_columns = ['Age', 'How many books did you read during last 12months?']\n",
    "int_columns\n"
   ]
  },
  {
   "cell_type": "code",
   "execution_count": 37,
   "metadata": {},
   "outputs": [],
   "source": [
    "# 3. Convert all categorical columns to numerical columns using appropriate techniques\n",
    "# Converting below categorical columns using one hot encoding\n",
    "\n",
    "book_readers['Last book you read, you…'] = pd.get_dummies(book_readers['Last book you read, you…'], drop_first=True)\n",
    "\n",
    "book_readers['Read any audiobooks during last 12months?'] = pd.get_dummies(book_readers['Read any audiobooks during last 12months?'], drop_first=True)\n",
    "\n",
    "book_readers['Read any e-books during last 12months?'] = pd.get_dummies(book_readers['Read any e-books during last 12months?'], drop_first=True)\n",
    "\n",
    "book_readers['Read any printed books during last 12months?'] = pd.get_dummies(book_readers['Read any printed books during last 12months?'], drop_first=True)"
   ]
  },
  {
   "cell_type": "code",
   "execution_count": 38,
   "metadata": {},
   "outputs": [],
   "source": [
    "# 3. Convert all categorical columns to numerical columns using appropriate techniques\n",
    "# Converting below categorical columns using LabelEncoder\n",
    "\n",
    "from sklearn.preprocessing import LabelEncoder\n",
    "labelEncoder = LabelEncoder()\n",
    "labelEncoder.fit(book_readers['Sex'])\n",
    "book_readers['Sex'] = labelEncoder.transform(book_readers['Sex'])\n",
    "\n",
    "labelEncoder = LabelEncoder()\n",
    "labelEncoder.fit(book_readers['Race'])\n",
    "book_readers['Race'] = labelEncoder.transform(book_readers['Race'])\n",
    "\n",
    "labelEncoder = LabelEncoder()\n",
    "labelEncoder.fit(book_readers['Marital status?'])\n",
    "book_readers['Marital status?'] = labelEncoder.transform(book_readers['Marital status?'])\n",
    "\n",
    "labelEncoder = LabelEncoder()\n",
    "labelEncoder.fit(book_readers['Education'])\n",
    "book_readers['Education'] = labelEncoder.transform(book_readers['Education'])\n",
    "\n",
    "labelEncoder = LabelEncoder()\n",
    "labelEncoder.fit(book_readers['Employement'])\n",
    "book_readers['Employement'] = labelEncoder.transform(book_readers['Employement'])\n",
    "\n",
    "labelEncoder = LabelEncoder()\n",
    "labelEncoder.fit(book_readers['Incomes'])\n",
    "book_readers['Incomes'] = labelEncoder.transform(book_readers['Incomes'])\n",
    "\n",
    "labelEncoder = LabelEncoder()\n",
    "labelEncoder.fit(book_readers['Do you happen to read any daily news or newspapers?'])\n",
    "book_readers['Do you happen to read any daily news or newspapers?'] = labelEncoder.transform(book_readers['Do you happen to read any daily news or newspapers?'])\n",
    "\n",
    "labelEncoder = LabelEncoder()\n",
    "labelEncoder.fit(book_readers['Do you happen to read any magazines or journals?'])\n",
    "book_readers['Do you happen to read any magazines or journals?'] = labelEncoder.transform(book_readers['Do you happen to read any magazines or journals?'])\n"
   ]
  },
  {
   "cell_type": "code",
   "execution_count": 17,
   "metadata": {},
   "outputs": [
    {
     "name": "stdout",
     "output_type": "stream",
     "text": [
      "<class 'pandas.core.frame.DataFrame'>\n",
      "RangeIndex: 2832 entries, 0 to 2831\n",
      "Data columns (total 14 columns):\n",
      " #   Column                                               Non-Null Count  Dtype\n",
      "---  ------                                               --------------  -----\n",
      " 0   Age                                                  2832 non-null   int64\n",
      " 1   Sex                                                  2832 non-null   int64\n",
      " 2   Race                                                 2832 non-null   int64\n",
      " 3   Marital status?                                      2832 non-null   int64\n",
      " 4   Education                                            2832 non-null   int64\n",
      " 5   Employement                                          2832 non-null   int64\n",
      " 6   Incomes                                              2832 non-null   int64\n",
      " 7   How many books did you read during last 12months?    2832 non-null   int64\n",
      " 8   Read any printed books during last 12months?         2832 non-null   uint8\n",
      " 9   Read any audiobooks during last 12months?            2832 non-null   uint8\n",
      " 10  Read any e-books during last 12months?               2832 non-null   uint8\n",
      " 11  Last book you read, you…                             2832 non-null   uint8\n",
      " 12  Do you happen to read any daily news or newspapers?  2832 non-null   int64\n",
      " 13  Do you happen to read any magazines or journals?     2832 non-null   int64\n",
      "dtypes: int64(10), uint8(4)\n",
      "memory usage: 232.4 KB\n"
     ]
    }
   ],
   "source": [
    "book_readers.info()"
   ]
  },
  {
   "cell_type": "code",
   "execution_count": 39,
   "metadata": {},
   "outputs": [],
   "source": [
    "# 4. Standardize the numerical columns using Standard Scaler\n",
    "from sklearn.preprocessing import StandardScaler\n"
   ]
  },
  {
   "cell_type": "code",
   "execution_count": 40,
   "metadata": {},
   "outputs": [],
   "source": [
    "book_readers_scaled = book_readers.copy()\n",
    "# list of all numerical columns\n",
    "\n",
    "int_columns = ['Age', 'How many books did you read during last 12months?']\n",
    "int_columns\n",
    "for col in book_readers[int_columns]:\n",
    "    scaler = StandardScaler()\n",
    "    scaler.fit(book_readers[col].values.reshape(-1,1))\n",
    "    book_readers_scaled[col] = scaler.fit_transform(book_readers[col].values.reshape(-1,1))\n",
    "    "
   ]
  },
  {
   "cell_type": "markdown",
   "metadata": {},
   "source": [
    "## Statistical & Mathematical Modelling"
   ]
  },
  {
   "cell_type": "code",
   "execution_count": 41,
   "metadata": {},
   "outputs": [],
   "source": [
    "# use k-mean algorithm to cluster book readers into 4 groups\n",
    "from sklearn.cluster import KMeans\n",
    "kmeans = KMeans(n_clusters=4)\n",
    "kmeans.fit(book_readers_scaled)\n",
    "pred= kmeans.predict(book_readers_scaled)"
   ]
  },
  {
   "cell_type": "code",
   "execution_count": 42,
   "metadata": {},
   "outputs": [],
   "source": [
    "book_readers_group= book_readers.copy()\n",
    "book_readers_group['cluster'] = pred"
   ]
  },
  {
   "cell_type": "code",
   "execution_count": 43,
   "metadata": {},
   "outputs": [
    {
     "data": {
      "text/plain": [
       "<matplotlib.axes._subplots.AxesSubplot at 0x1f6d4cac5e0>"
      ]
     },
     "execution_count": 43,
     "metadata": {},
     "output_type": "execute_result"
    },
    {
     "data": {
      "image/png": "[encoded data removed]",
      "text/plain": [
       "<Figure size 432x288 with 1 Axes>"
      ]
     },
     "metadata": {
      "needs_background": "light"
     },
     "output_type": "display_data"
    }
   ],
   "source": [
    "book_readers_group['cluster'].value_counts().plot(kind='bar')"
   ]
  },
  {
   "cell_type": "code",
   "execution_count": 44,
   "metadata": {},
   "outputs": [
    {
     "data": {
      "text/html": [
       "<div>\n",
       "<style scoped>\n",
       "    .dataframe tbody tr th:only-of-type {\n",
       "        vertical-align: middle;\n",
       "    }\n",
       "\n",
       "    .dataframe tbody tr th {\n",
       "        vertical-align: top;\n",
       "    }\n",
       "\n",
       "    .dataframe thead th {\n",
       "        text-align: right;\n",
       "    }\n",
       "</style>\n",
       "<table border=\"1\" class=\"dataframe\">\n",
       "  <thead>\n",
       "    <tr style=\"text-align: right;\">\n",
       "      <th></th>\n",
       "      <th>Age</th>\n",
       "      <th>Sex</th>\n",
       "      <th>Race</th>\n",
       "      <th>Marital status?</th>\n",
       "      <th>Education</th>\n",
       "      <th>Employement</th>\n",
       "      <th>Incomes</th>\n",
       "      <th>How many books did you read during last 12months?</th>\n",
       "      <th>Read any printed books during last 12months?</th>\n",
       "      <th>Read any audiobooks during last 12months?</th>\n",
       "      <th>Read any e-books during last 12months?</th>\n",
       "      <th>Last book you read, you…</th>\n",
       "      <th>Do you happen to read any daily news or newspapers?</th>\n",
       "      <th>Do you happen to read any magazines or journals?</th>\n",
       "      <th>cluster</th>\n",
       "    </tr>\n",
       "  </thead>\n",
       "  <tbody>\n",
       "    <tr>\n",
       "      <th>0</th>\n",
       "      <td>66</td>\n",
       "      <td>1</td>\n",
       "      <td>6</td>\n",
       "      <td>0</td>\n",
       "      <td>0</td>\n",
       "      <td>6</td>\n",
       "      <td>2</td>\n",
       "      <td>97</td>\n",
       "      <td>0</td>\n",
       "      <td>1</td>\n",
       "      <td>0</td>\n",
       "      <td>0</td>\n",
       "      <td>1</td>\n",
       "      <td>2</td>\n",
       "      <td>2</td>\n",
       "    </tr>\n",
       "    <tr>\n",
       "      <th>1</th>\n",
       "      <td>46</td>\n",
       "      <td>1</td>\n",
       "      <td>4</td>\n",
       "      <td>3</td>\n",
       "      <td>2</td>\n",
       "      <td>1</td>\n",
       "      <td>8</td>\n",
       "      <td>97</td>\n",
       "      <td>0</td>\n",
       "      <td>0</td>\n",
       "      <td>0</td>\n",
       "      <td>0</td>\n",
       "      <td>2</td>\n",
       "      <td>2</td>\n",
       "      <td>1</td>\n",
       "    </tr>\n",
       "    <tr>\n",
       "      <th>2</th>\n",
       "      <td>32</td>\n",
       "      <td>1</td>\n",
       "      <td>3</td>\n",
       "      <td>4</td>\n",
       "      <td>2</td>\n",
       "      <td>1</td>\n",
       "      <td>8</td>\n",
       "      <td>97</td>\n",
       "      <td>1</td>\n",
       "      <td>0</td>\n",
       "      <td>0</td>\n",
       "      <td>0</td>\n",
       "      <td>2</td>\n",
       "      <td>2</td>\n",
       "      <td>0</td>\n",
       "    </tr>\n",
       "    <tr>\n",
       "      <th>3</th>\n",
       "      <td>27</td>\n",
       "      <td>1</td>\n",
       "      <td>3</td>\n",
       "      <td>3</td>\n",
       "      <td>2</td>\n",
       "      <td>1</td>\n",
       "      <td>4</td>\n",
       "      <td>97</td>\n",
       "      <td>0</td>\n",
       "      <td>1</td>\n",
       "      <td>0</td>\n",
       "      <td>0</td>\n",
       "      <td>2</td>\n",
       "      <td>1</td>\n",
       "      <td>0</td>\n",
       "    </tr>\n",
       "    <tr>\n",
       "      <th>4</th>\n",
       "      <td>16</td>\n",
       "      <td>0</td>\n",
       "      <td>3</td>\n",
       "      <td>4</td>\n",
       "      <td>3</td>\n",
       "      <td>2</td>\n",
       "      <td>0</td>\n",
       "      <td>97</td>\n",
       "      <td>0</td>\n",
       "      <td>0</td>\n",
       "      <td>1</td>\n",
       "      <td>0</td>\n",
       "      <td>2</td>\n",
       "      <td>1</td>\n",
       "      <td>0</td>\n",
       "    </tr>\n",
       "  </tbody>\n",
       "</table>\n",
       "</div>"
      ],
      "text/plain": [
       "   Age  Sex  Race  Marital status?  Education  Employement  Incomes  \\\n",
       "0   66    1     6                0          0            6        2   \n",
       "1   46    1     4                3          2            1        8   \n",
       "2   32    1     3                4          2            1        8   \n",
       "3   27    1     3                3          2            1        4   \n",
       "4   16    0     3                4          3            2        0   \n",
       "\n",
       "   How many books did you read during last 12months?  \\\n",
       "0                                                 97   \n",
       "1                                                 97   \n",
       "2                                                 97   \n",
       "3                                                 97   \n",
       "4                                                 97   \n",
       "\n",
       "   Read any printed books during last 12months?  \\\n",
       "0                                             0   \n",
       "1                                             0   \n",
       "2                                             1   \n",
       "3                                             0   \n",
       "4                                             0   \n",
       "\n",
       "   Read any audiobooks during last 12months?  \\\n",
       "0                                          1   \n",
       "1                                          0   \n",
       "2                                          0   \n",
       "3                                          1   \n",
       "4                                          0   \n",
       "\n",
       "   Read any e-books during last 12months?  Last book you read, you…  \\\n",
       "0                                       0                         0   \n",
       "1                                       0                         0   \n",
       "2                                       0                         0   \n",
       "3                                       0                         0   \n",
       "4                                       1                         0   \n",
       "\n",
       "   Do you happen to read any daily news or newspapers?  \\\n",
       "0                                                  1     \n",
       "1                                                  2     \n",
       "2                                                  2     \n",
       "3                                                  2     \n",
       "4                                                  2     \n",
       "\n",
       "   Do you happen to read any magazines or journals?  cluster  \n",
       "0                                                 2        2  \n",
       "1                                                 2        1  \n",
       "2                                                 2        0  \n",
       "3                                                 1        0  \n",
       "4                                                 1        0  "
      ]
     },
     "execution_count": 44,
     "metadata": {},
     "output_type": "execute_result"
    }
   ],
   "source": [
    "book_readers_group.head()"
   ]
  },
  {
   "cell_type": "code",
   "execution_count": 45,
   "metadata": {},
   "outputs": [],
   "source": [
    "## Do the group by cluster and see the avr values of fields:\n",
    "book_readers_summary= book_readers_group.groupby('cluster', as_index=True).agg(avg_age=('Age', 'mean'),\n",
    "                                                                       avg_book_read_last_12mon= ('How many books did you read during last 12months?','mean'),\n",
    "                                                                       lines_count = ('Age', 'count'))"
   ]
  },
  {
   "cell_type": "code",
   "execution_count": 62,
   "metadata": {},
   "outputs": [
    {
     "data": {
      "text/html": [
       "<div>\n",
       "<style scoped>\n",
       "    .dataframe tbody tr th:only-of-type {\n",
       "        vertical-align: middle;\n",
       "    }\n",
       "\n",
       "    .dataframe tbody tr th {\n",
       "        vertical-align: top;\n",
       "    }\n",
       "\n",
       "    .dataframe thead th {\n",
       "        text-align: right;\n",
       "    }\n",
       "</style>\n",
       "<table border=\"1\" class=\"dataframe\">\n",
       "  <thead>\n",
       "    <tr style=\"text-align: right;\">\n",
       "      <th></th>\n",
       "      <th>avg_age</th>\n",
       "      <th>avg_book_read_last_12mon</th>\n",
       "      <th>lines_count</th>\n",
       "    </tr>\n",
       "    <tr>\n",
       "      <th>cluster</th>\n",
       "      <th></th>\n",
       "      <th></th>\n",
       "      <th></th>\n",
       "    </tr>\n",
       "  </thead>\n",
       "  <tbody>\n",
       "    <tr>\n",
       "      <th>0</th>\n",
       "      <td>39.991398</td>\n",
       "      <td>11.131183</td>\n",
       "      <td>465</td>\n",
       "    </tr>\n",
       "    <tr>\n",
       "      <th>1</th>\n",
       "      <td>51.207048</td>\n",
       "      <td>17.440529</td>\n",
       "      <td>681</td>\n",
       "    </tr>\n",
       "    <tr>\n",
       "      <th>2</th>\n",
       "      <td>46.664753</td>\n",
       "      <td>15.695752</td>\n",
       "      <td>871</td>\n",
       "    </tr>\n",
       "    <tr>\n",
       "      <th>3</th>\n",
       "      <td>48.802454</td>\n",
       "      <td>20.249080</td>\n",
       "      <td>815</td>\n",
       "    </tr>\n",
       "  </tbody>\n",
       "</table>\n",
       "</div>"
      ],
      "text/plain": [
       "           avg_age  avg_book_read_last_12mon  lines_count\n",
       "cluster                                                  \n",
       "0        39.991398                 11.131183          465\n",
       "1        51.207048                 17.440529          681\n",
       "2        46.664753                 15.695752          871\n",
       "3        48.802454                 20.249080          815"
      ]
     },
     "execution_count": 62,
     "metadata": {},
     "output_type": "execute_result"
    }
   ],
   "source": [
    "book_readers_summary"
   ]
  },
  {
   "cell_type": "code",
   "execution_count": 47,
   "metadata": {},
   "outputs": [
    {
     "data": {
      "text/html": [
       "<style  type=\"text/css\" >\n",
       "    #T_085c6315_308c_11eb_8b3c_5c879ce262cdrow0_col0 {\n",
       "            background-color:  #fff7fb;\n",
       "            color:  #000000;\n",
       "        }    #T_085c6315_308c_11eb_8b3c_5c879ce262cdrow0_col1 {\n",
       "            background-color:  #fff7fb;\n",
       "            color:  #000000;\n",
       "        }    #T_085c6315_308c_11eb_8b3c_5c879ce262cdrow0_col2 {\n",
       "            background-color:  #fff7fb;\n",
       "            color:  #000000;\n",
       "        }    #T_085c6315_308c_11eb_8b3c_5c879ce262cdrow1_col0 {\n",
       "            background-color:  #023858;\n",
       "            color:  #f1f1f1;\n",
       "        }    #T_085c6315_308c_11eb_8b3c_5c879ce262cdrow1_col1 {\n",
       "            background-color:  #1b7eb7;\n",
       "            color:  #000000;\n",
       "        }    #T_085c6315_308c_11eb_8b3c_5c879ce262cdrow1_col2 {\n",
       "            background-color:  #63a2cb;\n",
       "            color:  #000000;\n",
       "        }    #T_085c6315_308c_11eb_8b3c_5c879ce262cdrow2_col0 {\n",
       "            background-color:  #4496c3;\n",
       "            color:  #000000;\n",
       "        }    #T_085c6315_308c_11eb_8b3c_5c879ce262cdrow2_col1 {\n",
       "            background-color:  #73a9cf;\n",
       "            color:  #000000;\n",
       "        }    #T_085c6315_308c_11eb_8b3c_5c879ce262cdrow2_col2 {\n",
       "            background-color:  #023858;\n",
       "            color:  #f1f1f1;\n",
       "        }    #T_085c6315_308c_11eb_8b3c_5c879ce262cdrow3_col0 {\n",
       "            background-color:  #0569a5;\n",
       "            color:  #f1f1f1;\n",
       "        }    #T_085c6315_308c_11eb_8b3c_5c879ce262cdrow3_col1 {\n",
       "            background-color:  #023858;\n",
       "            color:  #f1f1f1;\n",
       "        }    #T_085c6315_308c_11eb_8b3c_5c879ce262cdrow3_col2 {\n",
       "            background-color:  #045c90;\n",
       "            color:  #f1f1f1;\n",
       "        }</style><table id=\"T_085c6315_308c_11eb_8b3c_5c879ce262cd\" ><thead>    <tr>        <th class=\"blank level0\" ></th>        <th class=\"col_heading level0 col0\" >avg_age</th>        <th class=\"col_heading level0 col1\" >avg_book_read_last_12mon</th>        <th class=\"col_heading level0 col2\" >lines_count</th>    </tr>    <tr>        <th class=\"index_name level0\" >cluster</th>        <th class=\"blank\" ></th>        <th class=\"blank\" ></th>        <th class=\"blank\" ></th>    </tr></thead><tbody>\n",
       "                <tr>\n",
       "                        <th id=\"T_085c6315_308c_11eb_8b3c_5c879ce262cdlevel0_row0\" class=\"row_heading level0 row0\" >0</th>\n",
       "                        <td id=\"T_085c6315_308c_11eb_8b3c_5c879ce262cdrow0_col0\" class=\"data row0 col0\" >39.991398</td>\n",
       "                        <td id=\"T_085c6315_308c_11eb_8b3c_5c879ce262cdrow0_col1\" class=\"data row0 col1\" >11.131183</td>\n",
       "                        <td id=\"T_085c6315_308c_11eb_8b3c_5c879ce262cdrow0_col2\" class=\"data row0 col2\" >465</td>\n",
       "            </tr>\n",
       "            <tr>\n",
       "                        <th id=\"T_085c6315_308c_11eb_8b3c_5c879ce262cdlevel0_row1\" class=\"row_heading level0 row1\" >1</th>\n",
       "                        <td id=\"T_085c6315_308c_11eb_8b3c_5c879ce262cdrow1_col0\" class=\"data row1 col0\" >51.207048</td>\n",
       "                        <td id=\"T_085c6315_308c_11eb_8b3c_5c879ce262cdrow1_col1\" class=\"data row1 col1\" >17.440529</td>\n",
       "                        <td id=\"T_085c6315_308c_11eb_8b3c_5c879ce262cdrow1_col2\" class=\"data row1 col2\" >681</td>\n",
       "            </tr>\n",
       "            <tr>\n",
       "                        <th id=\"T_085c6315_308c_11eb_8b3c_5c879ce262cdlevel0_row2\" class=\"row_heading level0 row2\" >2</th>\n",
       "                        <td id=\"T_085c6315_308c_11eb_8b3c_5c879ce262cdrow2_col0\" class=\"data row2 col0\" >46.664753</td>\n",
       "                        <td id=\"T_085c6315_308c_11eb_8b3c_5c879ce262cdrow2_col1\" class=\"data row2 col1\" >15.695752</td>\n",
       "                        <td id=\"T_085c6315_308c_11eb_8b3c_5c879ce262cdrow2_col2\" class=\"data row2 col2\" >871</td>\n",
       "            </tr>\n",
       "            <tr>\n",
       "                        <th id=\"T_085c6315_308c_11eb_8b3c_5c879ce262cdlevel0_row3\" class=\"row_heading level0 row3\" >3</th>\n",
       "                        <td id=\"T_085c6315_308c_11eb_8b3c_5c879ce262cdrow3_col0\" class=\"data row3 col0\" >48.802454</td>\n",
       "                        <td id=\"T_085c6315_308c_11eb_8b3c_5c879ce262cdrow3_col1\" class=\"data row3 col1\" >20.249080</td>\n",
       "                        <td id=\"T_085c6315_308c_11eb_8b3c_5c879ce262cdrow3_col2\" class=\"data row3 col2\" >815</td>\n",
       "            </tr>\n",
       "    </tbody></table>"
      ],
      "text/plain": [
       "<pandas.io.formats.style.Styler at 0x1f6d4d8be20>"
      ]
     },
     "execution_count": 47,
     "metadata": {},
     "output_type": "execute_result"
    }
   ],
   "source": [
    "# apply background gradient\n",
    "book_readers_summary.style.background_gradient()"
   ]
  },
  {
   "cell_type": "code",
   "execution_count": null,
   "metadata": {},
   "outputs": [],
   "source": []
  },
  {
   "cell_type": "code",
   "execution_count": null,
   "metadata": {},
   "outputs": [],
   "source": []
  }
 ],
 "metadata": {
  "kernelspec": {
   "display_name": "Python 3",
   "language": "python",
   "name": "python3"
  },
  "language_info": {
   "codemirror_mode": {
    "name": "ipython",
    "version": 3
   },
   "file_extension": ".py",
   "mimetype": "text/x-python",
   "name": "python",
   "nbconvert_exporter": "python",
   "pygments_lexer": "ipython3",
   "version": "3.6.12"
  }
 },
 "nbformat": 4,
 "nbformat_minor": 4
}
