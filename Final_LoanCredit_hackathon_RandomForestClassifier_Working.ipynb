{
 "cells": [
  {
   "cell_type": "code",
   "execution_count": 160,
   "metadata": {},
   "outputs": [],
   "source": [
    "import pandas as pd\n",
    "import numpy as np\n",
    "import matplotlib.pyplot as plt\n",
    "%matplotlib inline\n",
    "import seaborn as sns\n",
    "\n",
    "import statsmodels.api as sm\n",
    "from statsmodels.stats.outliers_influence import variance_inflation_factor\n",
    "\n",
    "from sklearn.linear_model import LinearRegression\n",
    "from sklearn.metrics import r2_score\n",
    "from sklearn.model_selection import train_test_split\n",
    "from sklearn.linear_model import LogisticRegression\n",
    "\n",
    "from sklearn.neighbors import KNeighborsClassifier\n",
    "from sklearn.tree import DecisionTreeClassifier\n",
    "from sklearn.ensemble import RandomForestClassifier\n",
    "from sklearn.svm import SVC"
   ]
  },
  {
   "cell_type": "code",
   "execution_count": 161,
   "metadata": {},
   "outputs": [],
   "source": [
    "# load and preview the dataset\n",
    "\n",
    "data = pd.read_csv(\"C:\\\\Users\\\\sumajhi\\\\Desktop\\\\data\\\\train.csv\")\n"
   ]
  },
  {
   "cell_type": "markdown",
   "metadata": {},
   "source": [
    "## Total number of features available , Missing values , their datatypes and their Types "
   ]
  },
  {
   "cell_type": "code",
   "execution_count": 162,
   "metadata": {},
   "outputs": [
    {
     "name": "stdout",
     "output_type": "stream",
     "text": [
      "<class 'pandas.core.frame.DataFrame'>\n",
      "RangeIndex: 79210 entries, 0 to 79209\n",
      "Data columns (total 41 columns):\n",
      " #   Column                               Non-Null Count  Dtype  \n",
      "---  ------                               --------------  -----  \n",
      " 0   customer_id                          79210 non-null  int64  \n",
      " 1   disbursed_amount                     79210 non-null  int64  \n",
      " 2   asset_cost                           79210 non-null  int64  \n",
      " 3   ltv                                  79210 non-null  float64\n",
      " 4   branch_id                            79210 non-null  int64  \n",
      " 5   supplier_id                          79210 non-null  int64  \n",
      " 6   manufacturer_id                      79210 non-null  int64  \n",
      " 7   current_pincode_id                   79210 non-null  int64  \n",
      " 8   date_of_birth                        25911 non-null  object \n",
      " 9   employment_type                      76294 non-null  object \n",
      " 10  disbursaldate                        79185 non-null  object \n",
      " 11  state_id                             79210 non-null  int64  \n",
      " 12  employee_code_id                     79210 non-null  int64  \n",
      " 13  mobileno_avl_flag                    79210 non-null  int64  \n",
      " 14  aadhar_flag                          79210 non-null  int64  \n",
      " 15  pan_flag                             79210 non-null  int64  \n",
      " 16  voterid_flag                         79210 non-null  int64  \n",
      " 17  driving_flag                         79210 non-null  int64  \n",
      " 18  passport_flag                        79210 non-null  int64  \n",
      " 19  perform_cns_score                    79210 non-null  int64  \n",
      " 20  perform_cns_score_description        79203 non-null  object \n",
      " 21  pri_no_of_accts                      79210 non-null  int64  \n",
      " 22  pri_active_accts                     79210 non-null  int64  \n",
      " 23  pri_overdue_accts                    79210 non-null  int64  \n",
      " 24  pri_current_balance                  79210 non-null  int64  \n",
      " 25  pri_sanctioned_amount                79210 non-null  int64  \n",
      " 26  pri_disbursed_amount                 79210 non-null  int64  \n",
      " 27  sec_no_of_accts                      79210 non-null  int64  \n",
      " 28  sec_active_accts                     79210 non-null  int64  \n",
      " 29  sec_overdue_accts                    79210 non-null  int64  \n",
      " 30  sec_current_balance                  79210 non-null  int64  \n",
      " 31  sec_sanctioned_amount                79210 non-null  int64  \n",
      " 32  sec_disbursed_amount                 79210 non-null  int64  \n",
      " 33  primary_instal_amt                   79210 non-null  int64  \n",
      " 34  sec_instal_amt                       79210 non-null  int64  \n",
      " 35  new_accts_in_last_six_months         79210 non-null  int64  \n",
      " 36  delinquent_accts_in_last_six_months  79210 non-null  int64  \n",
      " 37  average_acct_age                     79210 non-null  int64  \n",
      " 38  credit_history_length                79210 non-null  int64  \n",
      " 39  no_of_inquiries                      79210 non-null  int64  \n",
      " 40  loan_default                         79210 non-null  int64  \n",
      "dtypes: float64(1), int64(36), object(4)\n",
      "memory usage: 24.8+ MB\n",
      "None\n"
     ]
    }
   ],
   "source": [
    "print(data.info())\n"
   ]
  },
  {
   "cell_type": "code",
   "execution_count": 163,
   "metadata": {},
   "outputs": [
    {
     "data": {
      "text/html": [
       "<div>\n",
       "<style scoped>\n",
       "    .dataframe tbody tr th:only-of-type {\n",
       "        vertical-align: middle;\n",
       "    }\n",
       "\n",
       "    .dataframe tbody tr th {\n",
       "        vertical-align: top;\n",
       "    }\n",
       "\n",
       "    .dataframe thead th {\n",
       "        text-align: right;\n",
       "    }\n",
       "</style>\n",
       "<table border=\"1\" class=\"dataframe\">\n",
       "  <thead>\n",
       "    <tr style=\"text-align: right;\">\n",
       "      <th></th>\n",
       "      <th>customer_id</th>\n",
       "      <th>disbursed_amount</th>\n",
       "      <th>asset_cost</th>\n",
       "      <th>ltv</th>\n",
       "      <th>branch_id</th>\n",
       "      <th>supplier_id</th>\n",
       "      <th>manufacturer_id</th>\n",
       "      <th>current_pincode_id</th>\n",
       "      <th>date_of_birth</th>\n",
       "      <th>employment_type</th>\n",
       "      <th>...</th>\n",
       "      <th>sec_sanctioned_amount</th>\n",
       "      <th>sec_disbursed_amount</th>\n",
       "      <th>primary_instal_amt</th>\n",
       "      <th>sec_instal_amt</th>\n",
       "      <th>new_accts_in_last_six_months</th>\n",
       "      <th>delinquent_accts_in_last_six_months</th>\n",
       "      <th>average_acct_age</th>\n",
       "      <th>credit_history_length</th>\n",
       "      <th>no_of_inquiries</th>\n",
       "      <th>loan_default</th>\n",
       "    </tr>\n",
       "  </thead>\n",
       "  <tbody>\n",
       "    <tr>\n",
       "      <th>0</th>\n",
       "      <td>278331</td>\n",
       "      <td>33454</td>\n",
       "      <td>81230</td>\n",
       "      <td>41.34</td>\n",
       "      <td>64</td>\n",
       "      <td>23682</td>\n",
       "      <td>86</td>\n",
       "      <td>6577</td>\n",
       "      <td>NaN</td>\n",
       "      <td>Salaried</td>\n",
       "      <td>...</td>\n",
       "      <td>0</td>\n",
       "      <td>0</td>\n",
       "      <td>0</td>\n",
       "      <td>0</td>\n",
       "      <td>0</td>\n",
       "      <td>0</td>\n",
       "      <td>0</td>\n",
       "      <td>0</td>\n",
       "      <td>0</td>\n",
       "      <td>0</td>\n",
       "    </tr>\n",
       "    <tr>\n",
       "      <th>1</th>\n",
       "      <td>273442</td>\n",
       "      <td>38519</td>\n",
       "      <td>83511</td>\n",
       "      <td>48.32</td>\n",
       "      <td>8</td>\n",
       "      <td>23388</td>\n",
       "      <td>45</td>\n",
       "      <td>5657</td>\n",
       "      <td>01-01-1987</td>\n",
       "      <td>Self employed</td>\n",
       "      <td>...</td>\n",
       "      <td>0</td>\n",
       "      <td>0</td>\n",
       "      <td>0</td>\n",
       "      <td>0</td>\n",
       "      <td>0</td>\n",
       "      <td>0</td>\n",
       "      <td>0</td>\n",
       "      <td>0</td>\n",
       "      <td>0</td>\n",
       "      <td>0</td>\n",
       "    </tr>\n",
       "    <tr>\n",
       "      <th>2</th>\n",
       "      <td>135417</td>\n",
       "      <td>48647</td>\n",
       "      <td>68297</td>\n",
       "      <td>78.54</td>\n",
       "      <td>16</td>\n",
       "      <td>18059</td>\n",
       "      <td>86</td>\n",
       "      <td>2946</td>\n",
       "      <td>NaN</td>\n",
       "      <td>Self employed</td>\n",
       "      <td>...</td>\n",
       "      <td>0</td>\n",
       "      <td>0</td>\n",
       "      <td>0</td>\n",
       "      <td>0</td>\n",
       "      <td>0</td>\n",
       "      <td>0</td>\n",
       "      <td>0</td>\n",
       "      <td>0</td>\n",
       "      <td>0</td>\n",
       "      <td>1</td>\n",
       "    </tr>\n",
       "    <tr>\n",
       "      <th>3</th>\n",
       "      <td>218865</td>\n",
       "      <td>43775</td>\n",
       "      <td>60398</td>\n",
       "      <td>70.82</td>\n",
       "      <td>104</td>\n",
       "      <td>24132</td>\n",
       "      <td>86</td>\n",
       "      <td>7296</td>\n",
       "      <td>01-01-1980</td>\n",
       "      <td>Self employed</td>\n",
       "      <td>...</td>\n",
       "      <td>0</td>\n",
       "      <td>0</td>\n",
       "      <td>0</td>\n",
       "      <td>0</td>\n",
       "      <td>0</td>\n",
       "      <td>0</td>\n",
       "      <td>0</td>\n",
       "      <td>0</td>\n",
       "      <td>0</td>\n",
       "      <td>0</td>\n",
       "    </tr>\n",
       "    <tr>\n",
       "      <th>4</th>\n",
       "      <td>195543</td>\n",
       "      <td>45145</td>\n",
       "      <td>62650</td>\n",
       "      <td>74.29</td>\n",
       "      <td>65</td>\n",
       "      <td>22871</td>\n",
       "      <td>120</td>\n",
       "      <td>997</td>\n",
       "      <td>01-01-1990</td>\n",
       "      <td>Salaried</td>\n",
       "      <td>...</td>\n",
       "      <td>0</td>\n",
       "      <td>0</td>\n",
       "      <td>0</td>\n",
       "      <td>0</td>\n",
       "      <td>0</td>\n",
       "      <td>0</td>\n",
       "      <td>0</td>\n",
       "      <td>0</td>\n",
       "      <td>0</td>\n",
       "      <td>0</td>\n",
       "    </tr>\n",
       "  </tbody>\n",
       "</table>\n",
       "<p>5 rows × 41 columns</p>\n",
       "</div>"
      ],
      "text/plain": [
       "   customer_id  disbursed_amount  asset_cost    ltv  branch_id  supplier_id  \\\n",
       "0       278331             33454       81230  41.34         64        23682   \n",
       "1       273442             38519       83511  48.32          8        23388   \n",
       "2       135417             48647       68297  78.54         16        18059   \n",
       "3       218865             43775       60398  70.82        104        24132   \n",
       "4       195543             45145       62650  74.29         65        22871   \n",
       "\n",
       "   manufacturer_id  current_pincode_id date_of_birth employment_type  ...  \\\n",
       "0               86                6577           NaN        Salaried  ...   \n",
       "1               45                5657    01-01-1987   Self employed  ...   \n",
       "2               86                2946           NaN   Self employed  ...   \n",
       "3               86                7296    01-01-1980   Self employed  ...   \n",
       "4              120                 997    01-01-1990        Salaried  ...   \n",
       "\n",
       "  sec_sanctioned_amount  sec_disbursed_amount  primary_instal_amt  \\\n",
       "0                     0                     0                   0   \n",
       "1                     0                     0                   0   \n",
       "2                     0                     0                   0   \n",
       "3                     0                     0                   0   \n",
       "4                     0                     0                   0   \n",
       "\n",
       "   sec_instal_amt  new_accts_in_last_six_months  \\\n",
       "0               0                             0   \n",
       "1               0                             0   \n",
       "2               0                             0   \n",
       "3               0                             0   \n",
       "4               0                             0   \n",
       "\n",
       "   delinquent_accts_in_last_six_months  average_acct_age  \\\n",
       "0                                    0                 0   \n",
       "1                                    0                 0   \n",
       "2                                    0                 0   \n",
       "3                                    0                 0   \n",
       "4                                    0                 0   \n",
       "\n",
       "   credit_history_length  no_of_inquiries  loan_default  \n",
       "0                      0                0             0  \n",
       "1                      0                0             0  \n",
       "2                      0                0             1  \n",
       "3                      0                0             0  \n",
       "4                      0                0             0  \n",
       "\n",
       "[5 rows x 41 columns]"
      ]
     },
     "execution_count": 163,
     "metadata": {},
     "output_type": "execute_result"
    }
   ],
   "source": [
    "data.head()"
   ]
  },
  {
   "cell_type": "code",
   "execution_count": 5,
   "metadata": {},
   "outputs": [
    {
     "data": {
      "text/plain": [
       "(79210, 41)"
      ]
     },
     "execution_count": 5,
     "metadata": {},
     "output_type": "execute_result"
    }
   ],
   "source": [
    "data.shape"
   ]
  },
  {
   "cell_type": "code",
   "execution_count": 6,
   "metadata": {},
   "outputs": [
    {
     "data": {
      "text/html": [
       "<div>\n",
       "<style scoped>\n",
       "    .dataframe tbody tr th:only-of-type {\n",
       "        vertical-align: middle;\n",
       "    }\n",
       "\n",
       "    .dataframe tbody tr th {\n",
       "        vertical-align: top;\n",
       "    }\n",
       "\n",
       "    .dataframe thead th {\n",
       "        text-align: right;\n",
       "    }\n",
       "</style>\n",
       "<table border=\"1\" class=\"dataframe\">\n",
       "  <thead>\n",
       "    <tr style=\"text-align: right;\">\n",
       "      <th></th>\n",
       "      <th>customer_id</th>\n",
       "      <th>disbursed_amount</th>\n",
       "      <th>asset_cost</th>\n",
       "      <th>ltv</th>\n",
       "      <th>branch_id</th>\n",
       "      <th>supplier_id</th>\n",
       "      <th>manufacturer_id</th>\n",
       "      <th>current_pincode_id</th>\n",
       "      <th>state_id</th>\n",
       "      <th>employee_code_id</th>\n",
       "      <th>...</th>\n",
       "      <th>sec_sanctioned_amount</th>\n",
       "      <th>sec_disbursed_amount</th>\n",
       "      <th>primary_instal_amt</th>\n",
       "      <th>sec_instal_amt</th>\n",
       "      <th>new_accts_in_last_six_months</th>\n",
       "      <th>delinquent_accts_in_last_six_months</th>\n",
       "      <th>average_acct_age</th>\n",
       "      <th>credit_history_length</th>\n",
       "      <th>no_of_inquiries</th>\n",
       "      <th>loan_default</th>\n",
       "    </tr>\n",
       "  </thead>\n",
       "  <tbody>\n",
       "    <tr>\n",
       "      <th>count</th>\n",
       "      <td>79210.000000</td>\n",
       "      <td>79210.000000</td>\n",
       "      <td>79210.000000</td>\n",
       "      <td>79210.000000</td>\n",
       "      <td>79210.000000</td>\n",
       "      <td>79210.000000</td>\n",
       "      <td>79210.000000</td>\n",
       "      <td>79210.000000</td>\n",
       "      <td>79210.000000</td>\n",
       "      <td>79210.000000</td>\n",
       "      <td>...</td>\n",
       "      <td>7.921000e+04</td>\n",
       "      <td>7.921000e+04</td>\n",
       "      <td>7.921000e+04</td>\n",
       "      <td>79210.000000</td>\n",
       "      <td>79210.000000</td>\n",
       "      <td>79210.000000</td>\n",
       "      <td>79210.000000</td>\n",
       "      <td>79210.000000</td>\n",
       "      <td>79210.000000</td>\n",
       "      <td>79210.000000</td>\n",
       "    </tr>\n",
       "    <tr>\n",
       "      <th>mean</th>\n",
       "      <td>311205.514468</td>\n",
       "      <td>54373.342608</td>\n",
       "      <td>75113.071165</td>\n",
       "      <td>75.337312</td>\n",
       "      <td>72.408383</td>\n",
       "      <td>19489.261015</td>\n",
       "      <td>70.093094</td>\n",
       "      <td>3342.542621</td>\n",
       "      <td>7.159058</td>\n",
       "      <td>1531.144679</td>\n",
       "      <td>...</td>\n",
       "      <td>6.105680e+03</td>\n",
       "      <td>5.398753e+03</td>\n",
       "      <td>1.109649e+04</td>\n",
       "      <td>121.262315</td>\n",
       "      <td>0.384926</td>\n",
       "      <td>0.095013</td>\n",
       "      <td>8.590683</td>\n",
       "      <td>16.088688</td>\n",
       "      <td>0.178298</td>\n",
       "      <td>0.203156</td>\n",
       "    </tr>\n",
       "    <tr>\n",
       "      <th>std</th>\n",
       "      <td>108506.933745</td>\n",
       "      <td>12693.243730</td>\n",
       "      <td>17424.375193</td>\n",
       "      <td>11.285616</td>\n",
       "      <td>68.703384</td>\n",
       "      <td>3508.666653</td>\n",
       "      <td>22.476729</td>\n",
       "      <td>2188.088812</td>\n",
       "      <td>4.431790</td>\n",
       "      <td>968.860853</td>\n",
       "      <td>...</td>\n",
       "      <td>1.138702e+05</td>\n",
       "      <td>9.955199e+04</td>\n",
       "      <td>9.316931e+04</td>\n",
       "      <td>3676.676815</td>\n",
       "      <td>0.936074</td>\n",
       "      <td>0.383327</td>\n",
       "      <td>13.373491</td>\n",
       "      <td>27.017550</td>\n",
       "      <td>0.636051</td>\n",
       "      <td>0.402350</td>\n",
       "    </tr>\n",
       "    <tr>\n",
       "      <th>min</th>\n",
       "      <td>123460.000000</td>\n",
       "      <td>13990.000000</td>\n",
       "      <td>38116.000000</td>\n",
       "      <td>19.570000</td>\n",
       "      <td>1.000000</td>\n",
       "      <td>12312.000000</td>\n",
       "      <td>45.000000</td>\n",
       "      <td>1.000000</td>\n",
       "      <td>1.000000</td>\n",
       "      <td>1.000000</td>\n",
       "      <td>...</td>\n",
       "      <td>0.000000e+00</td>\n",
       "      <td>0.000000e+00</td>\n",
       "      <td>0.000000e+00</td>\n",
       "      <td>0.000000</td>\n",
       "      <td>0.000000</td>\n",
       "      <td>0.000000</td>\n",
       "      <td>0.000000</td>\n",
       "      <td>0.000000</td>\n",
       "      <td>0.000000</td>\n",
       "      <td>0.000000</td>\n",
       "    </tr>\n",
       "    <tr>\n",
       "      <th>25%</th>\n",
       "      <td>217297.750000</td>\n",
       "      <td>47151.750000</td>\n",
       "      <td>65832.000000</td>\n",
       "      <td>69.670000</td>\n",
       "      <td>15.000000</td>\n",
       "      <td>16294.000000</td>\n",
       "      <td>48.000000</td>\n",
       "      <td>1511.000000</td>\n",
       "      <td>4.000000</td>\n",
       "      <td>700.000000</td>\n",
       "      <td>...</td>\n",
       "      <td>0.000000e+00</td>\n",
       "      <td>0.000000e+00</td>\n",
       "      <td>0.000000e+00</td>\n",
       "      <td>0.000000</td>\n",
       "      <td>0.000000</td>\n",
       "      <td>0.000000</td>\n",
       "      <td>0.000000</td>\n",
       "      <td>0.000000</td>\n",
       "      <td>0.000000</td>\n",
       "      <td>0.000000</td>\n",
       "    </tr>\n",
       "    <tr>\n",
       "      <th>50%</th>\n",
       "      <td>311293.000000</td>\n",
       "      <td>53803.000000</td>\n",
       "      <td>70708.000000</td>\n",
       "      <td>77.320000</td>\n",
       "      <td>63.000000</td>\n",
       "      <td>18694.000000</td>\n",
       "      <td>86.000000</td>\n",
       "      <td>2949.000000</td>\n",
       "      <td>6.000000</td>\n",
       "      <td>1427.000000</td>\n",
       "      <td>...</td>\n",
       "      <td>0.000000e+00</td>\n",
       "      <td>0.000000e+00</td>\n",
       "      <td>0.000000e+00</td>\n",
       "      <td>0.000000</td>\n",
       "      <td>0.000000</td>\n",
       "      <td>0.000000</td>\n",
       "      <td>0.000000</td>\n",
       "      <td>0.000000</td>\n",
       "      <td>0.000000</td>\n",
       "      <td>0.000000</td>\n",
       "    </tr>\n",
       "    <tr>\n",
       "      <th>75%</th>\n",
       "      <td>404711.750000</td>\n",
       "      <td>60447.000000</td>\n",
       "      <td>78110.000000</td>\n",
       "      <td>84.140000</td>\n",
       "      <td>121.000000</td>\n",
       "      <td>22980.000000</td>\n",
       "      <td>86.000000</td>\n",
       "      <td>5437.000000</td>\n",
       "      <td>9.000000</td>\n",
       "      <td>2311.000000</td>\n",
       "      <td>...</td>\n",
       "      <td>0.000000e+00</td>\n",
       "      <td>0.000000e+00</td>\n",
       "      <td>1.950000e+03</td>\n",
       "      <td>0.000000</td>\n",
       "      <td>0.000000</td>\n",
       "      <td>0.000000</td>\n",
       "      <td>13.000000</td>\n",
       "      <td>24.000000</td>\n",
       "      <td>0.000000</td>\n",
       "      <td>0.000000</td>\n",
       "    </tr>\n",
       "    <tr>\n",
       "      <th>max</th>\n",
       "      <td>499996.000000</td>\n",
       "      <td>179176.000000</td>\n",
       "      <td>254177.000000</td>\n",
       "      <td>94.960000</td>\n",
       "      <td>261.000000</td>\n",
       "      <td>24779.000000</td>\n",
       "      <td>145.000000</td>\n",
       "      <td>7337.000000</td>\n",
       "      <td>22.000000</td>\n",
       "      <td>3780.000000</td>\n",
       "      <td>...</td>\n",
       "      <td>6.950353e+06</td>\n",
       "      <td>6.686746e+06</td>\n",
       "      <td>5.653513e+06</td>\n",
       "      <td>364153.000000</td>\n",
       "      <td>16.000000</td>\n",
       "      <td>7.000000</td>\n",
       "      <td>90.000000</td>\n",
       "      <td>166.000000</td>\n",
       "      <td>15.000000</td>\n",
       "      <td>1.000000</td>\n",
       "    </tr>\n",
       "  </tbody>\n",
       "</table>\n",
       "<p>8 rows × 37 columns</p>\n",
       "</div>"
      ],
      "text/plain": [
       "         customer_id  disbursed_amount     asset_cost           ltv  \\\n",
       "count   79210.000000      79210.000000   79210.000000  79210.000000   \n",
       "mean   311205.514468      54373.342608   75113.071165     75.337312   \n",
       "std    108506.933745      12693.243730   17424.375193     11.285616   \n",
       "min    123460.000000      13990.000000   38116.000000     19.570000   \n",
       "25%    217297.750000      47151.750000   65832.000000     69.670000   \n",
       "50%    311293.000000      53803.000000   70708.000000     77.320000   \n",
       "75%    404711.750000      60447.000000   78110.000000     84.140000   \n",
       "max    499996.000000     179176.000000  254177.000000     94.960000   \n",
       "\n",
       "          branch_id   supplier_id  manufacturer_id  current_pincode_id  \\\n",
       "count  79210.000000  79210.000000     79210.000000        79210.000000   \n",
       "mean      72.408383  19489.261015        70.093094         3342.542621   \n",
       "std       68.703384   3508.666653        22.476729         2188.088812   \n",
       "min        1.000000  12312.000000        45.000000            1.000000   \n",
       "25%       15.000000  16294.000000        48.000000         1511.000000   \n",
       "50%       63.000000  18694.000000        86.000000         2949.000000   \n",
       "75%      121.000000  22980.000000        86.000000         5437.000000   \n",
       "max      261.000000  24779.000000       145.000000         7337.000000   \n",
       "\n",
       "           state_id  employee_code_id  ...  sec_sanctioned_amount  \\\n",
       "count  79210.000000      79210.000000  ...           7.921000e+04   \n",
       "mean       7.159058       1531.144679  ...           6.105680e+03   \n",
       "std        4.431790        968.860853  ...           1.138702e+05   \n",
       "min        1.000000          1.000000  ...           0.000000e+00   \n",
       "25%        4.000000        700.000000  ...           0.000000e+00   \n",
       "50%        6.000000       1427.000000  ...           0.000000e+00   \n",
       "75%        9.000000       2311.000000  ...           0.000000e+00   \n",
       "max       22.000000       3780.000000  ...           6.950353e+06   \n",
       "\n",
       "       sec_disbursed_amount  primary_instal_amt  sec_instal_amt  \\\n",
       "count          7.921000e+04        7.921000e+04    79210.000000   \n",
       "mean           5.398753e+03        1.109649e+04      121.262315   \n",
       "std            9.955199e+04        9.316931e+04     3676.676815   \n",
       "min            0.000000e+00        0.000000e+00        0.000000   \n",
       "25%            0.000000e+00        0.000000e+00        0.000000   \n",
       "50%            0.000000e+00        0.000000e+00        0.000000   \n",
       "75%            0.000000e+00        1.950000e+03        0.000000   \n",
       "max            6.686746e+06        5.653513e+06   364153.000000   \n",
       "\n",
       "       new_accts_in_last_six_months  delinquent_accts_in_last_six_months  \\\n",
       "count                  79210.000000                         79210.000000   \n",
       "mean                       0.384926                             0.095013   \n",
       "std                        0.936074                             0.383327   \n",
       "min                        0.000000                             0.000000   \n",
       "25%                        0.000000                             0.000000   \n",
       "50%                        0.000000                             0.000000   \n",
       "75%                        0.000000                             0.000000   \n",
       "max                       16.000000                             7.000000   \n",
       "\n",
       "       average_acct_age  credit_history_length  no_of_inquiries  loan_default  \n",
       "count      79210.000000           79210.000000     79210.000000  79210.000000  \n",
       "mean           8.590683              16.088688         0.178298      0.203156  \n",
       "std           13.373491              27.017550         0.636051      0.402350  \n",
       "min            0.000000               0.000000         0.000000      0.000000  \n",
       "25%            0.000000               0.000000         0.000000      0.000000  \n",
       "50%            0.000000               0.000000         0.000000      0.000000  \n",
       "75%           13.000000              24.000000         0.000000      0.000000  \n",
       "max           90.000000             166.000000        15.000000      1.000000  \n",
       "\n",
       "[8 rows x 37 columns]"
      ]
     },
     "execution_count": 6,
     "metadata": {},
     "output_type": "execute_result"
    }
   ],
   "source": [
    "data.describe()"
   ]
  },
  {
   "cell_type": "markdown",
   "metadata": {},
   "source": [
    "## Target feature and its distribution"
   ]
  },
  {
   "cell_type": "code",
   "execution_count": 164,
   "metadata": {},
   "outputs": [
    {
     "data": {
      "text/plain": [
       "0    63118\n",
       "1    16092\n",
       "Name: loan_default, dtype: int64"
      ]
     },
     "execution_count": 164,
     "metadata": {},
     "output_type": "execute_result"
    }
   ],
   "source": [
    "data['loan_default'].value_counts()"
   ]
  },
  {
   "cell_type": "code",
   "execution_count": 165,
   "metadata": {},
   "outputs": [
    {
     "data": {
      "image/png": "[encoded data removed]",
      "text/plain": [
       "<Figure size 432x288 with 1 Axes>"
      ]
     },
     "metadata": {
      "needs_background": "light"
     },
     "output_type": "display_data"
    }
   ],
   "source": [
    "# distribution of loan default  charges\n",
    "\n",
    "plt.hist(data['loan_default'])\n",
    "plt.xlabel('loan_default')\n",
    "plt.ylabel('count')\n",
    "plt.show()\n"
   ]
  },
  {
   "cell_type": "markdown",
   "metadata": {},
   "source": [
    "## Unique Values of Categorical Columns"
   ]
  },
  {
   "cell_type": "code",
   "execution_count": 149,
   "metadata": {},
   "outputs": [
    {
     "name": "stdout",
     "output_type": "stream",
     "text": [
      "Self employed    44261\n",
      "Salaried         32033\n",
      "Name: employment_type, dtype: int64\n"
     ]
    }
   ],
   "source": [
    "print(data['employment_type'].value_counts())\n",
    "#print(data['perform_cns_score_description'].value_counts())\n",
    "#print(data['date_of_birth'].value_counts())"
   ]
  },
  {
   "cell_type": "markdown",
   "metadata": {},
   "source": [
    "## Explore Data"
   ]
  },
  {
   "cell_type": "markdown",
   "metadata": {},
   "source": [
    "### 1. Hypothesis Generation \n",
    "Emplyment Type with Loan_default\n",
    "cns score desc w with Loan_default"
   ]
  },
  {
   "cell_type": "code",
   "execution_count": 166,
   "metadata": {},
   "outputs": [
    {
     "data": {
      "image/png": "[encoded data removed]",
      "text/plain": [
       "<Figure size 720x360 with 2 Axes>"
      ]
     },
     "metadata": {
      "needs_background": "light"
     },
     "output_type": "display_data"
    }
   ],
   "source": [
    "# distribution of loan dafaukt as per the employment type\n",
    "\n",
    "plt.figure(figsize=(10,5))\n",
    "plt.subplot(121)\n",
    "plt.hist(data[(data['employment_type'] == \"Self employed\")]['loan_default'],color=\"red\")\n",
    "\n",
    "plt.subplot(122)\n",
    "plt.hist(data[(data['employment_type'] == \"Salaried\")]['loan_default'],color=\"green\")\n",
    "plt.show()"
   ]
  },
  {
   "cell_type": "code",
   "execution_count": 167,
   "metadata": {},
   "outputs": [
    {
     "data": {
      "image/png": "[encoded data removed]",
      "text/plain": [
       "<Figure size 1080x360 with 4 Axes>"
      ]
     },
     "metadata": {
      "needs_background": "light"
     },
     "output_type": "display_data"
    }
   ],
   "source": [
    "plt.figure(figsize=(15,5))\n",
    "\n",
    "plt.subplot(141)\n",
    "plt.hist(data[(data['perform_cns_score_description'] == \"F-Low Risk\")]['loan_default'],color=\"red\")\n",
    "\n",
    "plt.subplot(142)\n",
    "plt.hist(data[(data['perform_cns_score_description'] == \"M-Very High Risk\")]['loan_default'],color=\"yellow\")\n",
    "\n",
    "plt.subplot(143)\n",
    "plt.hist(data[(data['perform_cns_score_description'] == \"A-Very Low Risk\")]['loan_default'],color=\"green\")\n",
    "plt.subplot(144)\n",
    "plt.hist(data[(data['perform_cns_score_description'] == \"D-Very Low Risk\")]['loan_default'],color=\"blue\")\n",
    "\n",
    "plt.show()"
   ]
  },
  {
   "cell_type": "markdown",
   "metadata": {},
   "source": [
    "## Univariate Analysis for all the numerical columns "
   ]
  },
  {
   "cell_type": "code",
   "execution_count": 168,
   "metadata": {
    "scrolled": true
   },
   "outputs": [
    {
     "data": {
      "image/png": "[encoded data removed]",
      "text/plain": [
       "<Figure size 1080x720 with 42 Axes>"
      ]
     },
     "metadata": {
      "needs_background": "light"
     },
     "output_type": "display_data"
    }
   ],
   "source": [
    "ax = data.hist(bins=30, figsize=(15, 10))\n",
    "# disable axis labels to avoid the clutter\n",
    "for axis in ax.flatten():\n",
    "    axis.set_xticklabels([])\n",
    "    axis.set_yticklabels([])\n"
   ]
  },
  {
   "cell_type": "code",
   "execution_count": 169,
   "metadata": {},
   "outputs": [
    {
     "ename": "SyntaxError",
     "evalue": "invalid syntax (<ipython-input-169-a375288eb738>, line 1)",
     "output_type": "error",
     "traceback": [
      "\u001b[1;36m  File \u001b[1;32m\"<ipython-input-169-a375288eb738>\"\u001b[1;36m, line \u001b[1;32m1\u001b[0m\n\u001b[1;33m    data.boxplot([column='disbursed_amount'])\u001b[0m\n\u001b[1;37m                        ^\u001b[0m\n\u001b[1;31mSyntaxError\u001b[0m\u001b[1;31m:\u001b[0m invalid syntax\n"
     ]
    }
   ],
   "source": [
    "data.boxplot([column='disbursed_amount'])"
   ]
  },
  {
   "cell_type": "markdown",
   "metadata": {},
   "source": [
    "## For Categorical Columns "
   ]
  },
  {
   "cell_type": "code",
   "execution_count": 150,
   "metadata": {},
   "outputs": [
    {
     "data": {
      "image/png": "[encoded data removed]",
      "text/plain": [
       "<Figure size 432x288 with 1 Axes>"
      ]
     },
     "metadata": {
      "needs_background": "light"
     },
     "output_type": "display_data"
    }
   ],
   "source": [
    "sns.countplot(data['perform_cns_score_description']);\n"
   ]
  },
  {
   "cell_type": "code",
   "execution_count": 18,
   "metadata": {},
   "outputs": [
    {
     "data": {
      "image/png": "[encoded data removed]",
      "text/plain": [
       "<Figure size 432x288 with 1 Axes>"
      ]
     },
     "metadata": {
      "needs_background": "light"
     },
     "output_type": "display_data"
    }
   ],
   "source": [
    "sns.countplot(data['employment_type']);\n"
   ]
  },
  {
   "cell_type": "code",
   "execution_count": 17,
   "metadata": {},
   "outputs": [
    {
     "data": {
      "image/png": "[encoded data removed]",
      "text/plain": [
       "<Figure size 432x288 with 1 Axes>"
      ]
     },
     "metadata": {
      "needs_background": "light"
     },
     "output_type": "display_data"
    }
   ],
   "source": [
    "sns.countplot(data['date_of_birth']);\n"
   ]
  },
  {
   "cell_type": "markdown",
   "metadata": {},
   "source": [
    "## Analysing relationship between Numerical and target "
   ]
  },
  {
   "cell_type": "code",
   "execution_count": null,
   "metadata": {},
   "outputs": [],
   "source": [
    "sns.scatterplot(x=data['disbursed_amount'], y=data['loan_default']);"
   ]
  },
  {
   "cell_type": "code",
   "execution_count": 20,
   "metadata": {},
   "outputs": [
    {
     "data": {
      "image/png": "[encoded data removed]",
      "text/plain": [
       "<Figure size 432x288 with 1 Axes>"
      ]
     },
     "metadata": {
      "needs_background": "light"
     },
     "output_type": "display_data"
    }
   ],
   "source": [
    "sns.scatterplot(x=data['branch_id'], y=data['loan_default']);"
   ]
  },
  {
   "cell_type": "code",
   "execution_count": 19,
   "metadata": {},
   "outputs": [
    {
     "data": {
      "image/png": "[encoded data removed]",
      "text/plain": [
       "<Figure size 432x288 with 1 Axes>"
      ]
     },
     "metadata": {
      "needs_background": "light"
     },
     "output_type": "display_data"
    }
   ],
   "source": [
    "sns.scatterplot(x=data['perform_cns_score'], y=data['loan_default']);"
   ]
  },
  {
   "cell_type": "code",
   "execution_count": 21,
   "metadata": {},
   "outputs": [],
   "source": [
    " \n",
    "categorical = [\n",
    "  'employment_type', 'date_of_birth', 'perform_cns_score_description'\n",
    "]"
   ]
  },
  {
   "cell_type": "code",
   "execution_count": 22,
   "metadata": {},
   "outputs": [
    {
     "data": {
      "text/plain": [
       "array([<matplotlib.axes._subplots.AxesSubplot object at 0x000001EEEFD22A00>,\n",
       "       <matplotlib.axes._subplots.AxesSubplot object at 0x000001EEEEC34910>],\n",
       "      dtype=object)"
      ]
     },
     "execution_count": 22,
     "metadata": {},
     "output_type": "execute_result"
    },
    {
     "data": {
      "image/png": "[encoded data removed]",
      "text/plain": [
       "<Figure size 432x288 with 2 Axes>"
      ]
     },
     "metadata": {
      "needs_background": "light"
     },
     "output_type": "display_data"
    }
   ],
   "source": [
    "data.loan_default.hist(by=data.employment_type)\n"
   ]
  },
  {
   "cell_type": "code",
   "execution_count": 23,
   "metadata": {},
   "outputs": [
    {
     "data": {
      "image/png": "[encoded data removed]",
      "text/plain": [
       "<Figure size 1080x720 with 9 Axes>"
      ]
     },
     "metadata": {
      "needs_background": "light"
     },
     "output_type": "display_data"
    }
   ],
   "source": [
    "fig, ax = plt.subplots(3, 3, figsize=(15, 10))\n",
    "for var, subplot in zip(categorical, ax.flatten()):\n",
    "    sns.boxplot(x=var, y='loan_default', data=data, ax=subplot)"
   ]
  },
  {
   "cell_type": "markdown",
   "metadata": {},
   "source": [
    "## Handling Outliers \n"
   ]
  },
  {
   "cell_type": "code",
   "execution_count": null,
   "metadata": {},
   "outputs": [],
   "source": [
    "Q1,Q3 = data['average_acct_age'].quantile([0.25,0.75])\n",
    "IQR= Q3-Q1\n",
    "print(IQR)\n",
    "upper_range = Q3 + (1.5*IQR)\n",
    "print(upper_range)\n",
    "lower_range = Q3 + (1.5*IQR)\n",
    "print(upper_range)\n",
    "\n",
    "   \n",
    "     "
   ]
  },
  {
   "cell_type": "markdown",
   "metadata": {},
   "source": [
    "## Handling the Missing /Non null values for date_of_birth\n"
   ]
  },
  {
   "cell_type": "code",
   "execution_count": 24,
   "metadata": {},
   "outputs": [
    {
     "name": "stdout",
     "output_type": "stream",
     "text": [
      "53299\n",
      "25\n",
      "2916\n"
     ]
    }
   ],
   "source": [
    "print(data['date_of_birth'].isnull().sum())\n",
    "print(data['disbursaldate'].isnull().sum())\n",
    "print(data['employment_type'].isnull().sum())\n",
    "\n",
    "\n"
   ]
  },
  {
   "cell_type": "code",
   "execution_count": 170,
   "metadata": {},
   "outputs": [],
   "source": [
    "mode_data =data['date_of_birth'].mode().values[0]\n",
    "mode_emptype =data['employment_type'].mode().values[0]\n",
    "mode_datadisb =data['disbursaldate'].mode().values[0]\n"
   ]
  },
  {
   "cell_type": "code",
   "execution_count": 171,
   "metadata": {},
   "outputs": [],
   "source": [
    "data['date_of_birth'] = data['date_of_birth'].replace(np.nan,mode_data)\n",
    "data['disbursaldate'] = data['disbursaldate'].replace(np.nan,mode_datadisb)\n",
    "\n",
    "data['employment_type'] = data['employment_type'].replace(np.nan,mode_emptype)"
   ]
  },
  {
   "cell_type": "code",
   "execution_count": null,
   "metadata": {},
   "outputs": [],
   "source": [
    "#data = data.dropna()"
   ]
  },
  {
   "cell_type": "code",
   "execution_count": 153,
   "metadata": {},
   "outputs": [
    {
     "name": "stdout",
     "output_type": "stream",
     "text": [
      "0\n",
      "0\n",
      "0\n"
     ]
    }
   ],
   "source": [
    "print(data['date_of_birth'].isnull().sum())\n",
    "print(data['disbursaldate'].isnull().sum())\n",
    "print(data['employment_type'].isnull().sum())"
   ]
  },
  {
   "cell_type": "markdown",
   "metadata": {},
   "source": [
    "## Fetaure Engineering \n"
   ]
  },
  {
   "cell_type": "code",
   "execution_count": 172,
   "metadata": {},
   "outputs": [],
   "source": [
    "#Date Encoding \n",
    "data['date_of_birth'] = pd.to_datetime(data['date_of_birth'])\n",
    "\n",
    "#Create feature of day\n",
    "data['day']= data['date_of_birth'].dt.day\n",
    "#Create feature of month\n",
    "data['month']= data['date_of_birth'].dt.month\n",
    "#Create fetaure of year\n",
    "data['year']= data['date_of_birth'].dt.year\n",
    "\n",
    "\n",
    "#Drop date_of_birth Column \n",
    "data.drop(columns='date_of_birth',inplace=True)   "
   ]
  },
  {
   "cell_type": "markdown",
   "metadata": {},
   "source": [
    "## Removing irrelevant columns "
   ]
  },
  {
   "cell_type": "code",
   "execution_count": 173,
   "metadata": {},
   "outputs": [],
   "source": [
    "#Remove the customer_id as it doesnt have  any add on value \n",
    "data.drop(columns=['customer_id'],inplace = True)\n"
   ]
  },
  {
   "cell_type": "code",
   "execution_count": 174,
   "metadata": {},
   "outputs": [],
   "source": [
    "#Date Encoding \n",
    "data['disbursaldate'] = pd.to_datetime(data['disbursaldate'])\n",
    "\n",
    "#Create feature of day\n",
    "data['D_day']= data['disbursaldate'].dt.day\n",
    "#Create feature of month\n",
    "data['D_month']= data['disbursaldate'].dt.month\n",
    "#Drop date_of_birth Column \n",
    "data.drop(columns='disbursaldate',inplace=True)   "
   ]
  },
  {
   "cell_type": "code",
   "execution_count": 175,
   "metadata": {},
   "outputs": [
    {
     "name": "stdout",
     "output_type": "stream",
     "text": [
      "0\n"
     ]
    }
   ],
   "source": [
    "#Handling duplicate columns \n",
    "duplicate = data.duplicated()\n",
    "print(duplicate.sum())"
   ]
  },
  {
   "cell_type": "markdown",
   "metadata": {},
   "source": [
    "## Label Encoding "
   ]
  },
  {
   "cell_type": "code",
   "execution_count": 176,
   "metadata": {},
   "outputs": [],
   "source": [
    "from sklearn.preprocessing import LabelEncoder\n",
    "\n",
    " \n",
    "le = LabelEncoder()\n",
    "le.fit(data['employment_type'])\n",
    "data['employment_type'] = le.transform(data['employment_type'])"
   ]
  },
  {
   "cell_type": "markdown",
   "metadata": {},
   "source": [
    "# One_Hot Encoding "
   ]
  },
  {
   "cell_type": "code",
   "execution_count": 177,
   "metadata": {},
   "outputs": [],
   "source": [
    "data['perform_cns_score_description'].replace(\"Not Scored: Not Enough Info available on the customer\",\"Not_Scored\",inplace=True)\n",
    "data['perform_cns_score_description'].replace(\"Not Scored: Sufficient History Not Available\",\"Not_Scored\",inplace=True)\n",
    "data['perform_cns_score_description'].replace(\"Not Scored: No Updates available in last 36 months\",\"Not_Scored\",inplace=True)\n",
    "data['perform_cns_score_description'].replace(\"Not Scored: Only a Guarantor\",\"Not_Scored\",inplace=True)\n",
    "data['perform_cns_score_description'].replace(\"Not Scored: No Activity seen on the customer (Inactive)\",\"Not_Scored\",inplace=True)\n"
   ]
  },
  {
   "cell_type": "code",
   "execution_count": 178,
   "metadata": {},
   "outputs": [],
   "source": [
    "data =  pd.get_dummies(data,drop_first =True) "
   ]
  },
  {
   "cell_type": "code",
   "execution_count": null,
   "metadata": {},
   "outputs": [],
   "source": [
    "data.info()"
   ]
  },
  {
   "cell_type": "markdown",
   "metadata": {},
   "source": [
    "## 1. Multicollinearlity in independent variables\n"
   ]
  },
  {
   "cell_type": "code",
   "execution_count": 37,
   "metadata": {},
   "outputs": [
    {
     "data": {
      "text/html": [
       "<div>\n",
       "<style scoped>\n",
       "    .dataframe tbody tr th:only-of-type {\n",
       "        vertical-align: middle;\n",
       "    }\n",
       "\n",
       "    .dataframe tbody tr th {\n",
       "        vertical-align: top;\n",
       "    }\n",
       "\n",
       "    .dataframe thead th {\n",
       "        text-align: right;\n",
       "    }\n",
       "</style>\n",
       "<table border=\"1\" class=\"dataframe\">\n",
       "  <thead>\n",
       "    <tr style=\"text-align: right;\">\n",
       "      <th></th>\n",
       "      <th>disbursed_amount</th>\n",
       "      <th>asset_cost</th>\n",
       "      <th>ltv</th>\n",
       "      <th>branch_id</th>\n",
       "      <th>supplier_id</th>\n",
       "      <th>manufacturer_id</th>\n",
       "      <th>current_pincode_id</th>\n",
       "      <th>employment_type</th>\n",
       "      <th>state_id</th>\n",
       "      <th>employee_code_id</th>\n",
       "      <th>...</th>\n",
       "      <th>perform_cns_score_description_F-Low Risk</th>\n",
       "      <th>perform_cns_score_description_G-Low Risk</th>\n",
       "      <th>perform_cns_score_description_H-Medium Risk</th>\n",
       "      <th>perform_cns_score_description_I-Medium Risk</th>\n",
       "      <th>perform_cns_score_description_J-High Risk</th>\n",
       "      <th>perform_cns_score_description_K-High Risk</th>\n",
       "      <th>perform_cns_score_description_L-Very High Risk</th>\n",
       "      <th>perform_cns_score_description_M-Very High Risk</th>\n",
       "      <th>perform_cns_score_description_No Bureau History Available</th>\n",
       "      <th>perform_cns_score_description_Not_Scored</th>\n",
       "    </tr>\n",
       "  </thead>\n",
       "  <tbody>\n",
       "    <tr>\n",
       "      <th>0</th>\n",
       "      <td>33454</td>\n",
       "      <td>81230</td>\n",
       "      <td>41.34</td>\n",
       "      <td>64</td>\n",
       "      <td>23682</td>\n",
       "      <td>86</td>\n",
       "      <td>6577</td>\n",
       "      <td>0</td>\n",
       "      <td>13</td>\n",
       "      <td>1087</td>\n",
       "      <td>...</td>\n",
       "      <td>0</td>\n",
       "      <td>0</td>\n",
       "      <td>0</td>\n",
       "      <td>0</td>\n",
       "      <td>0</td>\n",
       "      <td>0</td>\n",
       "      <td>0</td>\n",
       "      <td>0</td>\n",
       "      <td>1</td>\n",
       "      <td>0</td>\n",
       "    </tr>\n",
       "    <tr>\n",
       "      <th>1</th>\n",
       "      <td>38519</td>\n",
       "      <td>83511</td>\n",
       "      <td>48.32</td>\n",
       "      <td>8</td>\n",
       "      <td>23388</td>\n",
       "      <td>45</td>\n",
       "      <td>5657</td>\n",
       "      <td>1</td>\n",
       "      <td>3</td>\n",
       "      <td>924</td>\n",
       "      <td>...</td>\n",
       "      <td>0</td>\n",
       "      <td>0</td>\n",
       "      <td>0</td>\n",
       "      <td>0</td>\n",
       "      <td>0</td>\n",
       "      <td>0</td>\n",
       "      <td>0</td>\n",
       "      <td>0</td>\n",
       "      <td>1</td>\n",
       "      <td>0</td>\n",
       "    </tr>\n",
       "    <tr>\n",
       "      <th>2</th>\n",
       "      <td>48647</td>\n",
       "      <td>68297</td>\n",
       "      <td>78.54</td>\n",
       "      <td>16</td>\n",
       "      <td>18059</td>\n",
       "      <td>86</td>\n",
       "      <td>2946</td>\n",
       "      <td>1</td>\n",
       "      <td>14</td>\n",
       "      <td>1127</td>\n",
       "      <td>...</td>\n",
       "      <td>0</td>\n",
       "      <td>0</td>\n",
       "      <td>0</td>\n",
       "      <td>0</td>\n",
       "      <td>0</td>\n",
       "      <td>0</td>\n",
       "      <td>0</td>\n",
       "      <td>0</td>\n",
       "      <td>1</td>\n",
       "      <td>0</td>\n",
       "    </tr>\n",
       "    <tr>\n",
       "      <th>3</th>\n",
       "      <td>43775</td>\n",
       "      <td>60398</td>\n",
       "      <td>70.82</td>\n",
       "      <td>104</td>\n",
       "      <td>24132</td>\n",
       "      <td>86</td>\n",
       "      <td>7296</td>\n",
       "      <td>1</td>\n",
       "      <td>13</td>\n",
       "      <td>1106</td>\n",
       "      <td>...</td>\n",
       "      <td>0</td>\n",
       "      <td>0</td>\n",
       "      <td>0</td>\n",
       "      <td>0</td>\n",
       "      <td>0</td>\n",
       "      <td>0</td>\n",
       "      <td>0</td>\n",
       "      <td>0</td>\n",
       "      <td>1</td>\n",
       "      <td>0</td>\n",
       "    </tr>\n",
       "    <tr>\n",
       "      <th>4</th>\n",
       "      <td>45145</td>\n",
       "      <td>62650</td>\n",
       "      <td>74.29</td>\n",
       "      <td>65</td>\n",
       "      <td>22871</td>\n",
       "      <td>120</td>\n",
       "      <td>997</td>\n",
       "      <td>0</td>\n",
       "      <td>6</td>\n",
       "      <td>2396</td>\n",
       "      <td>...</td>\n",
       "      <td>0</td>\n",
       "      <td>0</td>\n",
       "      <td>0</td>\n",
       "      <td>0</td>\n",
       "      <td>0</td>\n",
       "      <td>0</td>\n",
       "      <td>0</td>\n",
       "      <td>0</td>\n",
       "      <td>1</td>\n",
       "      <td>0</td>\n",
       "    </tr>\n",
       "  </tbody>\n",
       "</table>\n",
       "<p>5 rows × 55 columns</p>\n",
       "</div>"
      ],
      "text/plain": [
       "   disbursed_amount  asset_cost    ltv  branch_id  supplier_id  \\\n",
       "0             33454       81230  41.34         64        23682   \n",
       "1             38519       83511  48.32          8        23388   \n",
       "2             48647       68297  78.54         16        18059   \n",
       "3             43775       60398  70.82        104        24132   \n",
       "4             45145       62650  74.29         65        22871   \n",
       "\n",
       "   manufacturer_id  current_pincode_id  employment_type  state_id  \\\n",
       "0               86                6577                0        13   \n",
       "1               45                5657                1         3   \n",
       "2               86                2946                1        14   \n",
       "3               86                7296                1        13   \n",
       "4              120                 997                0         6   \n",
       "\n",
       "   employee_code_id  ...  perform_cns_score_description_F-Low Risk  \\\n",
       "0              1087  ...                                         0   \n",
       "1               924  ...                                         0   \n",
       "2              1127  ...                                         0   \n",
       "3              1106  ...                                         0   \n",
       "4              2396  ...                                         0   \n",
       "\n",
       "   perform_cns_score_description_G-Low Risk  \\\n",
       "0                                         0   \n",
       "1                                         0   \n",
       "2                                         0   \n",
       "3                                         0   \n",
       "4                                         0   \n",
       "\n",
       "   perform_cns_score_description_H-Medium Risk  \\\n",
       "0                                            0   \n",
       "1                                            0   \n",
       "2                                            0   \n",
       "3                                            0   \n",
       "4                                            0   \n",
       "\n",
       "   perform_cns_score_description_I-Medium Risk  \\\n",
       "0                                            0   \n",
       "1                                            0   \n",
       "2                                            0   \n",
       "3                                            0   \n",
       "4                                            0   \n",
       "\n",
       "   perform_cns_score_description_J-High Risk  \\\n",
       "0                                          0   \n",
       "1                                          0   \n",
       "2                                          0   \n",
       "3                                          0   \n",
       "4                                          0   \n",
       "\n",
       "   perform_cns_score_description_K-High Risk  \\\n",
       "0                                          0   \n",
       "1                                          0   \n",
       "2                                          0   \n",
       "3                                          0   \n",
       "4                                          0   \n",
       "\n",
       "   perform_cns_score_description_L-Very High Risk  \\\n",
       "0                                               0   \n",
       "1                                               0   \n",
       "2                                               0   \n",
       "3                                               0   \n",
       "4                                               0   \n",
       "\n",
       "   perform_cns_score_description_M-Very High Risk  \\\n",
       "0                                               0   \n",
       "1                                               0   \n",
       "2                                               0   \n",
       "3                                               0   \n",
       "4                                               0   \n",
       "\n",
       "   perform_cns_score_description_No Bureau History Available  \\\n",
       "0                                                  1           \n",
       "1                                                  1           \n",
       "2                                                  1           \n",
       "3                                                  1           \n",
       "4                                                  1           \n",
       "\n",
       "   perform_cns_score_description_Not_Scored  \n",
       "0                                         0  \n",
       "1                                         0  \n",
       "2                                         0  \n",
       "3                                         0  \n",
       "4                                         0  \n",
       "\n",
       "[5 rows x 55 columns]"
      ]
     },
     "execution_count": 37,
     "metadata": {},
     "output_type": "execute_result"
    }
   ],
   "source": [
    "#list of indepenedent and depenedent variable\n",
    "x_cols = data.drop(columns='loan_default').copy()\n",
    "y_cols=data['loan_default'].copy()\n",
    "x_cols.head()"
   ]
  },
  {
   "cell_type": "code",
   "execution_count": 38,
   "metadata": {},
   "outputs": [
    {
     "data": {
      "text/plain": [
       "<matplotlib.axes._subplots.AxesSubplot at 0x1eeef2e1970>"
      ]
     },
     "execution_count": 38,
     "metadata": {},
     "output_type": "execute_result"
    },
    {
     "data": {
      "image/png": "[encoded data removed]",
      "text/plain": [
       "<Figure size 432x288 with 2 Axes>"
      ]
     },
     "metadata": {
      "needs_background": "light"
     },
     "output_type": "display_data"
    }
   ],
   "source": [
    "\n",
    "sns.heatmap(x_cols.corr(),cmap='Oranges')"
   ]
  },
  {
   "cell_type": "code",
   "execution_count": 179,
   "metadata": {},
   "outputs": [
    {
     "data": {
      "text/html": [
       "<div>\n",
       "<style scoped>\n",
       "    .dataframe tbody tr th:only-of-type {\n",
       "        vertical-align: middle;\n",
       "    }\n",
       "\n",
       "    .dataframe tbody tr th {\n",
       "        vertical-align: top;\n",
       "    }\n",
       "\n",
       "    .dataframe thead th {\n",
       "        text-align: right;\n",
       "    }\n",
       "</style>\n",
       "<table border=\"1\" class=\"dataframe\">\n",
       "  <thead>\n",
       "    <tr style=\"text-align: right;\">\n",
       "      <th></th>\n",
       "      <th>VIF Factor</th>\n",
       "      <th>features</th>\n",
       "    </tr>\n",
       "  </thead>\n",
       "  <tbody>\n",
       "    <tr>\n",
       "      <th>0</th>\n",
       "      <td>4.735823</td>\n",
       "      <td>disbursed_amount</td>\n",
       "    </tr>\n",
       "    <tr>\n",
       "      <th>1</th>\n",
       "      <td>4.282196</td>\n",
       "      <td>asset_cost</td>\n",
       "    </tr>\n",
       "    <tr>\n",
       "      <th>2</th>\n",
       "      <td>2.715313</td>\n",
       "      <td>ltv</td>\n",
       "    </tr>\n",
       "    <tr>\n",
       "      <th>3</th>\n",
       "      <td>1.054805</td>\n",
       "      <td>branch_id</td>\n",
       "    </tr>\n",
       "    <tr>\n",
       "      <th>4</th>\n",
       "      <td>1.087220</td>\n",
       "      <td>supplier_id</td>\n",
       "    </tr>\n",
       "    <tr>\n",
       "      <th>5</th>\n",
       "      <td>1.026659</td>\n",
       "      <td>manufacturer_id</td>\n",
       "    </tr>\n",
       "    <tr>\n",
       "      <th>6</th>\n",
       "      <td>1.260402</td>\n",
       "      <td>current_pincode_id</td>\n",
       "    </tr>\n",
       "    <tr>\n",
       "      <th>7</th>\n",
       "      <td>1.061264</td>\n",
       "      <td>employment_type</td>\n",
       "    </tr>\n",
       "    <tr>\n",
       "      <th>8</th>\n",
       "      <td>1.062590</td>\n",
       "      <td>state_id</td>\n",
       "    </tr>\n",
       "    <tr>\n",
       "      <th>9</th>\n",
       "      <td>1.018607</td>\n",
       "      <td>employee_code_id</td>\n",
       "    </tr>\n",
       "    <tr>\n",
       "      <th>10</th>\n",
       "      <td>114381.377534</td>\n",
       "      <td>mobileno_avl_flag</td>\n",
       "    </tr>\n",
       "    <tr>\n",
       "      <th>11</th>\n",
       "      <td>7.752954</td>\n",
       "      <td>aadhar_flag</td>\n",
       "    </tr>\n",
       "    <tr>\n",
       "      <th>12</th>\n",
       "      <td>1.070238</td>\n",
       "      <td>pan_flag</td>\n",
       "    </tr>\n",
       "    <tr>\n",
       "      <th>13</th>\n",
       "      <td>6.844980</td>\n",
       "      <td>voterid_flag</td>\n",
       "    </tr>\n",
       "    <tr>\n",
       "      <th>14</th>\n",
       "      <td>1.792474</td>\n",
       "      <td>driving_flag</td>\n",
       "    </tr>\n",
       "    <tr>\n",
       "      <th>15</th>\n",
       "      <td>1.106858</td>\n",
       "      <td>passport_flag</td>\n",
       "    </tr>\n",
       "    <tr>\n",
       "      <th>16</th>\n",
       "      <td>127.145360</td>\n",
       "      <td>perform_cns_score</td>\n",
       "    </tr>\n",
       "    <tr>\n",
       "      <th>17</th>\n",
       "      <td>2.591861</td>\n",
       "      <td>pri_no_of_accts</td>\n",
       "    </tr>\n",
       "    <tr>\n",
       "      <th>18</th>\n",
       "      <td>4.218363</td>\n",
       "      <td>pri_active_accts</td>\n",
       "    </tr>\n",
       "    <tr>\n",
       "      <th>19</th>\n",
       "      <td>2.417108</td>\n",
       "      <td>pri_overdue_accts</td>\n",
       "    </tr>\n",
       "    <tr>\n",
       "      <th>20</th>\n",
       "      <td>4.043054</td>\n",
       "      <td>pri_current_balance</td>\n",
       "    </tr>\n",
       "    <tr>\n",
       "      <th>21</th>\n",
       "      <td>4.199901</td>\n",
       "      <td>pri_sanctioned_amount</td>\n",
       "    </tr>\n",
       "    <tr>\n",
       "      <th>22</th>\n",
       "      <td>3.649729</td>\n",
       "      <td>pri_disbursed_amount</td>\n",
       "    </tr>\n",
       "    <tr>\n",
       "      <th>23</th>\n",
       "      <td>2.068405</td>\n",
       "      <td>sec_no_of_accts</td>\n",
       "    </tr>\n",
       "    <tr>\n",
       "      <th>24</th>\n",
       "      <td>2.572828</td>\n",
       "      <td>sec_active_accts</td>\n",
       "    </tr>\n",
       "    <tr>\n",
       "      <th>25</th>\n",
       "      <td>1.390899</td>\n",
       "      <td>sec_overdue_accts</td>\n",
       "    </tr>\n",
       "    <tr>\n",
       "      <th>26</th>\n",
       "      <td>3.618509</td>\n",
       "      <td>sec_current_balance</td>\n",
       "    </tr>\n",
       "    <tr>\n",
       "      <th>27</th>\n",
       "      <td>4.297026</td>\n",
       "      <td>sec_sanctioned_amount</td>\n",
       "    </tr>\n",
       "    <tr>\n",
       "      <th>28</th>\n",
       "      <td>3.719247</td>\n",
       "      <td>sec_disbursed_amount</td>\n",
       "    </tr>\n",
       "    <tr>\n",
       "      <th>29</th>\n",
       "      <td>1.103563</td>\n",
       "      <td>primary_instal_amt</td>\n",
       "    </tr>\n",
       "    <tr>\n",
       "      <th>30</th>\n",
       "      <td>1.082745</td>\n",
       "      <td>sec_instal_amt</td>\n",
       "    </tr>\n",
       "    <tr>\n",
       "      <th>31</th>\n",
       "      <td>2.266920</td>\n",
       "      <td>new_accts_in_last_six_months</td>\n",
       "    </tr>\n",
       "    <tr>\n",
       "      <th>32</th>\n",
       "      <td>1.464635</td>\n",
       "      <td>delinquent_accts_in_last_six_months</td>\n",
       "    </tr>\n",
       "    <tr>\n",
       "      <th>33</th>\n",
       "      <td>4.722682</td>\n",
       "      <td>average_acct_age</td>\n",
       "    </tr>\n",
       "    <tr>\n",
       "      <th>34</th>\n",
       "      <td>4.927532</td>\n",
       "      <td>credit_history_length</td>\n",
       "    </tr>\n",
       "    <tr>\n",
       "      <th>35</th>\n",
       "      <td>1.087437</td>\n",
       "      <td>no_of_inquiries</td>\n",
       "    </tr>\n",
       "    <tr>\n",
       "      <th>36</th>\n",
       "      <td>1.429860</td>\n",
       "      <td>day</td>\n",
       "    </tr>\n",
       "    <tr>\n",
       "      <th>37</th>\n",
       "      <td>1.445077</td>\n",
       "      <td>month</td>\n",
       "    </tr>\n",
       "    <tr>\n",
       "      <th>38</th>\n",
       "      <td>1.055639</td>\n",
       "      <td>year</td>\n",
       "    </tr>\n",
       "    <tr>\n",
       "      <th>39</th>\n",
       "      <td>1.114827</td>\n",
       "      <td>D_day</td>\n",
       "    </tr>\n",
       "    <tr>\n",
       "      <th>40</th>\n",
       "      <td>1.124745</td>\n",
       "      <td>D_month</td>\n",
       "    </tr>\n",
       "    <tr>\n",
       "      <th>41</th>\n",
       "      <td>1.770193</td>\n",
       "      <td>perform_cns_score_description_B-Very Low Risk</td>\n",
       "    </tr>\n",
       "    <tr>\n",
       "      <th>42</th>\n",
       "      <td>2.770743</td>\n",
       "      <td>perform_cns_score_description_C-Very Low Risk</td>\n",
       "    </tr>\n",
       "    <tr>\n",
       "      <th>43</th>\n",
       "      <td>2.366965</td>\n",
       "      <td>perform_cns_score_description_D-Very Low Risk</td>\n",
       "    </tr>\n",
       "    <tr>\n",
       "      <th>44</th>\n",
       "      <td>1.755798</td>\n",
       "      <td>perform_cns_score_description_E-Low Risk</td>\n",
       "    </tr>\n",
       "    <tr>\n",
       "      <th>45</th>\n",
       "      <td>3.016974</td>\n",
       "      <td>perform_cns_score_description_F-Low Risk</td>\n",
       "    </tr>\n",
       "    <tr>\n",
       "      <th>46</th>\n",
       "      <td>2.009015</td>\n",
       "      <td>perform_cns_score_description_G-Low Risk</td>\n",
       "    </tr>\n",
       "    <tr>\n",
       "      <th>47</th>\n",
       "      <td>2.513519</td>\n",
       "      <td>perform_cns_score_description_H-Medium Risk</td>\n",
       "    </tr>\n",
       "    <tr>\n",
       "      <th>48</th>\n",
       "      <td>3.045561</td>\n",
       "      <td>perform_cns_score_description_I-Medium Risk</td>\n",
       "    </tr>\n",
       "    <tr>\n",
       "      <th>49</th>\n",
       "      <td>2.614179</td>\n",
       "      <td>perform_cns_score_description_J-High Risk</td>\n",
       "    </tr>\n",
       "    <tr>\n",
       "      <th>50</th>\n",
       "      <td>6.969326</td>\n",
       "      <td>perform_cns_score_description_K-High Risk</td>\n",
       "    </tr>\n",
       "    <tr>\n",
       "      <th>51</th>\n",
       "      <td>2.601028</td>\n",
       "      <td>perform_cns_score_description_L-Very High Risk</td>\n",
       "    </tr>\n",
       "    <tr>\n",
       "      <th>52</th>\n",
       "      <td>13.468191</td>\n",
       "      <td>perform_cns_score_description_M-Very High Risk</td>\n",
       "    </tr>\n",
       "    <tr>\n",
       "      <th>53</th>\n",
       "      <td>191.954819</td>\n",
       "      <td>perform_cns_score_description_No Bureau Histor...</td>\n",
       "    </tr>\n",
       "    <tr>\n",
       "      <th>54</th>\n",
       "      <td>31.101476</td>\n",
       "      <td>perform_cns_score_description_Not_Scored</td>\n",
       "    </tr>\n",
       "  </tbody>\n",
       "</table>\n",
       "</div>"
      ],
      "text/plain": [
       "       VIF Factor                                           features\n",
       "0        4.735823                                   disbursed_amount\n",
       "1        4.282196                                         asset_cost\n",
       "2        2.715313                                                ltv\n",
       "3        1.054805                                          branch_id\n",
       "4        1.087220                                        supplier_id\n",
       "5        1.026659                                    manufacturer_id\n",
       "6        1.260402                                 current_pincode_id\n",
       "7        1.061264                                    employment_type\n",
       "8        1.062590                                           state_id\n",
       "9        1.018607                                   employee_code_id\n",
       "10  114381.377534                                  mobileno_avl_flag\n",
       "11       7.752954                                        aadhar_flag\n",
       "12       1.070238                                           pan_flag\n",
       "13       6.844980                                       voterid_flag\n",
       "14       1.792474                                       driving_flag\n",
       "15       1.106858                                      passport_flag\n",
       "16     127.145360                                  perform_cns_score\n",
       "17       2.591861                                    pri_no_of_accts\n",
       "18       4.218363                                   pri_active_accts\n",
       "19       2.417108                                  pri_overdue_accts\n",
       "20       4.043054                                pri_current_balance\n",
       "21       4.199901                              pri_sanctioned_amount\n",
       "22       3.649729                               pri_disbursed_amount\n",
       "23       2.068405                                    sec_no_of_accts\n",
       "24       2.572828                                   sec_active_accts\n",
       "25       1.390899                                  sec_overdue_accts\n",
       "26       3.618509                                sec_current_balance\n",
       "27       4.297026                              sec_sanctioned_amount\n",
       "28       3.719247                               sec_disbursed_amount\n",
       "29       1.103563                                 primary_instal_amt\n",
       "30       1.082745                                     sec_instal_amt\n",
       "31       2.266920                       new_accts_in_last_six_months\n",
       "32       1.464635                delinquent_accts_in_last_six_months\n",
       "33       4.722682                                   average_acct_age\n",
       "34       4.927532                              credit_history_length\n",
       "35       1.087437                                    no_of_inquiries\n",
       "36       1.429860                                                day\n",
       "37       1.445077                                              month\n",
       "38       1.055639                                               year\n",
       "39       1.114827                                              D_day\n",
       "40       1.124745                                            D_month\n",
       "41       1.770193      perform_cns_score_description_B-Very Low Risk\n",
       "42       2.770743      perform_cns_score_description_C-Very Low Risk\n",
       "43       2.366965      perform_cns_score_description_D-Very Low Risk\n",
       "44       1.755798           perform_cns_score_description_E-Low Risk\n",
       "45       3.016974           perform_cns_score_description_F-Low Risk\n",
       "46       2.009015           perform_cns_score_description_G-Low Risk\n",
       "47       2.513519        perform_cns_score_description_H-Medium Risk\n",
       "48       3.045561        perform_cns_score_description_I-Medium Risk\n",
       "49       2.614179          perform_cns_score_description_J-High Risk\n",
       "50       6.969326          perform_cns_score_description_K-High Risk\n",
       "51       2.601028     perform_cns_score_description_L-Very High Risk\n",
       "52      13.468191     perform_cns_score_description_M-Very High Risk\n",
       "53     191.954819  perform_cns_score_description_No Bureau Histor...\n",
       "54      31.101476           perform_cns_score_description_Not_Scored"
      ]
     },
     "execution_count": 179,
     "metadata": {},
     "output_type": "execute_result"
    }
   ],
   "source": [
    "# For each X, calculate VIF and save in dataframe\n",
    "from statsmodels.stats.outliers_influence import variance_inflation_factor\n",
    "vif = pd.DataFrame()\n",
    "\n",
    "vif[\"VIF Factor\"] = [variance_inflation_factor(x_cols.values, i) for i in range(x_cols.shape[1])]\n",
    "vif[\"features\"] = x_cols.columns\n",
    "\n",
    "vif"
   ]
  },
  {
   "cell_type": "code",
   "execution_count": null,
   "metadata": {},
   "outputs": [],
   "source": [
    "x_cols.info()"
   ]
  },
  {
   "cell_type": "markdown",
   "metadata": {},
   "source": [
    "## Insignificant Columns as per VIF"
   ]
  },
  {
   "cell_type": "code",
   "execution_count": 180,
   "metadata": {},
   "outputs": [],
   "source": [
    "insignificant_cols = ['mobileno_avl_flag','perform_cns_score_description_K-High Risk','perform_cns_score','perform_cns_score_description_No Bureau History Available','perform_cns_score_description_M-Very High Risk']\n",
    "#insignificant_cols = ['mobileno_avl_flag','aadhar_flag','voterid_flag','perform_cns_score','perform_cns_score_description_No Bureau History Available','perform_cns_score_description_Not Scored: Not Enough Info available on the customer','perform_cns_score_description_Not Scored: No Activity seen on the customer (Inactive)','perform_cns_score_description_M-Very High Risk']\n"
   ]
  },
  {
   "cell_type": "markdown",
   "metadata": {},
   "source": [
    "## Split the dataset "
   ]
  },
  {
   "cell_type": "code",
   "execution_count": 181,
   "metadata": {},
   "outputs": [],
   "source": [
    "# split the dataset in train and test set\n",
    "\n",
    "X_train, X_test, y_train, y_test = train_test_split(x_cols,y_cols, test_size=0.25, random_state = 33)"
   ]
  },
  {
   "cell_type": "code",
   "execution_count": null,
   "metadata": {},
   "outputs": [],
   "source": [
    "# check the train and test set sizes\n",
    "print(X_train.shape)\n",
    "print(X_test.shape)"
   ]
  },
  {
   "cell_type": "code",
   "execution_count": 182,
   "metadata": {},
   "outputs": [],
   "source": [
    "num_cols = ['asset_cost', 'branch_id', 'supplier_id', 'manufacturer_id', 'current_pincode_id', 'state_id','employee_code_id','mobileno_avl_flag','aadhar_flag','pan_flag','voterid_flag','driving_flag','passport_flag','perform_cns_score','pri_no_of_accts','pri_active_accts','pri_overdue_accts','pri_current_balance','pri_sanctioned_amount','pri_disbursed_amount','sec_no_of_accts','sec_active_accts','sec_overdue_accts','sec_current_balance','sec_sanctioned_amount','sec_disbursed_amount','primary_instal_amt','sec_instal_amt','new_accts_in_last_six_months','delinquent_accts_in_last_six_months','average_acct_age','credit_history_length','no_of_inquiries','day','month','year','D_day','D_month']"
   ]
  },
  {
   "cell_type": "code",
   "execution_count": 183,
   "metadata": {},
   "outputs": [],
   "source": [
    "# scale the numerical variables use for loop for all the variables\n",
    "\n",
    "from sklearn.preprocessing import StandardScaler\n",
    "\n",
    "# create copy of X_train and x_test\n",
    "\n",
    "X_train_scaled = X_train.copy()\n",
    "X_test_scaled = X_test.copy()\n",
    "\n",
    "# for loop for scaling each numerical variable\n",
    "for col in num_cols:\n",
    "    scaler = StandardScaler()\n",
    "    scaler.fit(X_train_scaled[col].values.reshape(-1,1))\n",
    "\n",
    "    X_train_scaled[col] = scaler.transform(X_train_scaled[col].values.reshape(-1,1))\n",
    "    X_test_scaled[col] = scaler.transform(X_test_scaled[col].values.reshape(-1,1))\n",
    "\n",
    "# add constant to the scaled variables\n"
   ]
  },
  {
   "cell_type": "code",
   "execution_count": 184,
   "metadata": {},
   "outputs": [],
   "source": [
    "X_train_scaled_constant = sm.add_constant(X_train_scaled)\n",
    "X_test_scaled_constant = sm.add_constant(X_test_scaled)"
   ]
  },
  {
   "cell_type": "code",
   "execution_count": 185,
   "metadata": {},
   "outputs": [],
   "source": [
    "#significant_cols =['no_of_inquiries','year','perform_cns_score_description_No Bureau History Available','perform_cns_score_description_L-Very High Risk','perform_cns_score_description_I-Medium Risk','D_day','perform_cns_score_description_J-High Risk','perform_cns_score_description_B-Very Low Risk','current_pincode_id','perform_cns_score_description_K-High Risk','employment_type','state_id','pri_no_of_accts','pri_active_accts','delinquent_accts_in_last_six_months','credit_history_length']\n",
    "#significant_cols =['disbursed_amount','asset_cost','ltv','manufacturer_id','current_pincode_id','employment_type','state_id','employee_code_id','pri_no_of_accts','pri_active_accts','pri_overdue_accts','pri_current_balance','delinquent_accts_in_last_six_months','average_acct_age','credit_history_length','no_of_inquiries','year','perform_cns_score_description_B-Very Low Risk','perform_cns_score_description_C-Very Low Risk','perform_cns_score_description_D-Very Low Risk','perform_cns_score_description_E-Low Risk']\n",
    "significant_cols =['disbursed_amount','aadhar_flag','ltv','manufacturer_id','current_pincode_id','employment_type','state_id','pri_current_balance','employee_code_id','pri_no_of_accts','pri_active_accts','pri_overdue_accts','delinquent_accts_in_last_six_months','credit_history_length','no_of_inquiries','year','D_day','perform_cns_score_description_B-Very Low Risk','perform_cns_score_description_C-Very Low Risk','perform_cns_score_description_D-Very Low Risk','perform_cns_score_description_E-Low Risk']"
   ]
  },
  {
   "cell_type": "code",
   "execution_count": 186,
   "metadata": {},
   "outputs": [
    {
     "name": "stdout",
     "output_type": "stream",
     "text": [
      "Optimization terminated successfully.\n",
      "         Current function value: 0.505730\n",
      "         Iterations 6\n",
      "                           Logit Regression Results                           \n",
      "==============================================================================\n",
      "Dep. Variable:           loan_default   No. Observations:                59407\n",
      "Model:                          Logit   Df Residuals:                    59386\n",
      "Method:                           MLE   Df Model:                           20\n",
      "Date:                Sun, 20 Dec 2020   Pseudo R-squ.:               -0.003960\n",
      "Time:                        21:05:59   Log-Likelihood:                -30044.\n",
      "converged:                       True   LL-Null:                       -29925.\n",
      "Covariance Type:            nonrobust   LLR p-value:                     1.000\n",
      "=================================================================================================================\n",
      "                                                    coef    std err          z      P>|z|      [0.025      0.975]\n",
      "-----------------------------------------------------------------------------------------------------------------\n",
      "disbursed_amount                              -6.234e-07   8.46e-07     -0.737      0.461   -2.28e-06    1.04e-06\n",
      "aadhar_flag                                      -0.0478      0.010     -4.641      0.000      -0.068      -0.028\n",
      "ltv                                              -0.0158      0.001    -24.661      0.000      -0.017      -0.015\n",
      "manufacturer_id                                   0.0140      0.010      1.379      0.168      -0.006       0.034\n",
      "current_pincode_id                               -0.0300      0.011     -2.709      0.007      -0.052      -0.008\n",
      "employment_type                                  -0.0838      0.021     -4.043      0.000      -0.124      -0.043\n",
      "state_id                                          0.0637      0.010      6.303      0.000       0.044       0.084\n",
      "pri_current_balance                              -0.0793      0.018     -4.414      0.000      -0.115      -0.044\n",
      "employee_code_id                                  0.0393      0.010      3.855      0.000       0.019       0.059\n",
      "pri_no_of_accts                                  -0.0547      0.018     -3.095      0.002      -0.089      -0.020\n",
      "pri_active_accts                                 -0.0619      0.019     -3.269      0.001      -0.099      -0.025\n",
      "pri_overdue_accts                                 0.1207      0.012      9.991      0.000       0.097       0.144\n",
      "delinquent_accts_in_last_six_months               0.0803      0.011      7.004      0.000       0.058       0.103\n",
      "credit_history_length                            -0.1118      0.015     -7.696      0.000      -0.140      -0.083\n",
      "no_of_inquiries                                   0.1119      0.010     11.712      0.000       0.093       0.131\n",
      "year                                             -0.0343      0.010     -3.428      0.001      -0.054      -0.015\n",
      "D_day                                             0.0586      0.010      5.750      0.000       0.039       0.079\n",
      "perform_cns_score_description_B-Very Low Risk    -0.6090      0.066     -9.167      0.000      -0.739      -0.479\n",
      "perform_cns_score_description_C-Very Low Risk    -0.3759      0.044     -8.471      0.000      -0.463      -0.289\n",
      "perform_cns_score_description_D-Very Low Risk    -0.4348      0.061     -7.179      0.000      -0.554      -0.316\n",
      "perform_cns_score_description_E-Low Risk         -0.3864      0.091     -4.235      0.000      -0.565      -0.208\n",
      "=================================================================================================================\n"
     ]
    }
   ],
   "source": [
    "# fit the model with only significant features\n",
    "#significant_cols =['no_of_inquiries','year','perform_cns_score_description_No Bureau History Available','perform_cns_score_description_L-Very High Risk','perform_cns_score_description_I-Medium Risk','D_day','perform_cns_score_description_J-High Risk','perform_cns_score_description_B-Very Low Risk','current_pincode_id','perform_cns_score_description_K-High Risk','employment_type','state_id','pri_no_of_accts','pri_active_accts','delinquent_accts_in_last_six_months','credit_history_length']\n",
    "logit_model1 = sm.Logit(y_train, X_train_scaled_constant[significant_cols]).fit()\n",
    "print(logit_model1.summary())"
   ]
  },
  {
   "cell_type": "code",
   "execution_count": null,
   "metadata": {},
   "outputs": [],
   "source": [
    "significant_cols =['aadhar_flag','ltv','employment_type','state_id','pri_current_balance','employee_code_id','pri_no_of_accts','pri_active_accts','pri_overdue_accts','delinquent_accts_in_last_six_months','credit_history_length','no_of_inquiries','year','D_day','perform_cns_score_description_B-Very Low Risk','perform_cns_score_description_C-Very Low Risk','perform_cns_score_description_D-Very Low Risk','perform_cns_score_description_E-Low Risk']\n",
    "logit_model1 = sm.Logit(y_train, X_train_scaled_constant[significant_cols]).fit()\n",
    "print(logit_model1.summary())"
   ]
  },
  {
   "cell_type": "code",
   "execution_count": 187,
   "metadata": {},
   "outputs": [
    {
     "name": "stdout",
     "output_type": "stream",
     "text": [
      "              precision    recall  f1-score   support\n",
      "\n",
      "           0       0.88      0.33      0.48     15736\n",
      "           1       0.24      0.82      0.37      4067\n",
      "\n",
      "    accuracy                           0.43     19803\n",
      "   macro avg       0.56      0.58      0.43     19803\n",
      "weighted avg       0.75      0.43      0.46     19803\n",
      "\n",
      "0.37373061042294387\n"
     ]
    }
   ],
   "source": [
    "# predict the class and class probabilities on test set\n",
    "from sklearn import metrics\n",
    "\n",
    "lr = RandomForestClassifier(max_depth= 15,n_estimators =350)\n",
    "lr.fit(X_train_scaled, y_train)\n",
    "y_test_pred = lr.predict(X_test_scaled)\n",
    "y_test_pred_prob_dec = lr.predict_proba(X_test_scaled)[:,1]\n",
    "\n",
    "THRESHOLD = 0.163\n",
    "\n",
    "y_test_pred_new_dec = np.where(y_test_pred_prob_dec > THRESHOLD, 1, 0) \n",
    "print(metrics.classification_report(y_test,y_test_pred_new_dec))\n",
    "print(metrics.f1_score(y_test,y_test_pred_new_dec))"
   ]
  },
  {
   "cell_type": "code",
   "execution_count": 188,
   "metadata": {},
   "outputs": [
    {
     "name": "stderr",
     "output_type": "stream",
     "text": [
      "C:\\Users\\sumajhi\\Anaconda3\\lib\\site-packages\\sklearn\\utils\\validation.py:68: FutureWarning: Pass labels=[1, 0] as keyword args. From version 0.25 passing these as positional arguments will result in an error\n",
      "  warnings.warn(\"Pass {} as keyword args. From version 0.25 \"\n"
     ]
    },
    {
     "data": {
      "text/plain": [
       "array([[ 3349,   718],\n",
       "       [10506,  5230]], dtype=int64)"
      ]
     },
     "execution_count": 188,
     "metadata": {},
     "output_type": "execute_result"
    }
   ],
   "source": [
    "from sklearn import metrics\n",
    "\n",
    "metrics.confusion_matrix(y_test, y_test_pred_new_dec, [1,0])"
   ]
  },
  {
   "cell_type": "code",
   "execution_count": 189,
   "metadata": {},
   "outputs": [
    {
     "data": {
      "image/png": "[encoded data removed]",
      "text/plain": [
       "<Figure size 432x288 with 2 Axes>"
      ]
     },
     "metadata": {
      "needs_background": "light"
     },
     "output_type": "display_data"
    }
   ],
   "source": [
    "from sklearn import metrics \n",
    "\n",
    "def draw_cm( actual, predicted ):   \n",
    "    \n",
    "    cm = metrics.confusion_matrix( actual, predicted, [1,0] )    \n",
    "    \n",
    "    tn = cm[0,0]\n",
    "    fp = cm[0,1]\n",
    "    fn = cm[1,0]\n",
    "    tp = cm[1,1]\n",
    "    \n",
    "    cm = [[tp,fn],[fp,tn]]\n",
    "    \n",
    "    sns.heatmap(cm, annot=True,fmt='.2f', \n",
    "               xticklabels = [\"Good credit\", \"Bad Credit\"] ,\n",
    "               yticklabels = [\"Good credit\", \"Bad Credit\"] )   \n",
    "    plt.ylabel('True label')    \n",
    "    plt.xlabel('Predicted label')    \n",
    "    plt.show()\n",
    "\n",
    "draw_cm(y_test, y_test_pred_new_dec)"
   ]
  },
  {
   "cell_type": "markdown",
   "metadata": {},
   "source": [
    "## F1 Score and Accuracy Score"
   ]
  },
  {
   "cell_type": "code",
   "execution_count": 218,
   "metadata": {},
   "outputs": [
    {
     "name": "stdout",
     "output_type": "stream",
     "text": [
      "0.4332171893147503\n",
      "0.37373061042294387\n"
     ]
    }
   ],
   "source": [
    "print(metrics.accuracy_score(y_test, y_test_pred_new_dec))\n",
    "print(metrics.f1_score(y_test, y_test_pred_new_dec))"
   ]
  },
  {
   "cell_type": "code",
   "execution_count": 190,
   "metadata": {},
   "outputs": [
    {
     "data": {
      "image/png": "[encoded data removed]",
      "text/plain": [
       "<Figure size 576x432 with 1 Axes>"
      ]
     },
     "metadata": {
      "needs_background": "light"
     },
     "output_type": "display_data"
    }
   ],
   "source": [
    "def draw_roc( actual, probs ): \n",
    "    \n",
    "    # Obtain fpr,tpr and thresholds\n",
    "    fpr,tpr, thresholds = metrics.roc_curve( actual, probs, drop_intermediate = False )   \n",
    "    auc_score = metrics.roc_auc_score( actual, probs )    \n",
    "    \n",
    "    plt.figure(figsize=(8, 6))   \n",
    "    # plot fpr,tpr  for various thresholds\n",
    "    plt.plot( fpr, tpr, label='ROC curve (area = %0.2f)' % auc_score )    \n",
    "    # Draw diagonal line from origin to extreme right top\n",
    "    plt.plot([0, 1], [0, 1], 'k--')   \n",
    "    plt.xlim([0.0, 1.0])   \n",
    "    plt.ylim([0.0, 1.05])   \n",
    "    plt.xlabel('False Positive Rate or [1 - True Negative Rate]')   \n",
    "    plt.ylabel('True Positive Rate')   \n",
    "    plt.legend(loc=\"lower right\")   \n",
    "    plt.show()  \n",
    "    return fpr, tpr, thresholds \n",
    "\n",
    "fpr, tpr, thresholds = draw_roc(y_test, y_test_pred_new_dec)"
   ]
  },
  {
   "cell_type": "markdown",
   "metadata": {},
   "source": [
    "## F1 Score with Other models "
   ]
  },
  {
   "cell_type": "code",
   "execution_count": 191,
   "metadata": {},
   "outputs": [],
   "source": [
    "classifiers = [\n",
    "    LogisticRegression(),\n",
    "    \n",
    "    ]\n"
   ]
  },
  {
   "cell_type": "code",
   "execution_count": 193,
   "metadata": {},
   "outputs": [
    {
     "name": "stdout",
     "output_type": "stream",
     "text": [
      "LogisticRegression()\n",
      "              precision    recall  f1-score   support\n",
      "\n",
      "           0       0.84      0.20      0.33     15736\n",
      "           1       0.22      0.85      0.35      4067\n",
      "\n",
      "    accuracy                           0.34     19803\n",
      "   macro avg       0.53      0.53      0.34     19803\n",
      "weighted avg       0.72      0.34      0.33     19803\n",
      "\n",
      "0.3462516833757295\n",
      "**************************************************\n"
     ]
    }
   ],
   "source": [
    "for classifier in classifiers:\n",
    "    model = classifier\n",
    "    model.fit(X_train_scaled, y_train)\n",
    "    y_test_pred_prob_dec = model.predict_proba(X_test_scaled)[:,1] \n",
    "    THRESHOLD = 0.163\n",
    "    y_test_pred_new= np.where(y_test_pred_prob_dec > THRESHOLD, 1, 0) \n",
    "    print(classifier)\n",
    "    print(metrics.classification_report(y_test,y_test_pred_new))\n",
    "    print(metrics.f1_score(y_test,y_test_pred_new))\n",
    "    print('*'*50)"
   ]
  },
  {
   "cell_type": "markdown",
   "metadata": {},
   "source": [
    "## Prediction with test data.csv"
   ]
  },
  {
   "cell_type": "code",
   "execution_count": 200,
   "metadata": {},
   "outputs": [
    {
     "name": "stdout",
     "output_type": "stream",
     "text": [
      "<class 'pandas.core.frame.DataFrame'>\n",
      "RangeIndex: 19818 entries, 0 to 19817\n",
      "Data columns (total 40 columns):\n",
      " #   Column                               Non-Null Count  Dtype  \n",
      "---  ------                               --------------  -----  \n",
      " 0   customer_id                          19818 non-null  int64  \n",
      " 1   disbursed_amount                     19818 non-null  int64  \n",
      " 2   asset_cost                           19818 non-null  int64  \n",
      " 3   ltv                                  19818 non-null  float64\n",
      " 4   branch_id                            19818 non-null  int64  \n",
      " 5   supplier_id                          19818 non-null  int64  \n",
      " 6   manufacturer_id                      19818 non-null  int64  \n",
      " 7   current_pincode_id                   19818 non-null  int64  \n",
      " 8   date_of_birth                        6573 non-null   object \n",
      " 9   employment_type                      19104 non-null  object \n",
      " 10  disbursaldate                        19813 non-null  object \n",
      " 11  state_id                             19818 non-null  int64  \n",
      " 12  employee_code_id                     19818 non-null  int64  \n",
      " 13  mobileno_avl_flag                    19818 non-null  int64  \n",
      " 14  aadhar_flag                          19818 non-null  int64  \n",
      " 15  pan_flag                             19818 non-null  int64  \n",
      " 16  voterid_flag                         19818 non-null  int64  \n",
      " 17  driving_flag                         19818 non-null  int64  \n",
      " 18  passport_flag                        19818 non-null  int64  \n",
      " 19  perform_cns_score                    19818 non-null  int64  \n",
      " 20  perform_cns_score_description        19818 non-null  object \n",
      " 21  pri_no_of_accts                      19818 non-null  int64  \n",
      " 22  pri_active_accts                     19818 non-null  int64  \n",
      " 23  pri_overdue_accts                    19818 non-null  int64  \n",
      " 24  pri_current_balance                  19818 non-null  int64  \n",
      " 25  pri_sanctioned_amount                19818 non-null  int64  \n",
      " 26  pri_disbursed_amount                 19818 non-null  int64  \n",
      " 27  sec_no_of_accts                      19818 non-null  int64  \n",
      " 28  sec_active_accts                     19818 non-null  int64  \n",
      " 29  sec_overdue_accts                    19818 non-null  int64  \n",
      " 30  sec_current_balance                  19818 non-null  int64  \n",
      " 31  sec_sanctioned_amount                19818 non-null  int64  \n",
      " 32  sec_disbursed_amount                 19818 non-null  int64  \n",
      " 33  primary_instal_amt                   19818 non-null  int64  \n",
      " 34  sec_instal_amt                       19818 non-null  int64  \n",
      " 35  new_accts_in_last_six_months         19818 non-null  int64  \n",
      " 36  delinquent_accts_in_last_six_months  19818 non-null  int64  \n",
      " 37  average_acct_age                     19818 non-null  int64  \n",
      " 38  credit_history_length                19818 non-null  int64  \n",
      " 39  no_of_inquiries                      19818 non-null  int64  \n",
      "dtypes: float64(1), int64(35), object(4)\n",
      "memory usage: 6.0+ MB\n"
     ]
    }
   ],
   "source": [
    "\n",
    "data_test = pd.read_csv(\"C:\\\\Users\\\\sumajhi\\\\Desktop\\\\data\\\\test.csv\")\n",
    "data_test_write= data_test['customer_id']\n",
    "data_test.info()"
   ]
  },
  {
   "cell_type": "code",
   "execution_count": 201,
   "metadata": {},
   "outputs": [
    {
     "data": {
      "text/plain": [
       "0    461856\n",
       "1    286869\n",
       "2    274293\n",
       "3    387987\n",
       "4    214276\n",
       "Name: customer_id, dtype: int64"
      ]
     },
     "execution_count": 201,
     "metadata": {},
     "output_type": "execute_result"
    }
   ],
   "source": [
    "data_test_write.head()"
   ]
  },
  {
   "cell_type": "code",
   "execution_count": 203,
   "metadata": {},
   "outputs": [
    {
     "name": "stdout",
     "output_type": "stream",
     "text": [
      "0\n",
      "0\n",
      "0\n"
     ]
    }
   ],
   "source": [
    "mode_data_test =data_test['date_of_birth'].mode().values[0]\n",
    "mode_datadisb_test =data_test['disbursaldate'].mode().values[0]\n",
    "mode_emptype_test =data_test['employment_type'].mode().values[0]\n",
    " \n",
    "data_test['date_of_birth'] = data_test['date_of_birth'].replace(np.nan,mode_data_test)\n",
    "data_test['disbursaldate'] = data_test['disbursaldate'].replace(np.nan,mode_datadisb_test)\n",
    "data_test['employment_type'] = data_test['employment_type'].replace(np.nan,mode_emptype_test)\n",
    " \n",
    "print(data_test['employment_type'].isnull().sum())\n",
    "print(data_test['disbursaldate'].isnull().sum())\n",
    "print(data_test['date_of_birth'].isnull().sum())\n",
    " \n",
    "\n",
    "\n"
   ]
  },
  {
   "cell_type": "code",
   "execution_count": 204,
   "metadata": {},
   "outputs": [],
   "source": [
    "#Date Encoding \n",
    "data_test['date_of_birth'] = pd.to_datetime(data_test['date_of_birth'])\n",
    "\n",
    "#Create feature of day\n",
    "data_test['day']= data_test['date_of_birth'].dt.day\n",
    "#Create feature of month\n",
    "data_test['month']= data_test['date_of_birth'].dt.month\n",
    "#Create fetaure of year\n",
    "data_test['year']= data_test['date_of_birth'].dt.year\n",
    "\n",
    "#Date Encoding \n",
    "data_test['disbursaldate'] = pd.to_datetime(data_test['disbursaldate'])\n",
    "\n",
    "#Create feature of day\n",
    "data_test['D_day']= data_test['disbursaldate'].dt.day\n",
    "#Create feature of month\n",
    "data_test['D_month']= data_test['disbursaldate'].dt.month\n",
    " \n",
    "#Drop date_of_birth Column \n",
    "data_test.drop(columns='date_of_birth',inplace=True)   \n",
    "data_test.drop(columns='disbursaldate',inplace=True)   \n"
   ]
  },
  {
   "cell_type": "code",
   "execution_count": 205,
   "metadata": {},
   "outputs": [],
   "source": [
    "from sklearn.preprocessing import LabelEncoder\n",
    " \n",
    "le = LabelEncoder()\n",
    "le.fit(data_test['employment_type'])\n",
    "data_test['employment_type'] = le.transform(data_test['employment_type'])\n"
   ]
  },
  {
   "cell_type": "code",
   "execution_count": 206,
   "metadata": {},
   "outputs": [],
   "source": [
    "data_test['perform_cns_score_description'].replace(\"Not Scored: Not Enough Info available on the customer\",\"Not_Scored\",inplace=True)\n",
    "data_test['perform_cns_score_description'].replace(\"Not Scored: Sufficient History Not Available\",\"Not_Scored\",inplace=True)\n",
    "data_test['perform_cns_score_description'].replace(\"Not Scored: No Updates available in last 36 months\",\"Not_Scored\",inplace=True)\n",
    "data_test['perform_cns_score_description'].replace(\"Not Scored: Only a Guarantor\",\"Not_Scored\",inplace=True)\n",
    "data_test['perform_cns_score_description'].replace(\"Not Scored: No Activity seen on the customer (Inactive)\",\"Not_Scored\",inplace=True)\n",
    " \n"
   ]
  },
  {
   "cell_type": "code",
   "execution_count": 207,
   "metadata": {},
   "outputs": [],
   "source": [
    " data_test =  pd.get_dummies(data_test,drop_first =True) "
   ]
  },
  {
   "cell_type": "code",
   "execution_count": 208,
   "metadata": {},
   "outputs": [],
   "source": [
    "#Remove the customer_id as it doesnt have  any add on value \n",
    "data_test.drop(columns=['customer_id'],inplace = True)"
   ]
  },
  {
   "cell_type": "code",
   "execution_count": 209,
   "metadata": {},
   "outputs": [
    {
     "name": "stdout",
     "output_type": "stream",
     "text": [
      "[0 0 0 ... 1 1 1]\n"
     ]
    }
   ],
   "source": [
    " \n",
    "#Prediction with Logistic Regression \n",
    "y_test_pred_test =model.predict(data_test)\n",
    "print(y_test_pred_test)\n"
   ]
  },
  {
   "cell_type": "code",
   "execution_count": 210,
   "metadata": {},
   "outputs": [
    {
     "name": "stdout",
     "output_type": "stream",
     "text": [
      "[0 1 0 ... 0 0 0]\n"
     ]
    }
   ],
   "source": [
    "#Prediction with RandomForestClassifier\n",
    "y_test_pred_test_rf=lr.predict(data_test)\n",
    "print(y_test_pred_test_rf)\n",
    "\n"
   ]
  },
  {
   "cell_type": "code",
   "execution_count": 217,
   "metadata": {
    "scrolled": true
   },
   "outputs": [
    {
     "data": {
      "text/html": [
       "<div>\n",
       "<style scoped>\n",
       "    .dataframe tbody tr th:only-of-type {\n",
       "        vertical-align: middle;\n",
       "    }\n",
       "\n",
       "    .dataframe tbody tr th {\n",
       "        vertical-align: top;\n",
       "    }\n",
       "\n",
       "    .dataframe thead th {\n",
       "        text-align: right;\n",
       "    }\n",
       "</style>\n",
       "<table border=\"1\" class=\"dataframe\">\n",
       "  <thead>\n",
       "    <tr style=\"text-align: right;\">\n",
       "      <th></th>\n",
       "      <th>customer_id</th>\n",
       "      <th>loan_default</th>\n",
       "    </tr>\n",
       "  </thead>\n",
       "  <tbody>\n",
       "    <tr>\n",
       "      <th>19813</th>\n",
       "      <td>211494</td>\n",
       "      <td>1</td>\n",
       "    </tr>\n",
       "    <tr>\n",
       "      <th>19814</th>\n",
       "      <td>272979</td>\n",
       "      <td>0</td>\n",
       "    </tr>\n",
       "    <tr>\n",
       "      <th>19815</th>\n",
       "      <td>229972</td>\n",
       "      <td>1</td>\n",
       "    </tr>\n",
       "    <tr>\n",
       "      <th>19816</th>\n",
       "      <td>149560</td>\n",
       "      <td>1</td>\n",
       "    </tr>\n",
       "    <tr>\n",
       "      <th>19817</th>\n",
       "      <td>216801</td>\n",
       "      <td>1</td>\n",
       "    </tr>\n",
       "  </tbody>\n",
       "</table>\n",
       "</div>"
      ],
      "text/plain": [
       "       customer_id  loan_default\n",
       "19813       211494             1\n",
       "19814       272979             0\n",
       "19815       229972             1\n",
       "19816       149560             1\n",
       "19817       216801             1"
      ]
     },
     "execution_count": 217,
     "metadata": {},
     "output_type": "execute_result"
    }
   ],
   "source": [
    "#Logistic Regression \n",
    "submission = pd.DataFrame({\n",
    "    'customer_id': data_test_write,\n",
    "    'loan_default': y_test_pred_test\n",
    "})\n",
    "submission.tail()"
   ]
  },
  {
   "cell_type": "code",
   "execution_count": 215,
   "metadata": {},
   "outputs": [
    {
     "data": {
      "text/html": [
       "<div>\n",
       "<style scoped>\n",
       "    .dataframe tbody tr th:only-of-type {\n",
       "        vertical-align: middle;\n",
       "    }\n",
       "\n",
       "    .dataframe tbody tr th {\n",
       "        vertical-align: top;\n",
       "    }\n",
       "\n",
       "    .dataframe thead th {\n",
       "        text-align: right;\n",
       "    }\n",
       "</style>\n",
       "<table border=\"1\" class=\"dataframe\">\n",
       "  <thead>\n",
       "    <tr style=\"text-align: right;\">\n",
       "      <th></th>\n",
       "      <th>customer_id</th>\n",
       "      <th>loan_default</th>\n",
       "    </tr>\n",
       "  </thead>\n",
       "  <tbody>\n",
       "    <tr>\n",
       "      <th>0</th>\n",
       "      <td>461856</td>\n",
       "      <td>0</td>\n",
       "    </tr>\n",
       "    <tr>\n",
       "      <th>1</th>\n",
       "      <td>286869</td>\n",
       "      <td>1</td>\n",
       "    </tr>\n",
       "    <tr>\n",
       "      <th>2</th>\n",
       "      <td>274293</td>\n",
       "      <td>0</td>\n",
       "    </tr>\n",
       "    <tr>\n",
       "      <th>3</th>\n",
       "      <td>387987</td>\n",
       "      <td>0</td>\n",
       "    </tr>\n",
       "    <tr>\n",
       "      <th>4</th>\n",
       "      <td>214276</td>\n",
       "      <td>0</td>\n",
       "    </tr>\n",
       "  </tbody>\n",
       "</table>\n",
       "</div>"
      ],
      "text/plain": [
       "   customer_id  loan_default\n",
       "0       461856             0\n",
       "1       286869             1\n",
       "2       274293             0\n",
       "3       387987             0\n",
       "4       214276             0"
      ]
     },
     "execution_count": 215,
     "metadata": {},
     "output_type": "execute_result"
    }
   ],
   "source": [
    "\n",
    "#RandomClassifier\n",
    "submission_rf = pd.DataFrame({\n",
    "    'customer_id': data_test_write,\n",
    "    'loan_default': y_test_pred_test_rf\n",
    "})\n",
    "submission_rf.head()"
   ]
  },
  {
   "cell_type": "code",
   "execution_count": 213,
   "metadata": {},
   "outputs": [],
   "source": [
    "submission.to_csv('C:\\\\Users\\\\sumajhi\\\\Desktop\\\\data\\\\submission.csv', index=False)"
   ]
  },
  {
   "cell_type": "code",
   "execution_count": 214,
   "metadata": {},
   "outputs": [],
   "source": [
    "submission_rf.to_csv('C:\\\\Users\\\\sumajhi\\\\Desktop\\\\data\\\\submission_rf.csv', index=False)"
   ]
  },
  {
   "cell_type": "code",
   "execution_count": null,
   "metadata": {},
   "outputs": [],
   "source": []
  }
 ],
 "metadata": {
  "kernelspec": {
   "display_name": "Python 3",
   "language": "python",
   "name": "python3"
  },
  "language_info": {
   "codemirror_mode": {
    "name": "ipython",
    "version": 3
   },
   "file_extension": ".py",
   "mimetype": "text/x-python",
   "name": "python",
   "nbconvert_exporter": "python",
   "pygments_lexer": "ipython3",
   "version": "3.8.3"
  }
 },
 "nbformat": 4,
 "nbformat_minor": 4
}
